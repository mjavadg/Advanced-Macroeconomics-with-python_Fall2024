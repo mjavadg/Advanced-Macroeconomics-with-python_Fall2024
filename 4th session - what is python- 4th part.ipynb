{
 "cells": [
  {
   "cell_type": "markdown",
   "id": "ddce5b81",
   "metadata": {},
   "source": [
    "# Forth Session"
   ]
  },
  {
   "cell_type": "markdown",
   "id": "23c4ca66",
   "metadata": {},
   "source": [
    "## What is python? part 4"
   ]
  },
  {
   "cell_type": "markdown",
   "id": "e87e7e75",
   "metadata": {},
   "source": [
    "## More on numerical data types"
   ]
  },
  {
   "cell_type": "markdown",
   "id": "d96719bb",
   "metadata": {},
   "source": [
    "### Remainder"
   ]
  },
  {
   "cell_type": "code",
   "execution_count": 1,
   "id": "ed6757e0",
   "metadata": {},
   "outputs": [
    {
     "name": "stdout",
     "output_type": "stream",
     "text": [
      "3.0\n"
     ]
    }
   ],
   "source": [
    "print(9 / 3)"
   ]
  },
  {
   "cell_type": "code",
   "execution_count": 2,
   "id": "f3082c0a",
   "metadata": {},
   "outputs": [],
   "source": [
    "a = 10 / 3"
   ]
  },
  {
   "cell_type": "code",
   "execution_count": 3,
   "id": "642082ec",
   "metadata": {},
   "outputs": [
    {
     "data": {
      "text/plain": [
       "float"
      ]
     },
     "execution_count": 3,
     "metadata": {},
     "output_type": "execute_result"
    }
   ],
   "source": [
    "type(a)"
   ]
  },
  {
   "cell_type": "code",
   "execution_count": 4,
   "id": "48dcbcdf",
   "metadata": {},
   "outputs": [
    {
     "data": {
      "text/plain": [
       "1"
      ]
     },
     "execution_count": 4,
     "metadata": {},
     "output_type": "execute_result"
    }
   ],
   "source": [
    "# remainder operator\n",
    "10 % 3"
   ]
  },
  {
   "cell_type": "markdown",
   "id": "46d66f4d",
   "metadata": {},
   "source": [
    "### Floor division"
   ]
  },
  {
   "cell_type": "code",
   "execution_count": 5,
   "id": "27819b19",
   "metadata": {},
   "outputs": [
    {
     "data": {
      "text/plain": [
       "3"
      ]
     },
     "execution_count": 5,
     "metadata": {},
     "output_type": "execute_result"
    }
   ],
   "source": [
    "10 // 3"
   ]
  },
  {
   "cell_type": "code",
   "execution_count": 6,
   "id": "2e6f4947",
   "metadata": {},
   "outputs": [
    {
     "data": {
      "text/plain": [
       "11"
      ]
     },
     "execution_count": 6,
     "metadata": {},
     "output_type": "execute_result"
    }
   ],
   "source": [
    "100 // 9"
   ]
  },
  {
   "cell_type": "markdown",
   "id": "13b6169d",
   "metadata": {},
   "source": [
    "### Exponential"
   ]
  },
  {
   "cell_type": "code",
   "execution_count": 7,
   "id": "407704d2",
   "metadata": {},
   "outputs": [
    {
     "data": {
      "text/plain": [
       "32768"
      ]
     },
     "execution_count": 7,
     "metadata": {},
     "output_type": "execute_result"
    }
   ],
   "source": [
    "8 ** 5"
   ]
  },
  {
   "cell_type": "code",
   "execution_count": 8,
   "id": "dc5c700a",
   "metadata": {},
   "outputs": [
    {
     "data": {
      "text/plain": [
       "8"
      ]
     },
     "execution_count": 8,
     "metadata": {},
     "output_type": "execute_result"
    }
   ],
   "source": [
    "2 ** 3"
   ]
  },
  {
   "cell_type": "markdown",
   "id": "c05dd4a9",
   "metadata": {},
   "source": [
    "### using libraries"
   ]
  },
  {
   "cell_type": "code",
   "execution_count": 9,
   "id": "fc9b5a35",
   "metadata": {},
   "outputs": [
    {
     "data": {
      "text/plain": [
       "2.718281828459045"
      ]
     },
     "execution_count": 9,
     "metadata": {},
     "output_type": "execute_result"
    }
   ],
   "source": [
    "import math\n",
    "\n",
    "math.e"
   ]
  },
  {
   "cell_type": "code",
   "execution_count": 10,
   "id": "35da1f30",
   "metadata": {},
   "outputs": [
    {
     "data": {
      "text/plain": [
       "float"
      ]
     },
     "execution_count": 10,
     "metadata": {},
     "output_type": "execute_result"
    }
   ],
   "source": [
    "type(math.e)"
   ]
  },
  {
   "cell_type": "markdown",
   "id": "47125fc4",
   "metadata": {},
   "source": [
    "### range() function"
   ]
  },
  {
   "cell_type": "code",
   "execution_count": 11,
   "id": "34aad3d1",
   "metadata": {},
   "outputs": [
    {
     "data": {
      "text/plain": [
       "range(8, 20)"
      ]
     },
     "execution_count": 11,
     "metadata": {},
     "output_type": "execute_result"
    }
   ],
   "source": [
    "range(8, 20)"
   ]
  },
  {
   "cell_type": "code",
   "execution_count": 12,
   "id": "985b8607",
   "metadata": {},
   "outputs": [
    {
     "data": {
      "text/plain": [
       "[8, 9, 10, 11, 12, 13, 14, 15, 16, 17, 18, 19]"
      ]
     },
     "execution_count": 12,
     "metadata": {},
     "output_type": "execute_result"
    }
   ],
   "source": [
    "list(range(8, 20))"
   ]
  },
  {
   "cell_type": "markdown",
   "id": "c6440a0f",
   "metadata": {},
   "source": [
    "### start in inclusive but end is exclusive"
   ]
  },
  {
   "cell_type": "code",
   "execution_count": 14,
   "id": "9605a329",
   "metadata": {},
   "outputs": [
    {
     "data": {
      "text/plain": [
       "(8, 10, 12, 14, 16, 18)"
      ]
     },
     "execution_count": 14,
     "metadata": {},
     "output_type": "execute_result"
    }
   ],
   "source": [
    "tuple(range(8, 20, 2)) #last argument is step"
   ]
  },
  {
   "cell_type": "markdown",
   "id": "c8668da2",
   "metadata": {},
   "source": [
    "# *set data type*"
   ]
  },
  {
   "cell_type": "code",
   "execution_count": 15,
   "id": "7b7f77fd",
   "metadata": {},
   "outputs": [],
   "source": [
    "w = list(list(range(8, 20)))\n",
    "v = tuple(range(8, 20, 2))"
   ]
  },
  {
   "cell_type": "code",
   "execution_count": 16,
   "id": "942b9690",
   "metadata": {},
   "outputs": [
    {
     "name": "stdout",
     "output_type": "stream",
     "text": [
      "[8, 9, 10, 11, 12, 13, 14, 15, 16, 17, 18, 19]\n",
      "(8, 10, 12, 14, 16, 18)\n"
     ]
    }
   ],
   "source": [
    "print(w, v, sep = \"\\n\")"
   ]
  },
  {
   "cell_type": "markdown",
   "id": "2f0b3643",
   "metadata": {},
   "source": [
    "### set() function"
   ]
  },
  {
   "cell_type": "code",
   "execution_count": 17,
   "id": "9d0fe320",
   "metadata": {},
   "outputs": [
    {
     "data": {
      "text/plain": [
       "{8, 9, 10, 11, 12, 13, 14, 15, 16, 17, 18, 19}"
      ]
     },
     "execution_count": 17,
     "metadata": {},
     "output_type": "execute_result"
    }
   ],
   "source": [
    "set(w)"
   ]
  },
  {
   "cell_type": "code",
   "execution_count": 18,
   "id": "7ee08f75",
   "metadata": {},
   "outputs": [],
   "source": [
    "o = set(w)\n",
    "p = set(v)"
   ]
  },
  {
   "cell_type": "code",
   "execution_count": 19,
   "id": "669c82e6",
   "metadata": {},
   "outputs": [
    {
     "name": "stdout",
     "output_type": "stream",
     "text": [
      "<class 'set'>\n",
      "<class 'set'>\n"
     ]
    }
   ],
   "source": [
    "print(type(o))\n",
    "print(type(o))"
   ]
  },
  {
   "cell_type": "code",
   "execution_count": 22,
   "id": "391dbb72",
   "metadata": {},
   "outputs": [],
   "source": [
    "#dir(set)"
   ]
  },
  {
   "cell_type": "markdown",
   "id": "b1b7c657",
   "metadata": {},
   "source": [
    "## set methods"
   ]
  },
  {
   "cell_type": "markdown",
   "id": "e110682c",
   "metadata": {},
   "source": [
    "'add',\n",
    " 'clear',\n",
    " 'copy',\n",
    " 'difference',\n",
    " 'difference_update',\n",
    " 'discard',\n",
    " 'intersection',\n",
    " 'intersection_update',\n",
    " 'isdisjoint',\n",
    " 'issubset',\n",
    " 'issuperset',\n",
    " 'pop',\n",
    " 'remove',\n",
    " 'symmetric_difference',\n",
    " 'symmetric_difference_update',\n",
    " 'union',\n",
    " 'update'"
   ]
  },
  {
   "cell_type": "code",
   "execution_count": 23,
   "id": "bc32e580",
   "metadata": {},
   "outputs": [
    {
     "data": {
      "text/plain": [
       "{8, 10, 12, 14, 16, 18}"
      ]
     },
     "execution_count": 23,
     "metadata": {},
     "output_type": "execute_result"
    }
   ],
   "source": [
    "o.intersection(p) #اشتراک گرفتن"
   ]
  },
  {
   "cell_type": "code",
   "execution_count": 24,
   "id": "5868915a",
   "metadata": {},
   "outputs": [
    {
     "data": {
      "text/plain": [
       "{8, 9, 10, 11, 12, 13, 14, 15, 16, 17, 18, 19}"
      ]
     },
     "execution_count": 24,
     "metadata": {},
     "output_type": "execute_result"
    }
   ],
   "source": [
    "o.union(p) #اتحاد گرفتن"
   ]
  },
  {
   "cell_type": "code",
   "execution_count": 26,
   "id": "40770737",
   "metadata": {},
   "outputs": [
    {
     "data": {
      "text/plain": [
       "8"
      ]
     },
     "execution_count": 26,
     "metadata": {},
     "output_type": "execute_result"
    }
   ],
   "source": [
    "o.pop()"
   ]
  },
  {
   "cell_type": "code",
   "execution_count": 27,
   "id": "19ed9938",
   "metadata": {},
   "outputs": [
    {
     "data": {
      "text/plain": [
       "{9, 10, 11, 12, 13, 14, 15, 16, 17, 18, 19}"
      ]
     },
     "execution_count": 27,
     "metadata": {},
     "output_type": "execute_result"
    }
   ],
   "source": [
    "o"
   ]
  },
  {
   "cell_type": "markdown",
   "id": "57aae01b",
   "metadata": {},
   "source": [
    "## *boolean data types*"
   ]
  },
  {
   "cell_type": "code",
   "execution_count": 29,
   "id": "5a23e688",
   "metadata": {},
   "outputs": [
    {
     "data": {
      "text/plain": [
       "2"
      ]
     },
     "execution_count": 29,
     "metadata": {},
     "output_type": "execute_result"
    }
   ],
   "source": [
    "True + 1"
   ]
  },
  {
   "cell_type": "code",
   "execution_count": 31,
   "id": "ded5e56b",
   "metadata": {},
   "outputs": [
    {
     "data": {
      "text/plain": [
       "1"
      ]
     },
     "execution_count": 31,
     "metadata": {},
     "output_type": "execute_result"
    }
   ],
   "source": [
    "False + 1"
   ]
  },
  {
   "cell_type": "markdown",
   "id": "ccbb7508",
   "metadata": {},
   "source": [
    "## boolean operators"
   ]
  },
  {
   "cell_type": "code",
   "execution_count": 32,
   "id": "64b07e6c",
   "metadata": {},
   "outputs": [
    {
     "data": {
      "text/plain": [
       "True"
      ]
     },
     "execution_count": 32,
     "metadata": {},
     "output_type": "execute_result"
    }
   ],
   "source": [
    "1 == 1 #equal"
   ]
  },
  {
   "cell_type": "code",
   "execution_count": 34,
   "id": "fad556e0",
   "metadata": {},
   "outputs": [
    {
     "data": {
      "text/plain": [
       "True"
      ]
     },
     "execution_count": 34,
     "metadata": {},
     "output_type": "execute_result"
    }
   ],
   "source": [
    "1 != 2 #not equal"
   ]
  },
  {
   "cell_type": "code",
   "execution_count": 36,
   "id": "d45f4c6e",
   "metadata": {},
   "outputs": [
    {
     "data": {
      "text/plain": [
       "True"
      ]
     },
     "execution_count": 36,
     "metadata": {},
     "output_type": "execute_result"
    }
   ],
   "source": [
    "1 > 0 #greater than"
   ]
  },
  {
   "cell_type": "code",
   "execution_count": 38,
   "id": "cc09676d",
   "metadata": {},
   "outputs": [
    {
     "data": {
      "text/plain": [
       "False"
      ]
     },
     "execution_count": 38,
     "metadata": {},
     "output_type": "execute_result"
    }
   ],
   "source": [
    "\"Hello\" == \"hello\""
   ]
  },
  {
   "cell_type": "code",
   "execution_count": 41,
   "id": "5dde9cd1",
   "metadata": {},
   "outputs": [
    {
     "data": {
      "text/plain": [
       "False"
      ]
     },
     "execution_count": 41,
     "metadata": {},
     "output_type": "execute_result"
    }
   ],
   "source": [
    "len(\"Hello\") < len(\"hello\") # Less than"
   ]
  },
  {
   "cell_type": "code",
   "execution_count": 42,
   "id": "83671a60",
   "metadata": {},
   "outputs": [
    {
     "data": {
      "text/plain": [
       "True"
      ]
     },
     "execution_count": 42,
     "metadata": {},
     "output_type": "execute_result"
    }
   ],
   "source": [
    "5.1 >= 5 #greater than or equal to "
   ]
  },
  {
   "cell_type": "code",
   "execution_count": 44,
   "id": "f3a8460a",
   "metadata": {},
   "outputs": [
    {
     "data": {
      "text/plain": [
       "True"
      ]
     },
     "execution_count": 44,
     "metadata": {},
     "output_type": "execute_result"
    }
   ],
   "source": [
    "5.1 <= 5.2 #less than or equal to"
   ]
  },
  {
   "cell_type": "code",
   "execution_count": 45,
   "id": "cb9a1d7b",
   "metadata": {},
   "outputs": [
    {
     "data": {
      "text/plain": [
       "False"
      ]
     },
     "execution_count": 45,
     "metadata": {},
     "output_type": "execute_result"
    }
   ],
   "source": [
    "1 >= 100"
   ]
  },
  {
   "cell_type": "code",
   "execution_count": 46,
   "id": "91c3fbb5",
   "metadata": {},
   "outputs": [
    {
     "data": {
      "text/plain": [
       "True"
      ]
     },
     "execution_count": 46,
     "metadata": {},
     "output_type": "execute_result"
    }
   ],
   "source": [
    "1 <= 100"
   ]
  },
  {
   "cell_type": "markdown",
   "id": "24013cd3",
   "metadata": {},
   "source": [
    "# Slicing"
   ]
  },
  {
   "cell_type": "code",
   "execution_count": 48,
   "id": "2b0efc6c",
   "metadata": {},
   "outputs": [],
   "source": [
    "a = [\"a\", \"b\", 1, 2, 3, \"Hello\"]"
   ]
  },
  {
   "cell_type": "code",
   "execution_count": 49,
   "id": "b7f3e2a6",
   "metadata": {},
   "outputs": [
    {
     "data": {
      "text/plain": [
       "'a'"
      ]
     },
     "execution_count": 49,
     "metadata": {},
     "output_type": "execute_result"
    }
   ],
   "source": [
    "a[0]"
   ]
  },
  {
   "cell_type": "code",
   "execution_count": 50,
   "id": "6d72a89a",
   "metadata": {},
   "outputs": [
    {
     "data": {
      "text/plain": [
       "['a', 'b', 1, 2]"
      ]
     },
     "execution_count": 50,
     "metadata": {},
     "output_type": "execute_result"
    }
   ],
   "source": [
    "a[0 : 4]"
   ]
  },
  {
   "cell_type": "code",
   "execution_count": 51,
   "id": "9d0ae2d8",
   "metadata": {},
   "outputs": [
    {
     "data": {
      "text/plain": [
       "['a', 'b', 1, 2]"
      ]
     },
     "execution_count": 51,
     "metadata": {},
     "output_type": "execute_result"
    }
   ],
   "source": [
    "a[ : 4]"
   ]
  },
  {
   "cell_type": "code",
   "execution_count": 52,
   "id": "22799582",
   "metadata": {},
   "outputs": [
    {
     "data": {
      "text/plain": [
       "[1, 2, 3, 'Hello']"
      ]
     },
     "execution_count": 52,
     "metadata": {},
     "output_type": "execute_result"
    }
   ],
   "source": [
    "a[2 :]"
   ]
  },
  {
   "cell_type": "code",
   "execution_count": 54,
   "id": "b6fe9719",
   "metadata": {},
   "outputs": [
    {
     "data": {
      "text/plain": [
       "'Hello'"
      ]
     },
     "execution_count": 54,
     "metadata": {},
     "output_type": "execute_result"
    }
   ],
   "source": [
    "a[-1]"
   ]
  },
  {
   "cell_type": "code",
   "execution_count": 55,
   "id": "01c2fc6f",
   "metadata": {},
   "outputs": [
    {
     "data": {
      "text/plain": [
       "'b'"
      ]
     },
     "execution_count": 55,
     "metadata": {},
     "output_type": "execute_result"
    }
   ],
   "source": [
    "a[-5]"
   ]
  },
  {
   "cell_type": "markdown",
   "id": "f4b10797",
   "metadata": {},
   "source": [
    "## Slicing on a non-homogenous list"
   ]
  },
  {
   "cell_type": "code",
   "execution_count": 66,
   "id": "2d410a43",
   "metadata": {},
   "outputs": [],
   "source": [
    "s = [1, 2, 3, \"hello\", \"sara\", (2000, 220, 47), [\"red\", \"blue\"]]"
   ]
  },
  {
   "cell_type": "code",
   "execution_count": 67,
   "id": "5ec48019",
   "metadata": {},
   "outputs": [
    {
     "data": {
      "text/plain": [
       "list"
      ]
     },
     "execution_count": 67,
     "metadata": {},
     "output_type": "execute_result"
    }
   ],
   "source": [
    "type(s)"
   ]
  },
  {
   "cell_type": "code",
   "execution_count": 68,
   "id": "634e4ece",
   "metadata": {},
   "outputs": [
    {
     "data": {
      "text/plain": [
       "(2000, 220, 47)"
      ]
     },
     "execution_count": 68,
     "metadata": {},
     "output_type": "execute_result"
    }
   ],
   "source": [
    "s[5]"
   ]
  },
  {
   "cell_type": "code",
   "execution_count": 69,
   "id": "f29b6494",
   "metadata": {},
   "outputs": [
    {
     "data": {
      "text/plain": [
       "220"
      ]
     },
     "execution_count": 69,
     "metadata": {},
     "output_type": "execute_result"
    }
   ],
   "source": [
    "s[5][1] "
   ]
  },
  {
   "cell_type": "code",
   "execution_count": 70,
   "id": "fdb899ce",
   "metadata": {},
   "outputs": [
    {
     "data": {
      "text/plain": [
       "(2000, 220)"
      ]
     },
     "execution_count": 70,
     "metadata": {},
     "output_type": "execute_result"
    }
   ],
   "source": [
    "s[5][0:2] #the second item's index is exclusive"
   ]
  },
  {
   "cell_type": "code",
   "execution_count": 71,
   "id": "9284223c",
   "metadata": {},
   "outputs": [
    {
     "data": {
      "text/plain": [
       "['red', 'blue']"
      ]
     },
     "execution_count": 71,
     "metadata": {},
     "output_type": "execute_result"
    }
   ],
   "source": [
    "s[6]"
   ]
  },
  {
   "cell_type": "code",
   "execution_count": 72,
   "id": "ca7352d4",
   "metadata": {},
   "outputs": [
    {
     "name": "stdout",
     "output_type": "stream",
     "text": [
      "[1, 2, 3, 'hello', 'sara', (2000, 220, 47), ['red', 'blue'], 'Green']\n"
     ]
    }
   ],
   "source": [
    "s.append(\"Green\")\n",
    "print(s)"
   ]
  },
  {
   "cell_type": "code",
   "execution_count": 73,
   "id": "8480e430",
   "metadata": {},
   "outputs": [],
   "source": [
    "s[6].append(\"yellow\")"
   ]
  },
  {
   "cell_type": "code",
   "execution_count": 74,
   "id": "3fdec939",
   "metadata": {},
   "outputs": [
    {
     "name": "stdout",
     "output_type": "stream",
     "text": [
      "[1, 2, 3, 'hello', 'sara', (2000, 220, 47), ['red', 'blue', 'yellow'], 'Green']\n"
     ]
    }
   ],
   "source": [
    "print(s)"
   ]
  },
  {
   "cell_type": "markdown",
   "id": "607865b9",
   "metadata": {},
   "source": [
    "# Control Flow Structure"
   ]
  },
  {
   "cell_type": "markdown",
   "id": "3afce4de",
   "metadata": {},
   "source": [
    "# For loop part 1"
   ]
  },
  {
   "cell_type": "code",
   "execution_count": 75,
   "id": "20524ce6",
   "metadata": {},
   "outputs": [
    {
     "data": {
      "text/plain": [
       "[1, 2, 3, 'hello', 'sara', (2000, 220, 47), ['red', 'blue', 'yellow'], 'Green']"
      ]
     },
     "execution_count": 75,
     "metadata": {},
     "output_type": "execute_result"
    }
   ],
   "source": [
    "s #global variable"
   ]
  },
  {
   "cell_type": "code",
   "execution_count": 76,
   "id": "a1a110d5",
   "metadata": {},
   "outputs": [
    {
     "name": "stdout",
     "output_type": "stream",
     "text": [
      "1\n",
      "2\n",
      "3\n",
      "hello\n",
      "sara\n",
      "(2000, 220, 47)\n",
      "['red', 'blue', 'yellow']\n",
      "Green\n"
     ]
    }
   ],
   "source": [
    "for item in s: #item is a local variable\n",
    "    print(item)"
   ]
  },
  {
   "cell_type": "code",
   "execution_count": 77,
   "id": "40bd9cbd",
   "metadata": {},
   "outputs": [
    {
     "name": "stdout",
     "output_type": "stream",
     "text": [
      "1\n",
      "2\n",
      "3\n",
      "hello\n",
      "sara\n",
      "(2000, 220, 47)\n",
      "['red', 'blue', 'yellow']\n",
      "Green\n"
     ]
    }
   ],
   "source": [
    "for i in s: # i is a local variable\n",
    "    print(i)"
   ]
  },
  {
   "cell_type": "code",
   "execution_count": 84,
   "id": "06381cee",
   "metadata": {
    "scrolled": true
   },
   "outputs": [
    {
     "name": "stdout",
     "output_type": "stream",
     "text": [
      "1 The item is equal to 1\n"
     ]
    }
   ],
   "source": [
    "for number in s: # آیتم is a local variable\n",
    "    if number == 1:\n",
    "        print(number, \"The item is equal to 1\")"
   ]
  },
  {
   "cell_type": "markdown",
   "id": "9182f656",
   "metadata": {},
   "source": [
    "## The key to use a for-loop is defining a local variable"
   ]
  },
  {
   "cell_type": "markdown",
   "id": "037cb557",
   "metadata": {},
   "source": [
    "## and, or operators"
   ]
  },
  {
   "cell_type": "code",
   "execution_count": 85,
   "id": "76775158",
   "metadata": {},
   "outputs": [
    {
     "name": "stdout",
     "output_type": "stream",
     "text": [
      "the two items are equal\n"
     ]
    }
   ],
   "source": [
    "if s[0] == 1 and s[1] == 2:\n",
    "    print(\"the two items are equal\")"
   ]
  },
  {
   "cell_type": "markdown",
   "id": "21ebf6ff",
   "metadata": {},
   "source": [
    "## when we use 'and' operator, it checks the truth of the both statements, and only if both are true it will print the written statement."
   ]
  },
  {
   "cell_type": "code",
   "execution_count": 89,
   "id": "7fc55a6e",
   "metadata": {},
   "outputs": [],
   "source": [
    "if s[0] == 1 and s[1] == 4:\n",
    "    print(s[0], s[1], \"the two items are equal\")"
   ]
  },
  {
   "cell_type": "markdown",
   "id": "aceb4e08",
   "metadata": {},
   "source": [
    "## The above print function is not printing, because one of the statements is False."
   ]
  },
  {
   "cell_type": "code",
   "execution_count": 91,
   "id": "9e254d60",
   "metadata": {},
   "outputs": [
    {
     "name": "stdout",
     "output_type": "stream",
     "text": [
      "the two items are equal\n"
     ]
    }
   ],
   "source": [
    "if s[0] == 1 or s[1] == 4:\n",
    "    print(\"the two items are equal\")"
   ]
  },
  {
   "cell_type": "markdown",
   "id": "469d812c",
   "metadata": {},
   "source": [
    "## We can use else to print the other condtion"
   ]
  },
  {
   "cell_type": "code",
   "execution_count": 92,
   "id": "bfae47d2",
   "metadata": {},
   "outputs": [
    {
     "name": "stdout",
     "output_type": "stream",
     "text": [
      "they are different\n"
     ]
    }
   ],
   "source": [
    "if s[0] == 1 and s[1] == 4:\n",
    "    print(s[0], s[1], \"the two items are equal\")\n",
    "else:\n",
    "    print(\"they are different\")"
   ]
  },
  {
   "cell_type": "markdown",
   "id": "72b0af12",
   "metadata": {},
   "source": [
    "# Exercises"
   ]
  },
  {
   "cell_type": "markdown",
   "id": "f91c3ad7",
   "metadata": {},
   "source": [
    "### 1. In the following code I check the data type of / operator"
   ]
  },
  {
   "cell_type": "code",
   "execution_count": 94,
   "id": "616a2104",
   "metadata": {},
   "outputs": [
    {
     "data": {
      "text/plain": [
       "float"
      ]
     },
     "execution_count": 94,
     "metadata": {},
     "output_type": "execute_result"
    }
   ],
   "source": [
    "type(2 / 4)"
   ]
  },
  {
   "cell_type": "markdown",
   "id": "a93881b9",
   "metadata": {},
   "source": [
    "### check the same for %, //, and **."
   ]
  },
  {
   "cell_type": "markdown",
   "id": "8063d791",
   "metadata": {},
   "source": [
    "### 2. first step: Define a variable of a range of number\n",
    "\n",
    "### second step: Use for loop and print each number"
   ]
  },
  {
   "cell_type": "markdown",
   "id": "27630ad6",
   "metadata": {},
   "source": [
    "### 3. write a for loop for the range defined in the previous exercise that analyse the equality of the numbers of that range with 5."
   ]
  }
 ],
 "metadata": {
  "kernelspec": {
   "display_name": "Python 3 (ipykernel)",
   "language": "python",
   "name": "python3"
  },
  "language_info": {
   "codemirror_mode": {
    "name": "ipython",
    "version": 3
   },
   "file_extension": ".py",
   "mimetype": "text/x-python",
   "name": "python",
   "nbconvert_exporter": "python",
   "pygments_lexer": "ipython3",
   "version": "3.9.13"
  }
 },
 "nbformat": 4,
 "nbformat_minor": 5
}
