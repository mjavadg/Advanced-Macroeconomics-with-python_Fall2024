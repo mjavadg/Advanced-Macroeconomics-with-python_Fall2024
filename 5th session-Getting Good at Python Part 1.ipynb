{
 "cells": [
  {
   "cell_type": "markdown",
   "id": "36e4d310",
   "metadata": {},
   "source": [
    "# 5th session"
   ]
  },
  {
   "cell_type": "markdown",
   "id": "306a4bd8",
   "metadata": {},
   "source": [
    "# Getting Good at Python Part 1"
   ]
  },
  {
   "cell_type": "markdown",
   "id": "0119e492",
   "metadata": {},
   "source": [
    "## َ A little review over the past 4 sessions"
   ]
  },
  {
   "cell_type": "code",
   "execution_count": 1,
   "id": "3bf16dcc",
   "metadata": {},
   "outputs": [
    {
     "data": {
      "text/plain": [
       "int"
      ]
     },
     "execution_count": 1,
     "metadata": {},
     "output_type": "execute_result"
    }
   ],
   "source": [
    "type(2) #numerical data type "
   ]
  },
  {
   "cell_type": "code",
   "execution_count": 2,
   "id": "baba95cd",
   "metadata": {},
   "outputs": [
    {
     "data": {
      "text/plain": [
       "float"
      ]
     },
     "execution_count": 2,
     "metadata": {},
     "output_type": "execute_result"
    }
   ],
   "source": [
    "type(2.5) #numerical data type"
   ]
  },
  {
   "cell_type": "code",
   "execution_count": 3,
   "id": "d1131688",
   "metadata": {},
   "outputs": [
    {
     "data": {
      "text/plain": [
       "complex"
      ]
     },
     "execution_count": 3,
     "metadata": {},
     "output_type": "execute_result"
    }
   ],
   "source": [
    "type(2 + 5j) #numerical data type"
   ]
  },
  {
   "cell_type": "code",
   "execution_count": 4,
   "id": "1eaa93cf",
   "metadata": {},
   "outputs": [
    {
     "data": {
      "text/plain": [
       "[]"
      ]
     },
     "execution_count": 4,
     "metadata": {},
     "output_type": "execute_result"
    }
   ],
   "source": [
    "[]"
   ]
  },
  {
   "cell_type": "code",
   "execution_count": 5,
   "id": "6bcae07f",
   "metadata": {},
   "outputs": [
    {
     "data": {
      "text/plain": [
       "list"
      ]
     },
     "execution_count": 5,
     "metadata": {},
     "output_type": "execute_result"
    }
   ],
   "source": [
    "type([])"
   ]
  },
  {
   "cell_type": "code",
   "execution_count": 6,
   "id": "f45136cf",
   "metadata": {},
   "outputs": [
    {
     "data": {
      "text/plain": [
       "[1, 2, 3]"
      ]
     },
     "execution_count": 6,
     "metadata": {},
     "output_type": "execute_result"
    }
   ],
   "source": [
    "[1,2, 3] #sequential data type"
   ]
  },
  {
   "cell_type": "code",
   "execution_count": 7,
   "id": "641a9309",
   "metadata": {},
   "outputs": [
    {
     "data": {
      "text/plain": [
       "()"
      ]
     },
     "execution_count": 7,
     "metadata": {},
     "output_type": "execute_result"
    }
   ],
   "source": [
    "()"
   ]
  },
  {
   "cell_type": "code",
   "execution_count": 8,
   "id": "88728cb7",
   "metadata": {},
   "outputs": [
    {
     "data": {
      "text/plain": [
       "tuple"
      ]
     },
     "execution_count": 8,
     "metadata": {},
     "output_type": "execute_result"
    }
   ],
   "source": [
    "type((1, 2,3, 4)) #sequential data type"
   ]
  },
  {
   "cell_type": "code",
   "execution_count": 9,
   "id": "fcebbd46",
   "metadata": {
    "scrolled": true
   },
   "outputs": [
    {
     "ename": "NameError",
     "evalue": "name 'hello' is not defined",
     "output_type": "error",
     "traceback": [
      "\u001b[1;31m---------------------------------------------------------------------------\u001b[0m",
      "\u001b[1;31mNameError\u001b[0m                                 Traceback (most recent call last)",
      "\u001b[1;32m~\\AppData\\Local\\Temp\\ipykernel_14944\\3305111549.py\u001b[0m in \u001b[0;36m<module>\u001b[1;34m\u001b[0m\n\u001b[1;32m----> 1\u001b[1;33m \u001b[0mhello\u001b[0m\u001b[1;33m\u001b[0m\u001b[1;33m\u001b[0m\u001b[0m\n\u001b[0m",
      "\u001b[1;31mNameError\u001b[0m: name 'hello' is not defined"
     ]
    }
   ],
   "source": [
    "hello"
   ]
  },
  {
   "cell_type": "code",
   "execution_count": 10,
   "id": "d929eccb",
   "metadata": {},
   "outputs": [
    {
     "data": {
      "text/plain": [
       "'hello'"
      ]
     },
     "execution_count": 10,
     "metadata": {},
     "output_type": "execute_result"
    }
   ],
   "source": [
    "'hello'"
   ]
  },
  {
   "cell_type": "code",
   "execution_count": 11,
   "id": "a5cb6039",
   "metadata": {},
   "outputs": [
    {
     "data": {
      "text/plain": [
       "str"
      ]
     },
     "execution_count": 11,
     "metadata": {},
     "output_type": "execute_result"
    }
   ],
   "source": [
    "type(\"alice\") #sequential data type"
   ]
  },
  {
   "cell_type": "code",
   "execution_count": 12,
   "id": "c120b665",
   "metadata": {},
   "outputs": [
    {
     "data": {
      "text/plain": [
       "{}"
      ]
     },
     "execution_count": 12,
     "metadata": {},
     "output_type": "execute_result"
    }
   ],
   "source": [
    "{} #mapping data type or dictionary"
   ]
  },
  {
   "cell_type": "code",
   "execution_count": 13,
   "id": "4b9e67df",
   "metadata": {},
   "outputs": [
    {
     "data": {
      "text/plain": [
       "dict"
      ]
     },
     "execution_count": 13,
     "metadata": {},
     "output_type": "execute_result"
    }
   ],
   "source": [
    "type({})"
   ]
  },
  {
   "cell_type": "code",
   "execution_count": 15,
   "id": "003ab552",
   "metadata": {},
   "outputs": [
    {
     "data": {
      "text/plain": [
       "tuple"
      ]
     },
     "execution_count": 15,
     "metadata": {},
     "output_type": "execute_result"
    }
   ],
   "source": [
    "a = \"1\", 2, 3\n",
    "type(a)"
   ]
  },
  {
   "cell_type": "code",
   "execution_count": 17,
   "id": "88676671",
   "metadata": {},
   "outputs": [
    {
     "name": "stdout",
     "output_type": "stream",
     "text": [
      "('1', 2, 3)\n"
     ]
    }
   ],
   "source": [
    "print(a)"
   ]
  },
  {
   "cell_type": "code",
   "execution_count": 16,
   "id": "bb171dd8",
   "metadata": {},
   "outputs": [
    {
     "data": {
      "text/plain": [
       "list"
      ]
     },
     "execution_count": 16,
     "metadata": {},
     "output_type": "execute_result"
    }
   ],
   "source": [
    "b = list(a)\n",
    "type(b)"
   ]
  },
  {
   "cell_type": "code",
   "execution_count": 19,
   "id": "ef3a97bd",
   "metadata": {},
   "outputs": [
    {
     "data": {
      "text/plain": [
       "range(1, 6)"
      ]
     },
     "execution_count": 19,
     "metadata": {},
     "output_type": "execute_result"
    }
   ],
   "source": [
    "e = range(1, 6)\n",
    "e"
   ]
  },
  {
   "cell_type": "code",
   "execution_count": 23,
   "id": "a53ccc98",
   "metadata": {},
   "outputs": [
    {
     "data": {
      "text/plain": [
       "[1, 2, 3, 4, 5]"
      ]
     },
     "execution_count": 23,
     "metadata": {},
     "output_type": "execute_result"
    }
   ],
   "source": [
    "t = list(e)\n",
    "t"
   ]
  },
  {
   "cell_type": "code",
   "execution_count": 24,
   "id": "f38f3983",
   "metadata": {},
   "outputs": [],
   "source": [
    "set1 = set(t)"
   ]
  },
  {
   "cell_type": "code",
   "execution_count": 25,
   "id": "78b526d9",
   "metadata": {},
   "outputs": [
    {
     "data": {
      "text/plain": [
       "{1, 2, 3, 4, 5}"
      ]
     },
     "execution_count": 25,
     "metadata": {},
     "output_type": "execute_result"
    }
   ],
   "source": [
    "set1 #set"
   ]
  },
  {
   "cell_type": "code",
   "execution_count": 26,
   "id": "e334735c",
   "metadata": {},
   "outputs": [
    {
     "data": {
      "text/plain": [
       "set"
      ]
     },
     "execution_count": 26,
     "metadata": {},
     "output_type": "execute_result"
    }
   ],
   "source": [
    "type(set1)"
   ]
  },
  {
   "cell_type": "code",
   "execution_count": 27,
   "id": "9757f3b4",
   "metadata": {},
   "outputs": [
    {
     "data": {
      "text/plain": [
       "{'apple': 'fruit'}"
      ]
     },
     "execution_count": 27,
     "metadata": {},
     "output_type": "execute_result"
    }
   ],
   "source": [
    "{\"apple\" : \"fruit\"} #dictionary"
   ]
  },
  {
   "cell_type": "code",
   "execution_count": 28,
   "id": "55046942",
   "metadata": {},
   "outputs": [
    {
     "data": {
      "text/plain": [
       "True"
      ]
     },
     "execution_count": 28,
     "metadata": {},
     "output_type": "execute_result"
    }
   ],
   "source": [
    "# boolean data types\n",
    "\n",
    "1 == 1"
   ]
  },
  {
   "cell_type": "code",
   "execution_count": 29,
   "id": "c35cd4b9",
   "metadata": {},
   "outputs": [
    {
     "data": {
      "text/plain": [
       "True"
      ]
     },
     "execution_count": 29,
     "metadata": {},
     "output_type": "execute_result"
    }
   ],
   "source": [
    "1 > 0"
   ]
  },
  {
   "cell_type": "markdown",
   "id": "763da7b5",
   "metadata": {},
   "source": [
    "## Why did we learn these data types?"
   ]
  },
  {
   "cell_type": "code",
   "execution_count": 30,
   "id": "5deda7ee",
   "metadata": {},
   "outputs": [],
   "source": [
    "name = []\n",
    "\n",
    "name.append(\"Mojarad\")"
   ]
  },
  {
   "cell_type": "code",
   "execution_count": 31,
   "id": "a8aa7ec6",
   "metadata": {},
   "outputs": [
    {
     "data": {
      "text/plain": [
       "['Mojarad']"
      ]
     },
     "execution_count": 31,
     "metadata": {},
     "output_type": "execute_result"
    }
   ],
   "source": [
    "name"
   ]
  },
  {
   "cell_type": "code",
   "execution_count": 37,
   "id": "908f5ba2",
   "metadata": {},
   "outputs": [
    {
     "data": {
      "text/plain": [
       "['Hassan zade', '99']"
      ]
     },
     "execution_count": 37,
     "metadata": {},
     "output_type": "execute_result"
    }
   ],
   "source": [
    "name_and_grades = []\n",
    "\n",
    "name_and_grades.append(\"Hassan zade\")\n",
    "name_and_grades.append(\"99\")\n",
    "name_and_grades"
   ]
  },
  {
   "cell_type": "code",
   "execution_count": 34,
   "id": "9ed42926",
   "metadata": {},
   "outputs": [],
   "source": [
    "#dir(list)"
   ]
  },
  {
   "cell_type": "markdown",
   "id": "179812ec",
   "metadata": {},
   "source": [
    "### note"
   ]
  },
  {
   "cell_type": "code",
   "execution_count": 39,
   "id": "222117d7",
   "metadata": {},
   "outputs": [
    {
     "name": "stdout",
     "output_type": "stream",
     "text": [
      "<class 'int'>\n",
      "<class 'str'>\n"
     ]
    }
   ],
   "source": [
    "q = (1, \"a\", 2.5)\n",
    "p = [2, 5.5, \"Alice\"]\n",
    "\n",
    "print(type(q[0]))\n",
    "print(type(q[1]))"
   ]
  },
  {
   "cell_type": "code",
   "execution_count": 40,
   "id": "aa4e08b4",
   "metadata": {},
   "outputs": [
    {
     "name": "stdout",
     "output_type": "stream",
     "text": [
      "<class 'int'>\n",
      "<class 'float'>\n"
     ]
    }
   ],
   "source": [
    "print(type(p[0]))\n",
    "print(type(p[1]))"
   ]
  },
  {
   "cell_type": "markdown",
   "id": "69d15f9f",
   "metadata": {},
   "source": [
    "## For loop part 2"
   ]
  },
  {
   "cell_type": "code",
   "execution_count": 45,
   "id": "64827e5f",
   "metadata": {},
   "outputs": [
    {
     "data": {
      "text/plain": [
       "35"
      ]
     },
     "execution_count": 45,
     "metadata": {},
     "output_type": "execute_result"
    }
   ],
   "source": [
    "a = 20\n",
    "a + 15"
   ]
  },
  {
   "cell_type": "code",
   "execution_count": 46,
   "id": "1e712ba7",
   "metadata": {},
   "outputs": [
    {
     "data": {
      "text/plain": [
       "20"
      ]
     },
     "execution_count": 46,
     "metadata": {},
     "output_type": "execute_result"
    }
   ],
   "source": [
    "a"
   ]
  },
  {
   "cell_type": "code",
   "execution_count": 47,
   "id": "3b1ce990",
   "metadata": {},
   "outputs": [
    {
     "name": "stdout",
     "output_type": "stream",
     "text": [
      "35\n"
     ]
    }
   ],
   "source": [
    "a = a + 15\n",
    "print(a)"
   ]
  },
  {
   "cell_type": "code",
   "execution_count": 49,
   "id": "10efbad8",
   "metadata": {},
   "outputs": [],
   "source": [
    "a += 15 #this line is equivalent to a = a + 15"
   ]
  },
  {
   "cell_type": "code",
   "execution_count": 50,
   "id": "99444110",
   "metadata": {
    "scrolled": true
   },
   "outputs": [
    {
     "data": {
      "text/plain": [
       "50"
      ]
     },
     "execution_count": 50,
     "metadata": {},
     "output_type": "execute_result"
    }
   ],
   "source": [
    "a"
   ]
  },
  {
   "cell_type": "markdown",
   "id": "d20c509a",
   "metadata": {},
   "source": [
    "### Example 1"
   ]
  },
  {
   "cell_type": "code",
   "execution_count": 57,
   "id": "0a0b7429",
   "metadata": {
    "scrolled": true
   },
   "outputs": [
    {
     "name": "stdout",
     "output_type": "stream",
     "text": [
      "the number is 15\n",
      "the number is 16\n",
      "the number is 17\n",
      "the number is 18\n",
      "the number is 19\n"
     ]
    }
   ],
   "source": [
    "for i in range(15, 20): \n",
    "    print(\"the number is\", i)"
   ]
  },
  {
   "cell_type": "markdown",
   "id": "a700f179",
   "metadata": {},
   "source": [
    "### Example 2"
   ]
  },
  {
   "cell_type": "code",
   "execution_count": 59,
   "id": "a3d40bfd",
   "metadata": {},
   "outputs": [
    {
     "name": "stdout",
     "output_type": "stream",
     "text": [
      "The sum of the variable and range(15, 20) 15\n",
      "The sum of the variable and range(15, 20) 31\n",
      "The sum of the variable and range(15, 20) 48\n",
      "The sum of the variable and range(15, 20) 66\n",
      "The sum of the variable and range(15, 20) 85\n"
     ]
    }
   ],
   "source": [
    "summ = 0\n",
    "\n",
    "for i in range(15, 20): #15+16+17+18+19\n",
    "    summ = summ + i\n",
    "    print(\"The sum of the variable and range(15, 20)\", summ)"
   ]
  },
  {
   "cell_type": "markdown",
   "id": "ba899c0d",
   "metadata": {},
   "source": [
    "### Example 3"
   ]
  },
  {
   "cell_type": "code",
   "execution_count": 60,
   "id": "f733f582",
   "metadata": {},
   "outputs": [
    {
     "name": "stdout",
     "output_type": "stream",
     "text": [
      "sum is 85\n"
     ]
    }
   ],
   "source": [
    "summ = 0\n",
    "\n",
    "for i in range(15, 20): #15+16+17+18+19\n",
    "    summ = summ + i\n",
    "print(\"sum is\", summ)"
   ]
  },
  {
   "cell_type": "markdown",
   "id": "bf346ca7",
   "metadata": {},
   "source": [
    "### Example 4"
   ]
  },
  {
   "cell_type": "code",
   "execution_count": 61,
   "id": "32f51ca7",
   "metadata": {},
   "outputs": [
    {
     "name": "stdout",
     "output_type": "stream",
     "text": [
      "uppercases : ['HELLO', 'HI', 'JAMES', 'JOHN']\n"
     ]
    }
   ],
   "source": [
    "words = [\"hello\", \"hi\", \"james\", \"john\"]\n",
    "\n",
    "uppercase_words = []\n",
    "\n",
    "for i in words:\n",
    "    uppercase_words.append(i.upper())\n",
    "    \n",
    "print(f\"uppercases : {uppercase_words}\")"
   ]
  },
  {
   "cell_type": "markdown",
   "id": "8cd39a9e",
   "metadata": {},
   "source": [
    "### Example 5"
   ]
  },
  {
   "cell_type": "code",
   "execution_count": 63,
   "id": "373b19a7",
   "metadata": {
    "scrolled": true
   },
   "outputs": [
    {
     "name": "stdout",
     "output_type": "stream",
     "text": [
      "Number of vowels 7\n"
     ]
    }
   ],
   "source": [
    "text = \"today is 13th of November\"\n",
    "\n",
    "vowel_count = 0\n",
    "for char in text:\n",
    "    if char in \"aeiou\": #boolean \n",
    "        vowel_count += 1\n",
    "        \n",
    "print(f\"Number of vowels {vowel_count}\")"
   ]
  },
  {
   "cell_type": "markdown",
   "id": "4185dc8b",
   "metadata": {},
   "source": [
    "### Example 6 (3rd session exercise)"
   ]
  },
  {
   "cell_type": "code",
   "execution_count": 87,
   "id": "d885422a",
   "metadata": {},
   "outputs": [
    {
     "data": {
      "text/plain": [
       "{'India': {'population_growth_rates': 1.2,\n",
       "  'literacy_rates': 74.4,\n",
       "  'life_expectancy': 69.7},\n",
       " 'Brazil': {'population_growth_rates': 0.8,\n",
       "  'literacy_rates': 92.6,\n",
       "  'life_expectancy': 75.5},\n",
       " 'Nigeria': {'population_growth_rates': 1.5,\n",
       "  'literacy_rates': 62.0,\n",
       "  'life_expectancy': 54.3},\n",
       " 'Australia': {'population_growth_rates': 1.1,\n",
       "  'literacy_rates': 99.0,\n",
       "  'life_expectancy': 82.9}}"
      ]
     },
     "execution_count": 87,
     "metadata": {},
     "output_type": "execute_result"
    }
   ],
   "source": [
    "countries = [\"India\", \"Brazil\", \"Nigeria\", \"Australia\"]\n",
    "population_growth_rates = [1.2, 0.8, 1.5, 1.1]\n",
    "literacy_rates = [74.4, 92.6, 62.0, 99.0]\n",
    "life_expectancy = [69.7, 75.5, 54.3, 82.9]  # Added the missing closing bracket\n",
    "\n",
    "nested_dictionary = {}\n",
    "\n",
    "for i in range(len(countries)):\n",
    "    country = countries[i]\n",
    "    nested_dictionary[country] = {\n",
    "        \"population_growth_rates\": population_growth_rates[i],\n",
    "        \"literacy_rates\": literacy_rates[i],\n",
    "        \"life_expectancy\": life_expectancy[i]\n",
    "    }\n",
    "\n",
    "nested_dictionary"
   ]
  },
  {
   "cell_type": "code",
   "execution_count": 65,
   "id": "a6b49d47",
   "metadata": {},
   "outputs": [
    {
     "data": {
      "text/plain": [
       "True"
      ]
     },
     "execution_count": 65,
     "metadata": {},
     "output_type": "execute_result"
    }
   ],
   "source": [
    "range(4) == range(0, 4)"
   ]
  },
  {
   "cell_type": "markdown",
   "id": "034db6f1",
   "metadata": {},
   "source": [
    "## While loops\n",
    "\n",
    "- Iterate until it is not true anymore"
   ]
  },
  {
   "cell_type": "markdown",
   "id": "902b1c48",
   "metadata": {},
   "source": [
    "### Example 1"
   ]
  },
  {
   "cell_type": "code",
   "execution_count": 70,
   "id": "052e21a8",
   "metadata": {
    "scrolled": false
   },
   "outputs": [
    {
     "name": "stdout",
     "output_type": "stream",
     "text": [
      "5\n",
      "4\n",
      "3\n",
      "2\n",
      "1\n",
      "lift off\n"
     ]
    }
   ],
   "source": [
    "count = 5\n",
    "while count > 0:\n",
    "    print(count)\n",
    "    count -= 1 \n",
    "print(\"lift off\")"
   ]
  },
  {
   "cell_type": "markdown",
   "id": "ecac253c",
   "metadata": {},
   "source": [
    "### Example 2"
   ]
  },
  {
   "cell_type": "code",
   "execution_count": 75,
   "id": "a88cfc33",
   "metadata": {
    "scrolled": false
   },
   "outputs": [
    {
     "name": "stdout",
     "output_type": "stream",
     "text": [
      "1\n",
      "3\n",
      "6\n",
      "10\n",
      "15\n"
     ]
    }
   ],
   "source": [
    "number = 1\n",
    "total = 0\n",
    "\n",
    "while number <= 5:\n",
    "    total = total + number\n",
    "    number = number + 1\n",
    "    print(total)"
   ]
  },
  {
   "cell_type": "markdown",
   "id": "d93b543e",
   "metadata": {},
   "source": [
    "### Example 3"
   ]
  },
  {
   "cell_type": "code",
   "execution_count": 73,
   "id": "315f2a0d",
   "metadata": {},
   "outputs": [
    {
     "name": "stdout",
     "output_type": "stream",
     "text": [
      "total sum: 15\n"
     ]
    }
   ],
   "source": [
    "number = 1\n",
    "total = 0\n",
    "\n",
    "while number <= 5:\n",
    "    total = total + number\n",
    "    number = number + 1\n",
    "print(f\"total sum: {total}\")"
   ]
  },
  {
   "cell_type": "markdown",
   "id": "95afa1e0",
   "metadata": {},
   "source": [
    "## Nested loop"
   ]
  },
  {
   "cell_type": "markdown",
   "id": "c07e78f7",
   "metadata": {},
   "source": [
    "### Creating multiplication table"
   ]
  },
  {
   "cell_type": "markdown",
   "id": "67844909",
   "metadata": {},
   "source": [
    "- wrong way:"
   ]
  },
  {
   "cell_type": "code",
   "execution_count": 76,
   "id": "375853d6",
   "metadata": {
    "scrolled": true
   },
   "outputs": [
    {
     "ename": "ValueError",
     "evalue": "too many values to unpack (expected 2)",
     "output_type": "error",
     "traceback": [
      "\u001b[1;31m---------------------------------------------------------------------------\u001b[0m",
      "\u001b[1;31mValueError\u001b[0m                                Traceback (most recent call last)",
      "\u001b[1;32m~\\AppData\\Local\\Temp\\ipykernel_14944\\866882115.py\u001b[0m in \u001b[0;36m<module>\u001b[1;34m\u001b[0m\n\u001b[0;32m      2\u001b[0m \u001b[0mb\u001b[0m \u001b[1;33m=\u001b[0m \u001b[1;33m[\u001b[0m\u001b[1;36m1\u001b[0m\u001b[1;33m,\u001b[0m \u001b[1;36m2\u001b[0m\u001b[1;33m,\u001b[0m \u001b[1;36m3\u001b[0m\u001b[1;33m,\u001b[0m \u001b[1;36m4\u001b[0m\u001b[1;33m,\u001b[0m \u001b[1;36m5\u001b[0m\u001b[1;33m]\u001b[0m\u001b[1;33m\u001b[0m\u001b[1;33m\u001b[0m\u001b[0m\n\u001b[0;32m      3\u001b[0m \u001b[1;33m\u001b[0m\u001b[0m\n\u001b[1;32m----> 4\u001b[1;33m \u001b[1;32mfor\u001b[0m \u001b[0mi\u001b[0m\u001b[1;33m,\u001b[0m \u001b[0mj\u001b[0m \u001b[1;32min\u001b[0m \u001b[1;33m(\u001b[0m\u001b[0ma\u001b[0m\u001b[1;33m,\u001b[0m\u001b[0mb\u001b[0m\u001b[1;33m)\u001b[0m\u001b[1;33m:\u001b[0m\u001b[1;33m\u001b[0m\u001b[1;33m\u001b[0m\u001b[0m\n\u001b[0m\u001b[0;32m      5\u001b[0m     \u001b[0mprint\u001b[0m\u001b[1;33m(\u001b[0m\u001b[0mi\u001b[0m \u001b[1;33m*\u001b[0m \u001b[0mj\u001b[0m\u001b[1;33m)\u001b[0m\u001b[1;33m\u001b[0m\u001b[1;33m\u001b[0m\u001b[0m\n",
      "\u001b[1;31mValueError\u001b[0m: too many values to unpack (expected 2)"
     ]
    }
   ],
   "source": [
    "a = [1, 2, 3, 4, 5]\n",
    "b = [1, 2, 3, 4, 5]\n",
    "\n",
    "for i, j in (a,b):\n",
    "    print(i * j)"
   ]
  },
  {
   "cell_type": "markdown",
   "id": "d959a5db",
   "metadata": {},
   "source": [
    "- Correct way:"
   ]
  },
  {
   "cell_type": "code",
   "execution_count": 81,
   "id": "8501d3ed",
   "metadata": {
    "scrolled": true
   },
   "outputs": [
    {
     "name": "stdout",
     "output_type": "stream",
     "text": [
      "1\t2\t3\t4\t5\t\n",
      "2\t4\t6\t8\t10\t\n",
      "3\t6\t9\t12\t15\t\n",
      "4\t8\t12\t16\t20\t\n",
      "5\t10\t15\t20\t25\t\n"
     ]
    }
   ],
   "source": [
    "for i in range(1, 6):\n",
    "    for j in range(1, 6):\n",
    "        print(i * j, end = \"\\t\")\n",
    "    print()"
   ]
  },
  {
   "cell_type": "markdown",
   "id": "345bcf24",
   "metadata": {},
   "source": [
    "### modeling the relationship between savings rates, capital accumulation, and depreciation over a specified time period. The goal is to calculate the capital level for different savings rates over a defined number of time periods."
   ]
  },
  {
   "cell_type": "markdown",
   "id": "86338a90",
   "metadata": {},
   "source": [
    "\\begin{align*}\n",
    "k^* &= k^* (1 - \\delta) + s \\cdot A \\cdot f(k^*) \\\\\n",
    "k^* - k^* (1 - \\delta) &= s \\cdot A \\cdot f(k^*) \\\\\n",
    "k^* \\delta &= s \\cdot A \\cdot f(k^*) \\\\\n",
    "k^* &= \\frac{s \\cdot A \\cdot f(k^*)}{\\delta}\n",
    "\\end{align*}"
   ]
  },
  {
   "cell_type": "markdown",
   "id": "4f88b1cf",
   "metadata": {},
   "source": [
    "- In the provided code, the calculation of the steady-state capital level is derived from the relationship between savings, productivity, and depreciation, without employing a specific production function (like Cobb-Douglas or similar)."
   ]
  },
  {
   "cell_type": "code",
   "execution_count": 91,
   "id": "fcf48801",
   "metadata": {},
   "outputs": [
    {
     "name": "stdout",
     "output_type": "stream",
     "text": [
      "savings rate: 0.1, time period: 0, capital level: 0.1\n",
      "savings rate: 0.1, time period: 1, capital level: 0.19\n",
      "savings rate: 0.1, time period: 2, capital level: 0.271\n",
      "savings rate: 0.1, time period: 3, capital level: 0.34390000000000004\n",
      "savings rate: 0.1, time period: 4, capital level: 0.40951000000000004\n",
      "savings rate: 0.2, time period: 0, capital level: 0.2\n",
      "savings rate: 0.2, time period: 1, capital level: 0.38\n",
      "savings rate: 0.2, time period: 2, capital level: 0.542\n",
      "savings rate: 0.2, time period: 3, capital level: 0.6878000000000001\n",
      "savings rate: 0.2, time period: 4, capital level: 0.8190200000000001\n",
      "savings rate: 0.3, time period: 0, capital level: 0.3\n",
      "savings rate: 0.3, time period: 1, capital level: 0.5700000000000001\n",
      "savings rate: 0.3, time period: 2, capital level: 0.8130000000000002\n",
      "savings rate: 0.3, time period: 3, capital level: 1.0317\n",
      "savings rate: 0.3, time period: 4, capital level: 1.2285300000000001\n"
     ]
    }
   ],
   "source": [
    "depreciation_rate = 0.1\n",
    "productivity = 1 #A\n",
    "savings_rates = [0.1, 0.2, 0.3] #different savings rates\n",
    "time_periods = 5\n",
    "\n",
    "results = []\n",
    "\n",
    "for s in savings_rates:\n",
    "    k_star = s * productivity / depreciation_rate\n",
    "    capital = 0\n",
    "    time = 0\n",
    "    \n",
    "    while time < time_periods:\n",
    "        capital = capital * (1 - depreciation_rate) + s * productivity\n",
    "        results.append((s, time, capital))\n",
    "        time += 1 \n",
    "        \n",
    "for result in results:\n",
    "    print(f\"savings rate: {result[0]}, time period: {result[1]}, capital level: {result[2]}\")"
   ]
  },
  {
   "cell_type": "markdown",
   "id": "fa3677f9",
   "metadata": {},
   "source": [
    "## Exercises"
   ]
  },
  {
   "cell_type": "markdown",
   "id": "8b2121e1",
   "metadata": {},
   "source": [
    "1. Write a loop that checks whether a given number is prime. Use boolean logic to determine if the number has any divisors other than 1 and itself."
   ]
  },
  {
   "cell_type": "markdown",
   "id": "22e31141",
   "metadata": {},
   "source": [
    "2. Write a loop that checks whether a given is even or odd."
   ]
  },
  {
   "cell_type": "markdown",
   "id": "79ee5fbf",
   "metadata": {},
   "source": [
    "3. Given a list of integers, write a list comprehension to create a new list that contains the squares of all even numbers from the original list."
   ]
  }
 ],
 "metadata": {
  "kernelspec": {
   "display_name": "Python 3 (ipykernel)",
   "language": "python",
   "name": "python3"
  },
  "language_info": {
   "codemirror_mode": {
    "name": "ipython",
    "version": 3
   },
   "file_extension": ".py",
   "mimetype": "text/x-python",
   "name": "python",
   "nbconvert_exporter": "python",
   "pygments_lexer": "ipython3",
   "version": "3.9.13"
  }
 },
 "nbformat": 4,
 "nbformat_minor": 5
}
