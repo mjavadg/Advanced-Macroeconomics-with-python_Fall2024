{
 "cells": [
  {
   "cell_type": "markdown",
   "id": "dcb05b2c",
   "metadata": {},
   "source": [
    "# Third Session"
   ]
  },
  {
   "cell_type": "markdown",
   "id": "3bfc00f9",
   "metadata": {},
   "source": [
    "## What is python? part 3"
   ]
  },
  {
   "cell_type": "markdown",
   "id": "93617eb1",
   "metadata": {},
   "source": [
    "### The difference between sequential data types"
   ]
  },
  {
   "cell_type": "code",
   "execution_count": 47,
   "id": "02f5daf4",
   "metadata": {},
   "outputs": [
    {
     "name": "stdout",
     "output_type": "stream",
     "text": [
      "hello\n"
     ]
    }
   ],
   "source": [
    "string1 = \"hello\"\n",
    "print(string1)"
   ]
  },
  {
   "cell_type": "code",
   "execution_count": 48,
   "id": "2f4e48b7",
   "metadata": {},
   "outputs": [
    {
     "data": {
      "text/plain": [
       "'hellohellohellohellohello'"
      ]
     },
     "execution_count": 48,
     "metadata": {},
     "output_type": "execute_result"
    }
   ],
   "source": [
    "string1 * 5"
   ]
  },
  {
   "cell_type": "code",
   "execution_count": 49,
   "id": "9096afa2",
   "metadata": {},
   "outputs": [
    {
     "data": {
      "text/plain": [
       "'mello'"
      ]
     },
     "execution_count": 49,
     "metadata": {},
     "output_type": "execute_result"
    }
   ],
   "source": [
    "string1.replace(\"h\", \"m\")"
   ]
  },
  {
   "cell_type": "code",
   "execution_count": 50,
   "id": "c44ee2c8",
   "metadata": {},
   "outputs": [
    {
     "data": {
      "text/plain": [
       "'hello'"
      ]
     },
     "execution_count": 50,
     "metadata": {},
     "output_type": "execute_result"
    }
   ],
   "source": [
    "string1"
   ]
  },
  {
   "cell_type": "markdown",
   "id": "847e59cc",
   "metadata": {},
   "source": [
    "### The string variable didn't change even though we replaced h with m"
   ]
  },
  {
   "cell_type": "code",
   "execution_count": 51,
   "id": "501b95b8",
   "metadata": {},
   "outputs": [
    {
     "data": {
      "text/plain": [
       "['h', 'e', 'l', 'l', 'o']"
      ]
     },
     "execution_count": 51,
     "metadata": {},
     "output_type": "execute_result"
    }
   ],
   "source": [
    "list1 = list(string1)\n",
    "list1"
   ]
  },
  {
   "cell_type": "code",
   "execution_count": 52,
   "id": "9bd2f458",
   "metadata": {},
   "outputs": [],
   "source": [
    "list1.append(\"w\")"
   ]
  },
  {
   "cell_type": "code",
   "execution_count": 53,
   "id": "a9308c4a",
   "metadata": {},
   "outputs": [
    {
     "data": {
      "text/plain": [
       "['h', 'e', 'l', 'l', 'o', 'w']"
      ]
     },
     "execution_count": 53,
     "metadata": {},
     "output_type": "execute_result"
    }
   ],
   "source": [
    "list1"
   ]
  },
  {
   "cell_type": "markdown",
   "id": "5bbaad25",
   "metadata": {},
   "source": [
    "### The list variable changed "
   ]
  },
  {
   "cell_type": "code",
   "execution_count": 54,
   "id": "306d6ef5",
   "metadata": {},
   "outputs": [
    {
     "data": {
      "text/plain": [
       "'mello'"
      ]
     },
     "execution_count": 54,
     "metadata": {},
     "output_type": "execute_result"
    }
   ],
   "source": [
    "string1 = string1.replace(\"h\", \"m\")\n",
    "string1"
   ]
  },
  {
   "cell_type": "markdown",
   "id": "7275397a",
   "metadata": {},
   "source": [
    "### Redefining the string variable"
   ]
  },
  {
   "cell_type": "code",
   "execution_count": 55,
   "id": "72c3a82a",
   "metadata": {},
   "outputs": [
    {
     "data": {
      "text/plain": [
       "['h', 'e', 'l', 'l', 'o', 'w']"
      ]
     },
     "execution_count": 55,
     "metadata": {},
     "output_type": "execute_result"
    }
   ],
   "source": [
    "string1\n",
    "list1"
   ]
  },
  {
   "cell_type": "code",
   "execution_count": 56,
   "id": "708f2fea",
   "metadata": {},
   "outputs": [
    {
     "name": "stdout",
     "output_type": "stream",
     "text": [
      "mello\n",
      "['h', 'e', 'l', 'l', 'o', 'w']\n"
     ]
    }
   ],
   "source": [
    "print(string1)\n",
    "print(list1)"
   ]
  },
  {
   "cell_type": "markdown",
   "id": "206de353",
   "metadata": {},
   "source": [
    "## How to change h to m in the list above?"
   ]
  },
  {
   "cell_type": "code",
   "execution_count": 57,
   "id": "1f224793",
   "metadata": {},
   "outputs": [],
   "source": [
    "list1.remove(\"h\")"
   ]
  },
  {
   "cell_type": "code",
   "execution_count": 58,
   "id": "81b33a83",
   "metadata": {},
   "outputs": [
    {
     "data": {
      "text/plain": [
       "['e', 'l', 'l', 'o', 'w']"
      ]
     },
     "execution_count": 58,
     "metadata": {},
     "output_type": "execute_result"
    }
   ],
   "source": [
    "list1"
   ]
  },
  {
   "cell_type": "code",
   "execution_count": 59,
   "id": "cdbffcbc",
   "metadata": {},
   "outputs": [],
   "source": [
    "list1.insert(0, \"m\")"
   ]
  },
  {
   "cell_type": "code",
   "execution_count": 60,
   "id": "44fd9c97",
   "metadata": {},
   "outputs": [
    {
     "name": "stdout",
     "output_type": "stream",
     "text": [
      "['m', 'e', 'l', 'l', 'o', 'w']\n"
     ]
    }
   ],
   "source": [
    "print(list1)"
   ]
  },
  {
   "cell_type": "code",
   "execution_count": 61,
   "id": "541ac212",
   "metadata": {
    "scrolled": false
   },
   "outputs": [
    {
     "data": {
      "text/plain": [
       "('m', 'e', 'l', 'l', 'o', 'w')"
      ]
     },
     "execution_count": 61,
     "metadata": {},
     "output_type": "execute_result"
    }
   ],
   "source": [
    "tuple(list1)"
   ]
  },
  {
   "cell_type": "code",
   "execution_count": 106,
   "id": "62b7d835",
   "metadata": {},
   "outputs": [
    {
     "data": {
      "text/plain": [
       "'m'"
      ]
     },
     "execution_count": 106,
     "metadata": {},
     "output_type": "execute_result"
    }
   ],
   "source": [
    "o = tuple(list1)\n",
    "o[0]"
   ]
  },
  {
   "cell_type": "code",
   "execution_count": 63,
   "id": "228ecaeb",
   "metadata": {},
   "outputs": [
    {
     "data": {
      "text/plain": [
       "2"
      ]
     },
     "execution_count": 63,
     "metadata": {},
     "output_type": "execute_result"
    }
   ],
   "source": [
    "tuple(list1).count(\"l\")"
   ]
  },
  {
   "cell_type": "code",
   "execution_count": 115,
   "id": "1daddec7",
   "metadata": {
    "scrolled": true
   },
   "outputs": [
    {
     "ename": "AttributeError",
     "evalue": "'tuple' object has no attribute 'append'",
     "output_type": "error",
     "traceback": [
      "\u001b[1;31m---------------------------------------------------------------------------\u001b[0m",
      "\u001b[1;31mAttributeError\u001b[0m                            Traceback (most recent call last)",
      "\u001b[1;32m~\\AppData\\Local\\Temp\\ipykernel_11076\\2491667264.py\u001b[0m in \u001b[0;36m<module>\u001b[1;34m\u001b[0m\n\u001b[1;32m----> 1\u001b[1;33m \u001b[0mtuple\u001b[0m\u001b[1;33m(\u001b[0m\u001b[0mlist1\u001b[0m\u001b[1;33m)\u001b[0m\u001b[1;33m.\u001b[0m\u001b[0mappend\u001b[0m\u001b[1;33m(\u001b[0m\u001b[1;34m\"30\"\u001b[0m\u001b[1;33m)\u001b[0m \u001b[1;31m#tuples are immutable\u001b[0m\u001b[1;33m\u001b[0m\u001b[1;33m\u001b[0m\u001b[0m\n\u001b[0m",
      "\u001b[1;31mAttributeError\u001b[0m: 'tuple' object has no attribute 'append'"
     ]
    }
   ],
   "source": [
    "tuple(list1).append(\"30\") #tuples are immutable"
   ]
  },
  {
   "cell_type": "markdown",
   "id": "efb3cedb",
   "metadata": {},
   "source": [
    "## Mapping Data types"
   ]
  },
  {
   "cell_type": "code",
   "execution_count": 67,
   "id": "450b9dad",
   "metadata": {},
   "outputs": [
    {
     "data": {
      "text/plain": [
       "{}"
      ]
     },
     "execution_count": 67,
     "metadata": {},
     "output_type": "execute_result"
    }
   ],
   "source": [
    "{}"
   ]
  },
  {
   "cell_type": "code",
   "execution_count": 68,
   "id": "387531b1",
   "metadata": {},
   "outputs": [
    {
     "data": {
      "text/plain": [
       "dict"
      ]
     },
     "execution_count": 68,
     "metadata": {},
     "output_type": "execute_result"
    }
   ],
   "source": [
    "type({})"
   ]
  },
  {
   "cell_type": "code",
   "execution_count": 75,
   "id": "bac25bdb",
   "metadata": {},
   "outputs": [],
   "source": [
    "numbers_of_ballon_dors = dict(messi = 8, rodri = 1) #dict function"
   ]
  },
  {
   "cell_type": "code",
   "execution_count": 76,
   "id": "bf5ab584",
   "metadata": {},
   "outputs": [
    {
     "data": {
      "text/plain": [
       "{'messi': 8, 'rodri': 1}"
      ]
     },
     "execution_count": 76,
     "metadata": {},
     "output_type": "execute_result"
    }
   ],
   "source": [
    "numbers_of_ballon_dors"
   ]
  },
  {
   "cell_type": "code",
   "execution_count": 77,
   "id": "4e533b28",
   "metadata": {
    "scrolled": true
   },
   "outputs": [
    {
     "data": {
      "text/plain": [
       "8"
      ]
     },
     "execution_count": 77,
     "metadata": {},
     "output_type": "execute_result"
    }
   ],
   "source": [
    "numbers_of_ballon_dors[\"messi\"]"
   ]
  },
  {
   "cell_type": "markdown",
   "id": "e318e314",
   "metadata": {},
   "source": [
    "## How to add an item to a dictionary?"
   ]
  },
  {
   "cell_type": "code",
   "execution_count": 114,
   "id": "369677a6",
   "metadata": {},
   "outputs": [],
   "source": [
    "numbers_of_ballon_dors[\"Ronaldo\"] = 5 #\"Ronaldo\" is key, 5 is value"
   ]
  },
  {
   "cell_type": "code",
   "execution_count": 93,
   "id": "2bdf7bda",
   "metadata": {},
   "outputs": [
    {
     "data": {
      "text/plain": [
       "{'messi': 8, 'rodri': 1, 'Ronaldo': 5}"
      ]
     },
     "execution_count": 93,
     "metadata": {},
     "output_type": "execute_result"
    }
   ],
   "source": [
    "numbers_of_ballon_dors"
   ]
  },
  {
   "cell_type": "code",
   "execution_count": 94,
   "id": "242ce7a4",
   "metadata": {},
   "outputs": [],
   "source": [
    "numbers_of_ballon_dors[1] = \"Kaka\""
   ]
  },
  {
   "cell_type": "code",
   "execution_count": 95,
   "id": "756f470d",
   "metadata": {},
   "outputs": [
    {
     "data": {
      "text/plain": [
       "{'messi': 8, 'rodri': 1, 'Ronaldo': 5, 1: 'Kaka'}"
      ]
     },
     "execution_count": 95,
     "metadata": {},
     "output_type": "execute_result"
    }
   ],
   "source": [
    "numbers_of_ballon_dors"
   ]
  },
  {
   "cell_type": "markdown",
   "id": "9c44425e",
   "metadata": {},
   "source": [
    "## Key, Value"
   ]
  },
  {
   "cell_type": "code",
   "execution_count": 74,
   "id": "bb4238ab",
   "metadata": {},
   "outputs": [],
   "source": [
    "#dir(dict)"
   ]
  },
  {
   "cell_type": "markdown",
   "id": "53639ff6",
   "metadata": {},
   "source": [
    "## dictionary methods\n",
    "\n",
    "'clear',\n",
    " 'copy',\n",
    " 'fromkeys',\n",
    " 'get',\n",
    " 'items',\n",
    " 'keys',\n",
    " 'pop',\n",
    " 'popitem',\n",
    " 'setdefault',\n",
    " 'update',\n",
    " 'values'"
   ]
  },
  {
   "cell_type": "code",
   "execution_count": 78,
   "id": "3892abad",
   "metadata": {},
   "outputs": [],
   "source": [
    "macro_data = {\"unemployment_usa\" : 3.7, \"unemployment_switzerland\" : 2.5}"
   ]
  },
  {
   "cell_type": "code",
   "execution_count": 79,
   "id": "84bde659",
   "metadata": {
    "scrolled": true
   },
   "outputs": [
    {
     "data": {
      "text/plain": [
       "{'unemployment_usa': 3.7, 'unemployment_switzerland': 2.5}"
      ]
     },
     "execution_count": 79,
     "metadata": {},
     "output_type": "execute_result"
    }
   ],
   "source": [
    "macro_data"
   ]
  },
  {
   "cell_type": "markdown",
   "id": "247dadd9",
   "metadata": {},
   "source": [
    "## Nested dictionaries"
   ]
  },
  {
   "cell_type": "markdown",
   "id": "1e5d24b0",
   "metadata": {},
   "source": [
    "### .clear() method"
   ]
  },
  {
   "cell_type": "code",
   "execution_count": 80,
   "id": "ac76718c",
   "metadata": {},
   "outputs": [],
   "source": [
    "macro_data.clear()"
   ]
  },
  {
   "cell_type": "code",
   "execution_count": 81,
   "id": "94fc6409",
   "metadata": {},
   "outputs": [
    {
     "data": {
      "text/plain": [
       "{}"
      ]
     },
     "execution_count": 81,
     "metadata": {},
     "output_type": "execute_result"
    }
   ],
   "source": [
    "macro_data"
   ]
  },
  {
   "cell_type": "code",
   "execution_count": 82,
   "id": "41cfd74a",
   "metadata": {},
   "outputs": [],
   "source": [
    "macro_data = {\"USA\" : {\"Inflation 2022\" : 8.0, \"unemployment 2022\" : 3.7},\n",
    "              \"Switzerland\" : {\"Inflation 2022\": 3.4, \"unemployment 2022\": 2.5}}"
   ]
  },
  {
   "cell_type": "code",
   "execution_count": 83,
   "id": "6adbdafd",
   "metadata": {
    "scrolled": true
   },
   "outputs": [
    {
     "name": "stdout",
     "output_type": "stream",
     "text": [
      "{'USA': {'Inflation 2022': 8.0, 'unemployment 2022': 3.7}, 'Switzerland': {'Inflation 2022': 3.4, 'unemployment 2022': 2.5}}\n"
     ]
    }
   ],
   "source": [
    "print(macro_data)"
   ]
  },
  {
   "cell_type": "markdown",
   "id": "fc7303f4",
   "metadata": {},
   "source": [
    "### .items()"
   ]
  },
  {
   "cell_type": "code",
   "execution_count": 84,
   "id": "913b4f1d",
   "metadata": {},
   "outputs": [
    {
     "data": {
      "text/plain": [
       "dict_items([('USA', {'Inflation 2022': 8.0, 'unemployment 2022': 3.7}), ('Switzerland', {'Inflation 2022': 3.4, 'unemployment 2022': 2.5})])"
      ]
     },
     "execution_count": 84,
     "metadata": {},
     "output_type": "execute_result"
    }
   ],
   "source": [
    "macro_data.items()"
   ]
  },
  {
   "cell_type": "code",
   "execution_count": 85,
   "id": "2f35c60a",
   "metadata": {
    "scrolled": true
   },
   "outputs": [
    {
     "data": {
      "text/plain": [
       "2"
      ]
     },
     "execution_count": 85,
     "metadata": {},
     "output_type": "execute_result"
    }
   ],
   "source": [
    "len(macro_data.items())"
   ]
  },
  {
   "cell_type": "markdown",
   "id": "bf6a0730",
   "metadata": {},
   "source": [
    "### .keys() method"
   ]
  },
  {
   "cell_type": "code",
   "execution_count": 86,
   "id": "cbdae9a0",
   "metadata": {},
   "outputs": [
    {
     "data": {
      "text/plain": [
       "dict_keys(['USA', 'Switzerland'])"
      ]
     },
     "execution_count": 86,
     "metadata": {},
     "output_type": "execute_result"
    }
   ],
   "source": [
    "macro_data.keys()"
   ]
  },
  {
   "cell_type": "markdown",
   "id": "8b575e15",
   "metadata": {},
   "source": [
    "### .values() method"
   ]
  },
  {
   "cell_type": "code",
   "execution_count": 87,
   "id": "830203c1",
   "metadata": {},
   "outputs": [
    {
     "data": {
      "text/plain": [
       "dict_values([{'Inflation 2022': 8.0, 'unemployment 2022': 3.7}, {'Inflation 2022': 3.4, 'unemployment 2022': 2.5}])"
      ]
     },
     "execution_count": 87,
     "metadata": {},
     "output_type": "execute_result"
    }
   ],
   "source": [
    "macro_data.values()"
   ]
  },
  {
   "cell_type": "code",
   "execution_count": 88,
   "id": "eab55e8e",
   "metadata": {
    "scrolled": true
   },
   "outputs": [
    {
     "data": {
      "text/plain": [
       "{'Inflation 2022': 8.0, 'unemployment 2022': 3.7}"
      ]
     },
     "execution_count": 88,
     "metadata": {},
     "output_type": "execute_result"
    }
   ],
   "source": [
    "macro_data[\"USA\"]"
   ]
  },
  {
   "cell_type": "code",
   "execution_count": 89,
   "id": "a53051bb",
   "metadata": {},
   "outputs": [
    {
     "data": {
      "text/plain": [
       "dict_items([('Inflation 2022', 8.0), ('unemployment 2022', 3.7)])"
      ]
     },
     "execution_count": 89,
     "metadata": {},
     "output_type": "execute_result"
    }
   ],
   "source": [
    "macro_data[\"USA\"].items()"
   ]
  },
  {
   "cell_type": "code",
   "execution_count": 90,
   "id": "fba9f3c6",
   "metadata": {},
   "outputs": [
    {
     "data": {
      "text/plain": [
       "2"
      ]
     },
     "execution_count": 90,
     "metadata": {},
     "output_type": "execute_result"
    }
   ],
   "source": [
    "len(macro_data[\"USA\"].items())"
   ]
  },
  {
   "cell_type": "code",
   "execution_count": 91,
   "id": "02f4134a",
   "metadata": {
    "scrolled": true
   },
   "outputs": [
    {
     "name": "stdout",
     "output_type": "stream",
     "text": [
      "dict_values([8.0, 3.7])\n",
      "dict_keys(['Inflation 2022', 'unemployment 2022'])\n"
     ]
    }
   ],
   "source": [
    "print(macro_data[\"USA\"].values())\n",
    "print(macro_data[\"USA\"].keys())"
   ]
  },
  {
   "cell_type": "markdown",
   "id": "c76e8eb9",
   "metadata": {},
   "source": [
    "## How to add items to nested dictionaries?"
   ]
  },
  {
   "cell_type": "code",
   "execution_count": 100,
   "id": "ab360125",
   "metadata": {},
   "outputs": [],
   "source": [
    "macro_data[\"Japan\"] =  \"inflation rate 1.3\""
   ]
  },
  {
   "cell_type": "code",
   "execution_count": 101,
   "id": "ef83854d",
   "metadata": {},
   "outputs": [
    {
     "data": {
      "text/plain": [
       "{'USA': {'Inflation 2022': 8.0, 'unemployment 2022': 3.7},\n",
       " 'Switzerland': {'Inflation 2022': 3.4, 'unemployment 2022': 2.5},\n",
       " 'Japan': 'inflation rate 1.3'}"
      ]
     },
     "execution_count": 101,
     "metadata": {},
     "output_type": "execute_result"
    }
   ],
   "source": [
    "macro_data"
   ]
  },
  {
   "cell_type": "markdown",
   "id": "7c79cb1b",
   "metadata": {},
   "source": [
    " - 'Japan': 'inflation rate 1.3' is not a dictionary but just an item of macro_data\n"
   ]
  },
  {
   "cell_type": "code",
   "execution_count": 102,
   "id": "42354918",
   "metadata": {},
   "outputs": [],
   "source": [
    "macro_data[\"Japan\"] = {}"
   ]
  },
  {
   "cell_type": "code",
   "execution_count": 103,
   "id": "8dc45658",
   "metadata": {
    "scrolled": true
   },
   "outputs": [
    {
     "name": "stdout",
     "output_type": "stream",
     "text": [
      "{'USA': {'Inflation 2022': 8.0, 'unemployment 2022': 3.7}, 'Switzerland': {'Inflation 2022': 3.4, 'unemployment 2022': 2.5}, 'Japan': {'Inflation sep 2024': 1.3, 'unempolyment sep 2024': 62}}\n"
     ]
    }
   ],
   "source": [
    "macro_data[\"Japan\"][\"Inflation sep 2024\"] = 1.3\n",
    "macro_data[\"Japan\"][\"unempolyment sep 2024\"] = 62\n",
    "\n",
    "print(macro_data)"
   ]
  },
  {
   "cell_type": "markdown",
   "id": "721cc801",
   "metadata": {},
   "source": [
    "### .popitem() method"
   ]
  },
  {
   "cell_type": "code",
   "execution_count": 110,
   "id": "f6f8a8a8",
   "metadata": {},
   "outputs": [
    {
     "data": {
      "text/plain": [
       "('Japan', {'Inflation sep 2024': 1.3, 'unempolyment sep 2024': 62})"
      ]
     },
     "execution_count": 110,
     "metadata": {},
     "output_type": "execute_result"
    }
   ],
   "source": [
    "macro_data.popitem()"
   ]
  },
  {
   "cell_type": "code",
   "execution_count": 111,
   "id": "fcc413b3",
   "metadata": {
    "scrolled": false
   },
   "outputs": [
    {
     "data": {
      "text/plain": [
       "{'USA': {'Inflation 2022': 8.0, 'unemployment 2022': 3.7},\n",
       " 'Switzerland': {'Inflation 2022': 3.4, 'unemployment 2022': 2.5}}"
      ]
     },
     "execution_count": 111,
     "metadata": {},
     "output_type": "execute_result"
    }
   ],
   "source": [
    "macro_data"
   ]
  },
  {
   "cell_type": "markdown",
   "id": "0b312439",
   "metadata": {},
   "source": [
    "## .pop() method"
   ]
  },
  {
   "cell_type": "code",
   "execution_count": 112,
   "id": "a8790426",
   "metadata": {
    "scrolled": true
   },
   "outputs": [
    {
     "data": {
      "text/plain": [
       "{'Inflation 2022': 3.4, 'unemployment 2022': 2.5}"
      ]
     },
     "execution_count": 112,
     "metadata": {},
     "output_type": "execute_result"
    }
   ],
   "source": [
    "macro_data.pop(\"Switzerland\")"
   ]
  },
  {
   "cell_type": "code",
   "execution_count": 113,
   "id": "423e2920",
   "metadata": {},
   "outputs": [
    {
     "data": {
      "text/plain": [
       "{'USA': {'Inflation 2022': 8.0, 'unemployment 2022': 3.7}}"
      ]
     },
     "execution_count": 113,
     "metadata": {},
     "output_type": "execute_result"
    }
   ],
   "source": [
    "macro_data"
   ]
  },
  {
   "cell_type": "markdown",
   "id": "693c7a20",
   "metadata": {},
   "source": [
    "# Exercise:\n",
    "\n",
    "- The first, second, third, and fourth items of the lists below are related to India, Brazil, Nigeria, and Australia, respectively.\n",
    "\n",
    "1. Create a nested dictionary.\n",
    "2. Remove Nigeria.\n",
    "3. Add any country you like (use arbitrary values).\n",
    "4. Using a function, calculate the number of items in this dictionary.\n",
    "5. What is the total number of items?"
   ]
  },
  {
   "cell_type": "code",
   "execution_count": 116,
   "id": "9d3f838d",
   "metadata": {},
   "outputs": [],
   "source": [
    "countries = [\"India\", \"Brazil\", \"Nigeria\", \"Australia\"]\n",
    "population_growth_rates = [1.2, 0.8, 1.5, 1.1]\n",
    "literacy_rates = [74.4, 92.6, 62.0, 99.0]\n",
    "life_expectancy = [69.7, 75.5, 54.3, 82.9]"
   ]
  }
 ],
 "metadata": {
  "kernelspec": {
   "display_name": "Python 3 (ipykernel)",
   "language": "python",
   "name": "python3"
  },
  "language_info": {
   "codemirror_mode": {
    "name": "ipython",
    "version": 3
   },
   "file_extension": ".py",
   "mimetype": "text/x-python",
   "name": "python",
   "nbconvert_exporter": "python",
   "pygments_lexer": "ipython3",
   "version": "3.9.13"
  }
 },
 "nbformat": 4,
 "nbformat_minor": 5
}
