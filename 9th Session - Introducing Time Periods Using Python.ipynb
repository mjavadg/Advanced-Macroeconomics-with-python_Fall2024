{
 "cells": [
  {
   "cell_type": "markdown",
   "id": "07bcfd6d-2eec-4ebe-8d7d-8f138b7ad5c5",
   "metadata": {},
   "source": [
    "# 9th Session"
   ]
  },
  {
   "cell_type": "markdown",
   "id": "e38a6594-54b7-4fa1-9f4b-f8d774f72b36",
   "metadata": {},
   "source": [
    "# Introducing Time Periods Using Python"
   ]
  },
  {
   "cell_type": "markdown",
   "id": "a9e42b74-b698-4f00-a333-67047f94553c",
   "metadata": {},
   "source": [
    "## With lists"
   ]
  },
  {
   "cell_type": "code",
   "execution_count": 10,
   "id": "7e5a4ce5-8754-44c3-9bb9-b087bb338957",
   "metadata": {},
   "outputs": [
    {
     "name": "stdout",
     "output_type": "stream",
     "text": [
      "100\n",
      "120\n",
      "140\n",
      "160\n",
      "180\n"
     ]
    }
   ],
   "source": [
    "capital = [100, 120, 140, 160, 180]\n",
    "\n",
    "for i in capital:\n",
    "    print(i)"
   ]
  },
  {
   "cell_type": "code",
   "execution_count": 22,
   "id": "cf34fe7f-0c3e-4999-a324-613963f10b32",
   "metadata": {},
   "outputs": [
    {
     "name": "stdout",
     "output_type": "stream",
     "text": [
      "1th period: 100\n",
      "2th period: 120\n",
      "3th period: 140\n",
      "4th period: 160\n",
      "5th period: 180\n"
     ]
    }
   ],
   "source": [
    "capital = [100, 120, 140, 160, 180]\n",
    "index = 1\n",
    "\n",
    "for i in capital:\n",
    "    print(f\"{index}th period: {i}\")\n",
    "    index += 1"
   ]
  },
  {
   "cell_type": "code",
   "execution_count": 28,
   "id": "b20d4495-b8fc-4d54-b013-8bc0c4cfa378",
   "metadata": {},
   "outputs": [
    {
     "name": "stdout",
     "output_type": "stream",
     "text": [
      "1st period: 100\n",
      "2nd period: 120\n",
      "3rd period: 140\n",
      "4th period: 160\n",
      "5th period: 180\n"
     ]
    }
   ],
   "source": [
    "capital = [100, 120, 140, 160, 180]\n",
    "index = 1\n",
    "\n",
    "for i in capital:\n",
    "    if index == 1:\n",
    "        print(f\"{index}st period: {i}\")\n",
    "    elif index == 2:\n",
    "        print(f\"{index}nd period: {i}\")\n",
    "    elif index == 3:\n",
    "        print(f\"{index}rd period: {i}\")\n",
    "    else:\n",
    "        print(f\"{index}th period: {i}\")\n",
    "    index += 1\n",
    "\n",
    "        "
   ]
  },
  {
   "cell_type": "markdown",
   "id": "34506967-104b-494d-857a-ee73391403ae",
   "metadata": {},
   "source": [
    "## With zip() function"
   ]
  },
  {
   "cell_type": "code",
   "execution_count": 30,
   "id": "d9338720-a9c1-4aae-a415-9fd05b7ca4bb",
   "metadata": {},
   "outputs": [
    {
     "ename": "ValueError",
     "evalue": "too many values to unpack (expected 2)",
     "output_type": "error",
     "traceback": [
      "\u001b[1;31m---------------------------------------------------------------------------\u001b[0m",
      "\u001b[1;31mValueError\u001b[0m                                Traceback (most recent call last)",
      "Cell \u001b[1;32mIn[30], line 4\u001b[0m\n\u001b[0;32m      1\u001b[0m capital \u001b[38;5;241m=\u001b[39m [\u001b[38;5;241m100\u001b[39m, \u001b[38;5;241m120\u001b[39m, \u001b[38;5;241m140\u001b[39m, \u001b[38;5;241m160\u001b[39m, \u001b[38;5;241m180\u001b[39m]\n\u001b[0;32m      2\u001b[0m time_periods \u001b[38;5;241m=\u001b[39m [\u001b[38;5;124m\"\u001b[39m\u001b[38;5;124m1st\u001b[39m\u001b[38;5;124m\"\u001b[39m, \u001b[38;5;124m\"\u001b[39m\u001b[38;5;124m2nd\u001b[39m\u001b[38;5;124m\"\u001b[39m, \u001b[38;5;124m\"\u001b[39m\u001b[38;5;124m3rd\u001b[39m\u001b[38;5;124m\"\u001b[39m, \u001b[38;5;124m\"\u001b[39m\u001b[38;5;124m4th\u001b[39m\u001b[38;5;124m\"\u001b[39m, \u001b[38;5;124m\"\u001b[39m\u001b[38;5;124m5th\u001b[39m\u001b[38;5;124m\"\u001b[39m]\n\u001b[1;32m----> 4\u001b[0m \u001b[38;5;28;01mfor\u001b[39;00m i, j \u001b[38;5;129;01min\u001b[39;00m (capital, time_periods):\n\u001b[0;32m      5\u001b[0m     \u001b[38;5;28mprint\u001b[39m(i, j)\n",
      "\u001b[1;31mValueError\u001b[0m: too many values to unpack (expected 2)"
     ]
    }
   ],
   "source": [
    "capital = [100, 120, 140, 160, 180]\n",
    "time_periods = [\"1st\", \"2nd\", \"3rd\", \"4th\", \"5th\"]\n",
    "\n",
    "for i, j in (capital, time_periods):\n",
    "    print(i, j)"
   ]
  },
  {
   "cell_type": "code",
   "execution_count": 40,
   "id": "643b1e51-b35f-4f46-88bc-84ae652eed9f",
   "metadata": {},
   "outputs": [],
   "source": [
    "#for i in capital:\n",
    "    #for j in time_periods:\n",
    "        #print(i, j)"
   ]
  },
  {
   "cell_type": "code",
   "execution_count": 69,
   "id": "5a7c85dd-b067-428d-baad-8586a918343e",
   "metadata": {},
   "outputs": [
    {
     "data": {
      "text/plain": [
       "<zip at 0x259f8723580>"
      ]
     },
     "execution_count": 69,
     "metadata": {},
     "output_type": "execute_result"
    }
   ],
   "source": [
    "capital = [100, 120, 140, 160, 180]\n",
    "time_periods = [\"1st\", \"2nd\", \"3rd\", \"4th\", \"5th\"]\n",
    "\n",
    "zip(capital, time_periods)"
   ]
  },
  {
   "cell_type": "code",
   "execution_count": 71,
   "id": "781e0331-915e-4adc-8ca7-16ae46844e0f",
   "metadata": {},
   "outputs": [
    {
     "data": {
      "text/plain": [
       "((100, '1st'), (120, '2nd'), (140, '3rd'), (160, '4th'), (180, '5th'))"
      ]
     },
     "execution_count": 71,
     "metadata": {},
     "output_type": "execute_result"
    }
   ],
   "source": [
    "tuple(zip(capital, time_periods))"
   ]
  },
  {
   "cell_type": "code",
   "execution_count": 44,
   "id": "76f7624b-14f2-489a-a509-a637c3b7b1d1",
   "metadata": {},
   "outputs": [
    {
     "name": "stdout",
     "output_type": "stream",
     "text": [
      "1st: 100\n",
      "2nd: 120\n",
      "3rd: 140\n",
      "4th: 160\n",
      "5th: 180\n"
     ]
    }
   ],
   "source": [
    "for kapital, time_period in zip(capital, time_periods):\n",
    "    print(f\"{time_period}: {kapital}\")"
   ]
  },
  {
   "cell_type": "code",
   "execution_count": 50,
   "id": "3b6e7268-9ece-4663-9d03-da9842611c9b",
   "metadata": {},
   "outputs": [],
   "source": [
    "capital = [100, 120, 140, 160, 180]\n",
    "depreciation_rate = [0.1, 0.2, 0.3, 0.4, 0.5]\n",
    "\n",
    "new_capital = []\n",
    "\n",
    "for i, j in zip(capital, depreciation_rate):\n",
    "    new_capital.append(i * (1-j))"
   ]
  },
  {
   "cell_type": "code",
   "execution_count": 52,
   "id": "db77c86b-5496-4b49-904d-b56b489aa310",
   "metadata": {},
   "outputs": [
    {
     "data": {
      "text/plain": [
       "[90.0, 96.0, 98.0, 96.0, 90.0]"
      ]
     },
     "execution_count": 52,
     "metadata": {},
     "output_type": "execute_result"
    }
   ],
   "source": [
    "new_capital"
   ]
  },
  {
   "cell_type": "markdown",
   "id": "fbfc8f2a-7f56-4964-8ca8-dacf849ad34b",
   "metadata": {},
   "source": [
    "# Exercise:\n",
    "- print the items of new_capital with its corresponding period. (feel free to use whatever approach you like)"
   ]
  },
  {
   "cell_type": "markdown",
   "id": "f8332d62-dda3-498f-bc55-c5c5745c86b4",
   "metadata": {},
   "source": [
    "## With enumerate() function"
   ]
  },
  {
   "cell_type": "code",
   "execution_count": 55,
   "id": "13b81bb6-c2c4-4ebe-82aa-a1a4a5c5cdbb",
   "metadata": {},
   "outputs": [],
   "source": [
    "capital = [100, 120, 140, 160, 180]"
   ]
  },
  {
   "cell_type": "code",
   "execution_count": 57,
   "id": "9e5eed11-e130-4a83-8c3b-bec4b5232d05",
   "metadata": {},
   "outputs": [
    {
     "data": {
      "text/plain": [
       "<enumerate at 0x259f871a250>"
      ]
     },
     "execution_count": 57,
     "metadata": {},
     "output_type": "execute_result"
    }
   ],
   "source": [
    "enumerate(capital)"
   ]
  },
  {
   "cell_type": "code",
   "execution_count": 59,
   "id": "d0524489-4c89-4761-9b2c-d66986e94def",
   "metadata": {},
   "outputs": [
    {
     "data": {
      "text/plain": [
       "range(1, 12)"
      ]
     },
     "execution_count": 59,
     "metadata": {},
     "output_type": "execute_result"
    }
   ],
   "source": [
    "range(1, 12)"
   ]
  },
  {
   "cell_type": "code",
   "execution_count": 63,
   "id": "2d84062d-9987-46a6-84fe-e35e1de13abe",
   "metadata": {},
   "outputs": [
    {
     "data": {
      "text/plain": [
       "[1, 2, 3, 4, 5, 6, 7, 8, 9, 10, 11]"
      ]
     },
     "execution_count": 63,
     "metadata": {},
     "output_type": "execute_result"
    }
   ],
   "source": [
    "list(range(1, 12))"
   ]
  },
  {
   "cell_type": "code",
   "execution_count": 65,
   "id": "002e7232-f24f-49ca-b3ef-954fcc4e1c52",
   "metadata": {},
   "outputs": [
    {
     "data": {
      "text/plain": [
       "[(0, 100), (1, 120), (2, 140), (3, 160), (4, 180)]"
      ]
     },
     "execution_count": 65,
     "metadata": {},
     "output_type": "execute_result"
    }
   ],
   "source": [
    "list(enumerate(capital))"
   ]
  },
  {
   "cell_type": "code",
   "execution_count": 67,
   "id": "e20ecc75-5088-4c3e-a01f-f32f98f15407",
   "metadata": {},
   "outputs": [
    {
     "data": {
      "text/plain": [
       "100"
      ]
     },
     "execution_count": 67,
     "metadata": {},
     "output_type": "execute_result"
    }
   ],
   "source": [
    "capital[0]"
   ]
  },
  {
   "cell_type": "code",
   "execution_count": 75,
   "id": "ccd1f867-355a-4f62-ae99-0e52ec083c57",
   "metadata": {},
   "outputs": [
    {
     "name": "stdout",
     "output_type": "stream",
     "text": [
      "0: 100\n",
      "1: 120\n",
      "2: 140\n",
      "3: 160\n",
      "4: 180\n"
     ]
    }
   ],
   "source": [
    "for index, kapital in enumerate(capital):\n",
    "    print(f\"{index}: {kapital}\")"
   ]
  },
  {
   "cell_type": "code",
   "execution_count": 79,
   "id": "8add4377-4e3f-409f-b0d8-c3d1415c5357",
   "metadata": {},
   "outputs": [
    {
     "name": "stdout",
     "output_type": "stream",
     "text": [
      "1: 100\n",
      "2: 120\n",
      "3: 140\n",
      "4: 160\n",
      "5: 180\n"
     ]
    }
   ],
   "source": [
    "for index, kapital in enumerate(capital):\n",
    "    print(f\"{index + 1}: {kapital}\")"
   ]
  },
  {
   "cell_type": "markdown",
   "id": "65a24778-5c95-49d0-9399-3e537daafe9d",
   "metadata": {},
   "source": [
    "# Exercise:\n",
    "produce an output similar to the following using enumerate():\n",
    "\n",
    "1st period: 100\n",
    "\n",
    "2nd period: 120\n",
    "\n",
    "3rd period: 140\n",
    "\n",
    "4th period: 160\n",
    "\n",
    "5th period: 180"
   ]
  },
  {
   "cell_type": "markdown",
   "id": "576da076-de05-4608-9ab9-f3dfcfd5d41d",
   "metadata": {},
   "source": [
    "## With numpy.zeros()"
   ]
  },
  {
   "cell_type": "code",
   "execution_count": 85,
   "id": "37ccda10-ae52-45c4-aa70-746cf8046576",
   "metadata": {},
   "outputs": [
    {
     "name": "stdout",
     "output_type": "stream",
     "text": [
      "[1, 2, 3, 1, 2, 3]\n"
     ]
    },
    {
     "ename": "TypeError",
     "evalue": "can't multiply sequence by non-int of type 'list'",
     "output_type": "error",
     "traceback": [
      "\u001b[1;31m---------------------------------------------------------------------------\u001b[0m",
      "\u001b[1;31mTypeError\u001b[0m                                 Traceback (most recent call last)",
      "Cell \u001b[1;32mIn[85], line 5\u001b[0m\n\u001b[0;32m      2\u001b[0m b \u001b[38;5;241m=\u001b[39m [\u001b[38;5;241m1\u001b[39m, \u001b[38;5;241m2\u001b[39m, \u001b[38;5;241m3\u001b[39m]\n\u001b[0;32m      4\u001b[0m \u001b[38;5;28mprint\u001b[39m(a \u001b[38;5;241m+\u001b[39m b)\n\u001b[1;32m----> 5\u001b[0m \u001b[38;5;28mprint\u001b[39m(\u001b[43ma\u001b[49m\u001b[43m \u001b[49m\u001b[38;5;241;43m*\u001b[39;49m\u001b[43m \u001b[49m\u001b[43mb\u001b[49m)\n",
      "\u001b[1;31mTypeError\u001b[0m: can't multiply sequence by non-int of type 'list'"
     ]
    }
   ],
   "source": [
    "a = [1, 2, 3]\n",
    "b = [1, 2, 3]\n",
    "\n",
    "print(a + b)\n",
    "print(a * b)"
   ]
  },
  {
   "cell_type": "code",
   "execution_count": 87,
   "id": "821355b1-9360-4225-9948-7b7120a16e73",
   "metadata": {},
   "outputs": [],
   "source": [
    "import numpy as np"
   ]
  },
  {
   "cell_type": "code",
   "execution_count": 89,
   "id": "626f187e-adc2-489f-aba2-19d1c4abc860",
   "metadata": {},
   "outputs": [
    {
     "name": "stdout",
     "output_type": "stream",
     "text": [
      "[1 2 3 4]\n"
     ]
    }
   ],
   "source": [
    "c = np.arange(1, 5)\n",
    "print(c)"
   ]
  },
  {
   "cell_type": "code",
   "execution_count": 91,
   "id": "adba6c16-bf59-41b4-958a-8b64868a5ffe",
   "metadata": {},
   "outputs": [
    {
     "name": "stdout",
     "output_type": "stream",
     "text": [
      "[1 2 3 4]\n"
     ]
    }
   ],
   "source": [
    "d = np.arange(1, 5)\n",
    "print(d)"
   ]
  },
  {
   "cell_type": "code",
   "execution_count": 93,
   "id": "33011694-41e6-41b9-afcc-6a8fd6c6ef9c",
   "metadata": {},
   "outputs": [
    {
     "data": {
      "text/plain": [
       "array([2, 4, 6, 8])"
      ]
     },
     "execution_count": 93,
     "metadata": {},
     "output_type": "execute_result"
    }
   ],
   "source": [
    "d + c"
   ]
  },
  {
   "cell_type": "code",
   "execution_count": 95,
   "id": "0013a3fb-b392-4114-bc46-63a5ff3322c7",
   "metadata": {},
   "outputs": [
    {
     "data": {
      "text/plain": [
       "array([ 1,  4,  9, 16])"
      ]
     },
     "execution_count": 95,
     "metadata": {},
     "output_type": "execute_result"
    }
   ],
   "source": [
    "d * c"
   ]
  },
  {
   "cell_type": "markdown",
   "id": "c82da151-a46d-4c4c-b9ac-ce8380bf0c23",
   "metadata": {},
   "source": [
    "### using np.zeros()"
   ]
  },
  {
   "cell_type": "code",
   "execution_count": 100,
   "id": "9274d638-ce49-45ac-8319-3bd2996035df",
   "metadata": {},
   "outputs": [
    {
     "data": {
      "text/plain": [
       "array([0., 0., 0., 0., 0.])"
      ]
     },
     "execution_count": 100,
     "metadata": {},
     "output_type": "execute_result"
    }
   ],
   "source": [
    "var1 = np.zeros(5)\n",
    "var1"
   ]
  },
  {
   "cell_type": "code",
   "execution_count": 102,
   "id": "72c52e1f-7dd2-4745-8459-738ac3f8d217",
   "metadata": {},
   "outputs": [
    {
     "data": {
      "text/plain": [
       "array([0, 0, 0, 0, 0])"
      ]
     },
     "execution_count": 102,
     "metadata": {},
     "output_type": "execute_result"
    }
   ],
   "source": [
    "var2 = np.zeros(5, dtype  = int)\n",
    "var2"
   ]
  },
  {
   "cell_type": "code",
   "execution_count": 104,
   "id": "994f517e-fde6-4799-a469-2bb934cad8a4",
   "metadata": {},
   "outputs": [
    {
     "data": {
      "text/plain": [
       "array([[0., 0., 0., 0.],\n",
       "       [0., 0., 0., 0.],\n",
       "       [0., 0., 0., 0.]])"
      ]
     },
     "execution_count": 104,
     "metadata": {},
     "output_type": "execute_result"
    }
   ],
   "source": [
    "var3 = np.zeros((3, 4))\n",
    "var3"
   ]
  },
  {
   "cell_type": "code",
   "execution_count": 106,
   "id": "a469098e-cf23-46dc-8002-cebb5431a508",
   "metadata": {},
   "outputs": [],
   "source": [
    "list1 = [1, 2, 3, 4]\n",
    "list1[0] = 5"
   ]
  },
  {
   "cell_type": "code",
   "execution_count": 108,
   "id": "e4b5f040-f2e6-48df-9324-1bae36d33049",
   "metadata": {},
   "outputs": [
    {
     "data": {
      "text/plain": [
       "[5, 2, 3, 4]"
      ]
     },
     "execution_count": 108,
     "metadata": {},
     "output_type": "execute_result"
    }
   ],
   "source": [
    "list1"
   ]
  },
  {
   "cell_type": "code",
   "execution_count": 110,
   "id": "08a80f85-45f0-4a2d-9e5a-c2c339a9477d",
   "metadata": {},
   "outputs": [
    {
     "data": {
      "text/plain": [
       "array([1., 0., 0., 0., 0.])"
      ]
     },
     "execution_count": 110,
     "metadata": {},
     "output_type": "execute_result"
    }
   ],
   "source": [
    "var1 = np.zeros(5)\n",
    "var1[0] = 1\n",
    "var1"
   ]
  },
  {
   "cell_type": "code",
   "execution_count": 114,
   "id": "b13a4f1f-2601-4ad8-b723-464c495514e8",
   "metadata": {},
   "outputs": [
    {
     "name": "stdout",
     "output_type": "stream",
     "text": [
      "[ 1.  5. 10. 15. 20.]\n"
     ]
    }
   ],
   "source": [
    "for i in range(1, 5):\n",
    "    var1[i] = i * 5\n",
    "print(var1)"
   ]
  },
  {
   "cell_type": "code",
   "execution_count": 116,
   "id": "edec1fd2-0fbd-47e1-9ed1-0a04de538772",
   "metadata": {},
   "outputs": [
    {
     "data": {
      "text/plain": [
       "[1, 2, 3, 4]"
      ]
     },
     "execution_count": 116,
     "metadata": {},
     "output_type": "execute_result"
    }
   ],
   "source": [
    "list(range(1, 5))"
   ]
  },
  {
   "cell_type": "code",
   "execution_count": 118,
   "id": "33d25ddf-0847-4a3e-a956-f1c525491081",
   "metadata": {},
   "outputs": [
    {
     "name": "stdout",
     "output_type": "stream",
     "text": [
      "[ 0.  5. 10. 15. 20.]\n"
     ]
    }
   ],
   "source": [
    "var2 = np.zeros(5)\n",
    "\n",
    "for i in range(1, 5):\n",
    "    var2[i] = i * 5\n",
    "\n",
    "print(var2)"
   ]
  },
  {
   "cell_type": "code",
   "execution_count": 120,
   "id": "3962a6e3-a229-4bc8-a133-2882be670eef",
   "metadata": {},
   "outputs": [
    {
     "name": "stdout",
     "output_type": "stream",
     "text": [
      "[ 0.  5. 10. 15. 20.]\n"
     ]
    }
   ],
   "source": [
    "var3 = np.zeros(5)\n",
    "\n",
    "for i in range(0, 5):\n",
    "    var3[i] = i * 5\n",
    "\n",
    "print(var3)"
   ]
  },
  {
   "cell_type": "code",
   "execution_count": 124,
   "id": "3660cdf2-becf-41b0-a613-30ddfd43bb4c",
   "metadata": {},
   "outputs": [
    {
     "data": {
      "text/plain": [
       "[0, 1, 2, 3, 4]"
      ]
     },
     "execution_count": 124,
     "metadata": {},
     "output_type": "execute_result"
    }
   ],
   "source": [
    "list(range(0, 5))"
   ]
  },
  {
   "cell_type": "code",
   "execution_count": 126,
   "id": "af2f8fdb-e445-4b30-92cb-42ae0541a656",
   "metadata": {},
   "outputs": [
    {
     "name": "stdout",
     "output_type": "stream",
     "text": [
      "[0. 0. 0. 0. 0. 0. 0. 0. 0. 0.]\n"
     ]
    }
   ],
   "source": [
    "time_p = 10\n",
    "k = np.zeros(time_p)\n",
    "print(k)"
   ]
  },
  {
   "cell_type": "code",
   "execution_count": 128,
   "id": "d4767f3b-afed-4b21-acdd-6cdd5e872e5e",
   "metadata": {},
   "outputs": [],
   "source": [
    "k[0] = 100"
   ]
  },
  {
   "cell_type": "code",
   "execution_count": 130,
   "id": "1dfc035d-b49f-4900-a218-237c4a44201c",
   "metadata": {
    "collapsed": true,
    "jupyter": {
     "outputs_hidden": true
    }
   },
   "outputs": [
    {
     "name": "stdout",
     "output_type": "stream",
     "text": [
      "[100.   0.   0.   0.   0.   0.   0.   0.   0.   0.]\n"
     ]
    }
   ],
   "source": [
    "print(k)"
   ]
  },
  {
   "cell_type": "code",
   "execution_count": 132,
   "id": "1ab1cf7f-80ee-4306-b65a-6b57b2526041",
   "metadata": {},
   "outputs": [
    {
     "data": {
      "text/plain": [
       "10"
      ]
     },
     "execution_count": 132,
     "metadata": {},
     "output_type": "execute_result"
    }
   ],
   "source": [
    "len(k)"
   ]
  },
  {
   "cell_type": "code",
   "execution_count": 134,
   "id": "172ea394-bad0-4b0b-a0bc-f5cda8099f99",
   "metadata": {},
   "outputs": [
    {
     "name": "stdout",
     "output_type": "stream",
     "text": [
      "[100.         90.         81.         72.9        65.61       59.049\n",
      "  53.1441     47.82969    43.046721   38.7420489]\n"
     ]
    }
   ],
   "source": [
    "for i in range(len(k) - 1):\n",
    "    k[i + 1] = k[i] * (1-0.1)\n",
    "\n",
    "print(k)"
   ]
  },
  {
   "cell_type": "code",
   "execution_count": 136,
   "id": "72d661fb-c5db-4b98-b01e-66a870139b47",
   "metadata": {},
   "outputs": [
    {
     "ename": "TypeError",
     "evalue": "unsupported operand type(s) for ** or pow(): 'list' and 'float'",
     "output_type": "error",
     "traceback": [
      "\u001b[1;31m---------------------------------------------------------------------------\u001b[0m",
      "\u001b[1;31mTypeError\u001b[0m                                 Traceback (most recent call last)",
      "Cell \u001b[1;32mIn[136], line 2\u001b[0m\n\u001b[0;32m      1\u001b[0m a \u001b[38;5;241m=\u001b[39m [\u001b[38;5;241m1\u001b[39m, \u001b[38;5;241m2\u001b[39m, \u001b[38;5;241m3\u001b[39m]\n\u001b[1;32m----> 2\u001b[0m \u001b[38;5;28mprint\u001b[39m(\u001b[43ma\u001b[49m\u001b[43m \u001b[49m\u001b[38;5;241;43m*\u001b[39;49m\u001b[38;5;241;43m*\u001b[39;49m\u001b[43m \u001b[49m\u001b[38;5;241;43m0.5\u001b[39;49m)\n",
      "\u001b[1;31mTypeError\u001b[0m: unsupported operand type(s) for ** or pow(): 'list' and 'float'"
     ]
    }
   ],
   "source": [
    "a = [1, 2, 3]\n",
    "print(a ** 0.5)"
   ]
  },
  {
   "cell_type": "code",
   "execution_count": 138,
   "id": "5b968b9f-bb15-4ed0-8460-42133379bb44",
   "metadata": {},
   "outputs": [
    {
     "data": {
      "text/plain": [
       "array([10.        ,  9.48683298,  9.        ,  8.53814968,  8.1       ,\n",
       "        7.68433471,  7.29      ,  6.91590124,  6.561     ,  6.22431112])"
      ]
     },
     "execution_count": 138,
     "metadata": {},
     "output_type": "execute_result"
    }
   ],
   "source": [
    "k ** 0.5"
   ]
  },
  {
   "cell_type": "code",
   "execution_count": 140,
   "id": "71018a49-8a7c-4d19-be7a-55d6ccf45708",
   "metadata": {},
   "outputs": [],
   "source": [
    "import matplotlib.pyplot as plt"
   ]
  },
  {
   "cell_type": "code",
   "execution_count": 152,
   "id": "a87b9595-38ed-4a05-a074-e11b924c2f3a",
   "metadata": {},
   "outputs": [
    {
     "data": {
      "image/png": "[encoded data removed]",
      "text/plain": [
       "<Figure size 640x480 with 1 Axes>"
      ]
     },
     "metadata": {},
     "output_type": "display_data"
    }
   ],
   "source": [
    "plt.plot(k, k ** 0.5, color = \"green\")\n",
    "plt.title(\"capital per effective labour and output per effective labour\")\n",
    "plt.xlabel(\"capital\")\n",
    "plt.ylabel(\"output\")\n",
    "plt.show()"
   ]
  }
 ],
 "metadata": {
  "kernelspec": {
   "display_name": "Python 3 (ipykernel)",
   "language": "python",
   "name": "python3"
  },
  "language_info": {
   "codemirror_mode": {
    "name": "ipython",
    "version": 3
   },
   "file_extension": ".py",
   "mimetype": "text/x-python",
   "name": "python",
   "nbconvert_exporter": "python",
   "pygments_lexer": "ipython3",
   "version": "3.12.7"
  }
 },
 "nbformat": 4,
 "nbformat_minor": 5
}
