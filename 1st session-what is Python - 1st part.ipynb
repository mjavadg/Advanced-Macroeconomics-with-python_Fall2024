{
 "cells": [
  {
   "cell_type": "markdown",
   "id": "3b9f3748",
   "metadata": {},
   "source": [
    "# First Session"
   ]
  },
  {
   "cell_type": "markdown",
   "id": "370e4fa4",
   "metadata": {},
   "source": [
    "# What is python?\n",
    "\n",
    "- First and foremost it is a language, a language that computers understand to perform certain tasks. Therefore, it is a programming language.\n",
    "\n",
    "## First part"
   ]
  },
  {
   "cell_type": "markdown",
   "id": "d2ccf09d",
   "metadata": {},
   "source": [
    "# How can we communicate via python?\n",
    "\n",
    "- Computer languages operate in binary, using 0s and 1s. But, what does Python understand?"
   ]
  },
  {
   "cell_type": "code",
   "execution_count": 8,
   "id": "10be93ed",
   "metadata": {},
   "outputs": [
    {
     "ename": "NameError",
     "evalue": "name 'hello' is not defined",
     "output_type": "error",
     "traceback": [
      "\u001b[1;31m---------------------------------------------------------------------------\u001b[0m",
      "\u001b[1;31mNameError\u001b[0m                                 Traceback (most recent call last)",
      "\u001b[1;32m~\\AppData\\Local\\Temp\\ipykernel_10968\\4128581164.py\u001b[0m in \u001b[0;36m<module>\u001b[1;34m\u001b[0m\n\u001b[1;32m----> 1\u001b[1;33m \u001b[0mhello\u001b[0m \u001b[1;31m#not defined yet\u001b[0m\u001b[1;33m\u001b[0m\u001b[1;33m\u001b[0m\u001b[0m\n\u001b[0m",
      "\u001b[1;31mNameError\u001b[0m: name 'hello' is not defined"
     ]
    }
   ],
   "source": [
    "hello #not defined yet"
   ]
  },
  {
   "cell_type": "code",
   "execution_count": 7,
   "id": "9124440d",
   "metadata": {},
   "outputs": [
    {
     "data": {
      "text/plain": [
       "16"
      ]
     },
     "execution_count": 7,
     "metadata": {},
     "output_type": "execute_result"
    }
   ],
   "source": [
    "16 #This number is defined for python"
   ]
  },
  {
   "cell_type": "markdown",
   "id": "11b850ab",
   "metadata": {},
   "source": [
    "# Data types and Data Structures\n",
    "\n",
    "- The following are what python understands:"
   ]
  },
  {
   "cell_type": "markdown",
   "id": "f9416139",
   "metadata": {},
   "source": [
    "# 1. Numerical Data Types"
   ]
  },
  {
   "cell_type": "markdown",
   "id": "257db23b",
   "metadata": {},
   "source": [
    "## Integers"
   ]
  },
  {
   "cell_type": "code",
   "execution_count": 9,
   "id": "09ce68b5",
   "metadata": {},
   "outputs": [
    {
     "data": {
      "text/plain": [
       "10"
      ]
     },
     "execution_count": 9,
     "metadata": {},
     "output_type": "execute_result"
    }
   ],
   "source": [
    "10"
   ]
  },
  {
   "cell_type": "code",
   "execution_count": 10,
   "id": "1a154f64",
   "metadata": {},
   "outputs": [
    {
     "data": {
      "text/plain": [
       "15"
      ]
     },
     "execution_count": 10,
     "metadata": {},
     "output_type": "execute_result"
    }
   ],
   "source": [
    "10 + 5"
   ]
  },
  {
   "cell_type": "code",
   "execution_count": 11,
   "id": "b5a29519",
   "metadata": {},
   "outputs": [
    {
     "data": {
      "text/plain": [
       "81"
      ]
     },
     "execution_count": 11,
     "metadata": {},
     "output_type": "execute_result"
    }
   ],
   "source": [
    "9 * 9 #Multiplication"
   ]
  },
  {
   "cell_type": "code",
   "execution_count": 12,
   "id": "a21a23d9",
   "metadata": {},
   "outputs": [
    {
     "data": {
      "text/plain": [
       "0"
      ]
     },
     "execution_count": 12,
     "metadata": {},
     "output_type": "execute_result"
    }
   ],
   "source": [
    "9 - 9 "
   ]
  },
  {
   "cell_type": "code",
   "execution_count": 14,
   "id": "98aa7106",
   "metadata": {},
   "outputs": [
    {
     "data": {
      "text/plain": [
       "3.3333333333333335"
      ]
     },
     "execution_count": 14,
     "metadata": {},
     "output_type": "execute_result"
    }
   ],
   "source": [
    "20 / 6 #The division operator can change the data types"
   ]
  },
  {
   "cell_type": "markdown",
   "id": "d4361ac4",
   "metadata": {},
   "source": [
    "## Float"
   ]
  },
  {
   "cell_type": "markdown",
   "id": "dcfcaa2c",
   "metadata": {},
   "source": [
    "### Type() function"
   ]
  },
  {
   "cell_type": "code",
   "execution_count": 15,
   "id": "a3892859",
   "metadata": {},
   "outputs": [
    {
     "data": {
      "text/plain": [
       "int"
      ]
     },
     "execution_count": 15,
     "metadata": {},
     "output_type": "execute_result"
    }
   ],
   "source": [
    "type(16)"
   ]
  },
  {
   "cell_type": "code",
   "execution_count": 16,
   "id": "9ff4ad15",
   "metadata": {},
   "outputs": [
    {
     "data": {
      "text/plain": [
       "int"
      ]
     },
     "execution_count": 16,
     "metadata": {},
     "output_type": "execute_result"
    }
   ],
   "source": [
    "type(-16)"
   ]
  },
  {
   "cell_type": "code",
   "execution_count": 29,
   "id": "233a131c",
   "metadata": {},
   "outputs": [
    {
     "data": {
      "text/plain": [
       "float"
      ]
     },
     "execution_count": 29,
     "metadata": {},
     "output_type": "execute_result"
    }
   ],
   "source": [
    "type(20 / 6) # / gives float for precision"
   ]
  },
  {
   "cell_type": "code",
   "execution_count": 18,
   "id": "3a888082",
   "metadata": {},
   "outputs": [
    {
     "data": {
      "text/plain": [
       "float"
      ]
     },
     "execution_count": 18,
     "metadata": {},
     "output_type": "execute_result"
    }
   ],
   "source": [
    "type(3.3333333333333335)"
   ]
  },
  {
   "cell_type": "code",
   "execution_count": 19,
   "id": "b76455ad",
   "metadata": {},
   "outputs": [
    {
     "data": {
      "text/plain": [
       "float"
      ]
     },
     "execution_count": 19,
     "metadata": {},
     "output_type": "execute_result"
    }
   ],
   "source": [
    "type(3.14)"
   ]
  },
  {
   "cell_type": "markdown",
   "id": "4f830906",
   "metadata": {},
   "source": [
    "## Complex number"
   ]
  },
  {
   "cell_type": "code",
   "execution_count": 21,
   "id": "55985b09",
   "metadata": {},
   "outputs": [
    {
     "data": {
      "text/plain": [
       "(3+4j)"
      ]
     },
     "execution_count": 21,
     "metadata": {},
     "output_type": "execute_result"
    }
   ],
   "source": [
    "3 + 4j"
   ]
  },
  {
   "cell_type": "code",
   "execution_count": 22,
   "id": "8c5bdde2",
   "metadata": {},
   "outputs": [
    {
     "data": {
      "text/plain": [
       "complex"
      ]
     },
     "execution_count": 22,
     "metadata": {},
     "output_type": "execute_result"
    }
   ],
   "source": [
    "type(3 + 4j)"
   ]
  },
  {
   "cell_type": "markdown",
   "id": "27d57245",
   "metadata": {},
   "source": [
    "### complex() function"
   ]
  },
  {
   "cell_type": "code",
   "execution_count": 23,
   "id": "5c3089e3",
   "metadata": {},
   "outputs": [
    {
     "data": {
      "text/plain": [
       "(3+4j)"
      ]
     },
     "execution_count": 23,
     "metadata": {},
     "output_type": "execute_result"
    }
   ],
   "source": [
    "complex(3, 4)"
   ]
  },
  {
   "cell_type": "markdown",
   "id": "f3b9f3d8",
   "metadata": {},
   "source": [
    "# Assigning variables to python (defining variables for python)"
   ]
  },
  {
   "cell_type": "code",
   "execution_count": 24,
   "id": "01e03641",
   "metadata": {},
   "outputs": [],
   "source": [
    "cmplx_number = 3 + 4j"
   ]
  },
  {
   "cell_type": "code",
   "execution_count": 25,
   "id": "e55628aa",
   "metadata": {},
   "outputs": [
    {
     "data": {
      "text/plain": [
       "(3+4j)"
      ]
     },
     "execution_count": 25,
     "metadata": {},
     "output_type": "execute_result"
    }
   ],
   "source": [
    "cmplx_number"
   ]
  },
  {
   "cell_type": "code",
   "execution_count": 27,
   "id": "e25d2d37",
   "metadata": {},
   "outputs": [
    {
     "data": {
      "text/plain": [
       "4.0"
      ]
     },
     "execution_count": 27,
     "metadata": {},
     "output_type": "execute_result"
    }
   ],
   "source": [
    "cmplx_number.imag #Imaginary part "
   ]
  },
  {
   "cell_type": "code",
   "execution_count": 28,
   "id": "609a62fe",
   "metadata": {},
   "outputs": [
    {
     "data": {
      "text/plain": [
       "3.0"
      ]
     },
     "execution_count": 28,
     "metadata": {},
     "output_type": "execute_result"
    }
   ],
   "source": [
    "cmplx_number.real #real part"
   ]
  },
  {
   "cell_type": "markdown",
   "id": "3c82558d",
   "metadata": {},
   "source": [
    "# Libraries"
   ]
  },
  {
   "cell_type": "code",
   "execution_count": 30,
   "id": "012225b6",
   "metadata": {},
   "outputs": [],
   "source": [
    "import math"
   ]
  },
  {
   "cell_type": "code",
   "execution_count": 31,
   "id": "08db32ce",
   "metadata": {},
   "outputs": [
    {
     "data": {
      "text/plain": [
       "3.141592653589793"
      ]
     },
     "execution_count": 31,
     "metadata": {},
     "output_type": "execute_result"
    }
   ],
   "source": [
    "math.pi #defined"
   ]
  },
  {
   "cell_type": "code",
   "execution_count": 32,
   "id": "681ccbe5",
   "metadata": {},
   "outputs": [
    {
     "data": {
      "text/plain": [
       "float"
      ]
     },
     "execution_count": 32,
     "metadata": {},
     "output_type": "execute_result"
    }
   ],
   "source": [
    "type(math.pi)"
   ]
  },
  {
   "cell_type": "code",
   "execution_count": 33,
   "id": "f515522e",
   "metadata": {},
   "outputs": [
    {
     "ename": "NameError",
     "evalue": "name 'pi' is not defined",
     "output_type": "error",
     "traceback": [
      "\u001b[1;31m---------------------------------------------------------------------------\u001b[0m",
      "\u001b[1;31mNameError\u001b[0m                                 Traceback (most recent call last)",
      "\u001b[1;32m~\\AppData\\Local\\Temp\\ipykernel_10968\\3440806613.py\u001b[0m in \u001b[0;36m<module>\u001b[1;34m\u001b[0m\n\u001b[1;32m----> 1\u001b[1;33m \u001b[0mpi\u001b[0m\u001b[1;33m\u001b[0m\u001b[1;33m\u001b[0m\u001b[0m\n\u001b[0m",
      "\u001b[1;31mNameError\u001b[0m: name 'pi' is not defined"
     ]
    }
   ],
   "source": [
    "pi #not defined"
   ]
  },
  {
   "cell_type": "code",
   "execution_count": 34,
   "id": "04ed0529",
   "metadata": {},
   "outputs": [],
   "source": [
    "pi = 3.14"
   ]
  },
  {
   "cell_type": "code",
   "execution_count": 35,
   "id": "7c6deb8c",
   "metadata": {},
   "outputs": [
    {
     "data": {
      "text/plain": [
       "3.14"
      ]
     },
     "execution_count": 35,
     "metadata": {},
     "output_type": "execute_result"
    }
   ],
   "source": [
    "pi"
   ]
  },
  {
   "cell_type": "code",
   "execution_count": 36,
   "id": "17916891",
   "metadata": {},
   "outputs": [],
   "source": [
    "del pi"
   ]
  },
  {
   "cell_type": "code",
   "execution_count": 37,
   "id": "768eae14",
   "metadata": {},
   "outputs": [
    {
     "ename": "NameError",
     "evalue": "name 'pi' is not defined",
     "output_type": "error",
     "traceback": [
      "\u001b[1;31m---------------------------------------------------------------------------\u001b[0m",
      "\u001b[1;31mNameError\u001b[0m                                 Traceback (most recent call last)",
      "\u001b[1;32m~\\AppData\\Local\\Temp\\ipykernel_10968\\3440806613.py\u001b[0m in \u001b[0;36m<module>\u001b[1;34m\u001b[0m\n\u001b[1;32m----> 1\u001b[1;33m \u001b[0mpi\u001b[0m\u001b[1;33m\u001b[0m\u001b[1;33m\u001b[0m\u001b[0m\n\u001b[0m",
      "\u001b[1;31mNameError\u001b[0m: name 'pi' is not defined"
     ]
    }
   ],
   "source": [
    "pi"
   ]
  },
  {
   "cell_type": "code",
   "execution_count": 38,
   "id": "1be20e8d",
   "metadata": {},
   "outputs": [],
   "source": [
    "pi = math.pi"
   ]
  },
  {
   "cell_type": "code",
   "execution_count": 39,
   "id": "63c8c556",
   "metadata": {},
   "outputs": [
    {
     "data": {
      "text/plain": [
       "3.141592653589793"
      ]
     },
     "execution_count": 39,
     "metadata": {},
     "output_type": "execute_result"
    }
   ],
   "source": [
    "pi"
   ]
  },
  {
   "cell_type": "code",
   "execution_count": 40,
   "id": "8469482f",
   "metadata": {},
   "outputs": [],
   "source": [
    "pi = 8"
   ]
  },
  {
   "cell_type": "code",
   "execution_count": 41,
   "id": "0517f3c5",
   "metadata": {},
   "outputs": [],
   "source": [
    "hello = 5.8"
   ]
  },
  {
   "cell_type": "code",
   "execution_count": 42,
   "id": "e23ef3a8",
   "metadata": {},
   "outputs": [
    {
     "data": {
      "text/plain": [
       "5.8"
      ]
     },
     "execution_count": 42,
     "metadata": {},
     "output_type": "execute_result"
    }
   ],
   "source": [
    "hello"
   ]
  },
  {
   "cell_type": "markdown",
   "id": "e180dc30",
   "metadata": {},
   "source": [
    "# 2 .Sequential Data Types"
   ]
  },
  {
   "cell_type": "markdown",
   "id": "ce686594",
   "metadata": {},
   "source": [
    "## String"
   ]
  },
  {
   "cell_type": "code",
   "execution_count": 43,
   "id": "589d6201",
   "metadata": {},
   "outputs": [
    {
     "data": {
      "text/plain": [
       "''"
      ]
     },
     "execution_count": 43,
     "metadata": {},
     "output_type": "execute_result"
    }
   ],
   "source": [
    "'' #single quotation"
   ]
  },
  {
   "cell_type": "code",
   "execution_count": 44,
   "id": "702a62aa",
   "metadata": {},
   "outputs": [
    {
     "data": {
      "text/plain": [
       "''"
      ]
     },
     "execution_count": 44,
     "metadata": {},
     "output_type": "execute_result"
    }
   ],
   "source": [
    "\"\" #double quotation"
   ]
  },
  {
   "cell_type": "code",
   "execution_count": 45,
   "id": "185c915f",
   "metadata": {},
   "outputs": [
    {
     "data": {
      "text/plain": [
       "''"
      ]
     },
     "execution_count": 45,
     "metadata": {},
     "output_type": "execute_result"
    }
   ],
   "source": [
    "'''''' #triple quotation"
   ]
  },
  {
   "cell_type": "code",
   "execution_count": 46,
   "id": "ca5de972",
   "metadata": {},
   "outputs": [
    {
     "data": {
      "text/plain": [
       "'Hi'"
      ]
     },
     "execution_count": 46,
     "metadata": {},
     "output_type": "execute_result"
    }
   ],
   "source": [
    "'Hi'"
   ]
  },
  {
   "cell_type": "code",
   "execution_count": 47,
   "id": "16f1cc4e",
   "metadata": {
    "scrolled": true
   },
   "outputs": [
    {
     "ename": "NameError",
     "evalue": "name 'hey' is not defined",
     "output_type": "error",
     "traceback": [
      "\u001b[1;31m---------------------------------------------------------------------------\u001b[0m",
      "\u001b[1;31mNameError\u001b[0m                                 Traceback (most recent call last)",
      "\u001b[1;32m~\\AppData\\Local\\Temp\\ipykernel_10968\\4257826472.py\u001b[0m in \u001b[0;36m<module>\u001b[1;34m\u001b[0m\n\u001b[1;32m----> 1\u001b[1;33m \u001b[0mhi\u001b[0m \u001b[1;33m=\u001b[0m \u001b[0mhey\u001b[0m\u001b[1;33m\u001b[0m\u001b[1;33m\u001b[0m\u001b[0m\n\u001b[0m",
      "\u001b[1;31mNameError\u001b[0m: name 'hey' is not defined"
     ]
    }
   ],
   "source": [
    "hi = hey "
   ]
  },
  {
   "cell_type": "code",
   "execution_count": 48,
   "id": "996bd4bd",
   "metadata": {},
   "outputs": [
    {
     "data": {
      "text/plain": [
       "'October'"
      ]
     },
     "execution_count": 48,
     "metadata": {},
     "output_type": "execute_result"
    }
   ],
   "source": [
    "'October'"
   ]
  },
  {
   "cell_type": "code",
   "execution_count": 49,
   "id": "16eeb8c7",
   "metadata": {},
   "outputs": [
    {
     "ename": "SyntaxError",
     "evalue": "EOL while scanning string literal (387195472.py, line 1)",
     "output_type": "error",
     "traceback": [
      "\u001b[1;36m  File \u001b[1;32m\"C:\\Users\\MJ\\AppData\\Local\\Temp\\ipykernel_10968\\387195472.py\"\u001b[1;36m, line \u001b[1;32m1\u001b[0m\n\u001b[1;33m    Alice's car is 5 years old\u001b[0m\n\u001b[1;37m                              ^\u001b[0m\n\u001b[1;31mSyntaxError\u001b[0m\u001b[1;31m:\u001b[0m EOL while scanning string literal\n"
     ]
    }
   ],
   "source": [
    "Alice's car is 5 years old"
   ]
  },
  {
   "cell_type": "code",
   "execution_count": 50,
   "id": "608a6c42",
   "metadata": {},
   "outputs": [
    {
     "ename": "SyntaxError",
     "evalue": "invalid syntax (3650202341.py, line 1)",
     "output_type": "error",
     "traceback": [
      "\u001b[1;36m  File \u001b[1;32m\"C:\\Users\\MJ\\AppData\\Local\\Temp\\ipykernel_10968\\3650202341.py\"\u001b[1;36m, line \u001b[1;32m1\u001b[0m\n\u001b[1;33m    Alice's car is 5 years old'\u001b[0m\n\u001b[1;37m         ^\u001b[0m\n\u001b[1;31mSyntaxError\u001b[0m\u001b[1;31m:\u001b[0m invalid syntax\n"
     ]
    }
   ],
   "source": [
    "Alice's car is 5 years old'"
   ]
  },
  {
   "cell_type": "code",
   "execution_count": 51,
   "id": "97239257",
   "metadata": {},
   "outputs": [
    {
     "ename": "SyntaxError",
     "evalue": "invalid syntax (815113992.py, line 1)",
     "output_type": "error",
     "traceback": [
      "\u001b[1;36m  File \u001b[1;32m\"C:\\Users\\MJ\\AppData\\Local\\Temp\\ipykernel_10968\\815113992.py\"\u001b[1;36m, line \u001b[1;32m1\u001b[0m\n\u001b[1;33m    'Alice's car is 5 years old'\u001b[0m\n\u001b[1;37m           ^\u001b[0m\n\u001b[1;31mSyntaxError\u001b[0m\u001b[1;31m:\u001b[0m invalid syntax\n"
     ]
    }
   ],
   "source": [
    "'Alice's car is 5 years old' #This is due to single quotation usage"
   ]
  },
  {
   "cell_type": "code",
   "execution_count": 52,
   "id": "0d2dd640",
   "metadata": {},
   "outputs": [
    {
     "data": {
      "text/plain": [
       "\"Alice's car is 5 years old\""
      ]
     },
     "execution_count": 52,
     "metadata": {},
     "output_type": "execute_result"
    }
   ],
   "source": [
    "\"Alice's car is 5 years old\""
   ]
  },
  {
   "cell_type": "code",
   "execution_count": 53,
   "id": "e8a9caa1",
   "metadata": {},
   "outputs": [
    {
     "data": {
      "text/plain": [
       "'Today is cloudy'"
      ]
     },
     "execution_count": 53,
     "metadata": {},
     "output_type": "execute_result"
    }
   ],
   "source": [
    "\"Hello\"\n",
    "\"Today is cloudy\""
   ]
  },
  {
   "cell_type": "code",
   "execution_count": 54,
   "id": "285d939d",
   "metadata": {},
   "outputs": [
    {
     "name": "stdout",
     "output_type": "stream",
     "text": [
      "Hello\n",
      "Today is cloudy\n"
     ]
    }
   ],
   "source": [
    "print(\"Hello\")\n",
    "print(\"Today is cloudy\")"
   ]
  },
  {
   "cell_type": "code",
   "execution_count": 55,
   "id": "b8ca0970",
   "metadata": {},
   "outputs": [
    {
     "data": {
      "text/plain": [
       "20"
      ]
     },
     "execution_count": 55,
     "metadata": {},
     "output_type": "execute_result"
    }
   ],
   "source": [
    "10 + 10"
   ]
  },
  {
   "cell_type": "code",
   "execution_count": 57,
   "id": "2543b12b",
   "metadata": {},
   "outputs": [
    {
     "data": {
      "text/plain": [
       "100"
      ]
     },
     "execution_count": 57,
     "metadata": {},
     "output_type": "execute_result"
    }
   ],
   "source": [
    "10 + 10\n",
    "10 * 10 #it will always give back the last line of code"
   ]
  },
  {
   "cell_type": "code",
   "execution_count": 59,
   "id": "442b638c",
   "metadata": {},
   "outputs": [
    {
     "name": "stdout",
     "output_type": "stream",
     "text": [
      "20\n",
      "100\n"
     ]
    }
   ],
   "source": [
    "print(10 + 10) #by using print() both lines will be printed out\n",
    "print(10 * 10) "
   ]
  },
  {
   "cell_type": "code",
   "execution_count": 60,
   "id": "a7ed6855",
   "metadata": {},
   "outputs": [],
   "source": [
    "a = 10 + 10\n",
    "b = 10 * 10 "
   ]
  },
  {
   "cell_type": "code",
   "execution_count": 61,
   "id": "61efc5d3",
   "metadata": {},
   "outputs": [
    {
     "data": {
      "text/plain": [
       "2000"
      ]
     },
     "execution_count": 61,
     "metadata": {},
     "output_type": "execute_result"
    }
   ],
   "source": [
    "a * b"
   ]
  },
  {
   "cell_type": "markdown",
   "id": "6ccaf95c",
   "metadata": {},
   "source": [
    "# Excercises"
   ]
  },
  {
   "cell_type": "markdown",
   "id": "dc2ed06a",
   "metadata": {},
   "source": [
    "## Fix the following the errors"
   ]
  },
  {
   "cell_type": "code",
   "execution_count": 1,
   "id": "3e692741",
   "metadata": {},
   "outputs": [
    {
     "ename": "SyntaxError",
     "evalue": "invalid syntax (282975236.py, line 1)",
     "output_type": "error",
     "traceback": [
      "\u001b[1;36m  Cell \u001b[1;32mIn[1], line 1\u001b[1;36m\u001b[0m\n\u001b[1;33m    'Alex's car is broken\u001b[0m\n\u001b[1;37m          ^\u001b[0m\n\u001b[1;31mSyntaxError\u001b[0m\u001b[1;31m:\u001b[0m invalid syntax\n"
     ]
    }
   ],
   "source": [
    "'Alex's car is broken"
   ]
  },
  {
   "cell_type": "code",
   "execution_count": 2,
   "id": "38060b31",
   "metadata": {},
   "outputs": [
    {
     "ename": "NameError",
     "evalue": "name 'z' is not defined",
     "output_type": "error",
     "traceback": [
      "\u001b[1;31m---------------------------------------------------------------------------\u001b[0m",
      "\u001b[1;31mNameError\u001b[0m                                 Traceback (most recent call last)",
      "Cell \u001b[1;32mIn[2], line 2\u001b[0m\n\u001b[0;32m      1\u001b[0m a \u001b[38;5;241m=\u001b[39m \u001b[38;5;241m15\u001b[39m\n\u001b[1;32m----> 2\u001b[0m c \u001b[38;5;241m=\u001b[39m a \u001b[38;5;241m*\u001b[39m \u001b[43mz\u001b[49m\n",
      "\u001b[1;31mNameError\u001b[0m: name 'z' is not defined"
     ]
    }
   ],
   "source": [
    "a = 15\n",
    "c = a * z"
   ]
  }
 ],
 "metadata": {
  "kernelspec": {
   "display_name": "Python 3",
   "language": "python",
   "name": "python3"
  },
  "language_info": {
   "codemirror_mode": {
    "name": "ipython",
    "version": 3
   },
   "file_extension": ".py",
   "mimetype": "text/x-python",
   "name": "python",
   "nbconvert_exporter": "python",
   "pygments_lexer": "ipython3",
   "version": "3.12.4"
  }
 },
 "nbformat": 4,
 "nbformat_minor": 5
}
