{
 "cells": [
  {
   "cell_type": "markdown",
   "id": "a9e415c3-41ce-4170-a45f-1705662abe9a",
   "metadata": {},
   "source": [
    "# 12th Session"
   ]
  },
  {
   "cell_type": "markdown",
   "id": "7d5ddf5e-704f-4bda-ac82-0d599ccd0811",
   "metadata": {},
   "source": [
    "# Infinite Horizon Part 1"
   ]
  },
  {
   "cell_type": "markdown",
   "id": "2e6e1485-c0f5-4ccb-8256-47311b3f6265",
   "metadata": {},
   "source": [
    "### Present Value Calculation"
   ]
  },
  {
   "cell_type": "code",
   "execution_count": 133,
   "id": "8c2260e4-2c8a-4240-b5c4-33aa351259d8",
   "metadata": {},
   "outputs": [
    {
     "data": {
      "text/plain": [
       "(863.837598531476, 860.7079764250578)"
      ]
     },
     "execution_count": 133,
     "metadata": {},
     "output_type": "execute_result"
    }
   ],
   "source": [
    "import math\n",
    "\n",
    "def present_value(cash_flow, interest_rate, time):\n",
    "    present_value_discrete = cash_flow / ((1 + interest_rate) ** time)\n",
    "    present_value_continuous = cash_flow * math.exp(-interest_rate * time)\n",
    "    return present_value_discrete, present_value_continuous\n",
    "\n",
    "cash_flow1 = 1000\n",
    "interest_rate1 = 0.05\n",
    "time1 = 3\n",
    "present_value(cash_flow1, interest_rate1, time1)"
   ]
  },
  {
   "cell_type": "code",
   "execution_count": 141,
   "id": "a2b33a8a-1a05-49ec-a895-da4018395099",
   "metadata": {},
   "outputs": [
    {
     "name": "stdout",
     "output_type": "stream",
     "text": [
      "discrete Pv: 2019.41614, continuous Pv: 1914.4644298755604\n"
     ]
    }
   ],
   "source": [
    "pv_d, pv_c = present_value(5000, 0.12, 8)\n",
    "print(f\"discrete Pv: {pv_d:.5f}, continuous Pv: {pv_c}\")"
   ]
  },
  {
   "cell_type": "markdown",
   "id": "3751ab27-fe8d-4c3e-a46b-79c75ed2f72b",
   "metadata": {},
   "source": [
    "### Present Value with Constant Interest Rate"
   ]
  },
  {
   "cell_type": "code",
   "execution_count": 143,
   "id": "6675301d-e5d5-4fe3-82f7-245096eae2e1",
   "metadata": {},
   "outputs": [
    {
     "data": {
      "text/plain": [
       "1"
      ]
     },
     "execution_count": 143,
     "metadata": {},
     "output_type": "execute_result"
    }
   ],
   "source": [
    "a = [1, 2, 3, 4]\n",
    "a[0]"
   ]
  },
  {
   "cell_type": "code",
   "execution_count": 145,
   "id": "5966a82b-b8d3-47ce-9ea8-84275889ef1a",
   "metadata": {},
   "outputs": [
    {
     "data": {
      "text/plain": [
       "3"
      ]
     },
     "execution_count": 145,
     "metadata": {},
     "output_type": "execute_result"
    }
   ],
   "source": [
    "a[2]"
   ]
  },
  {
   "cell_type": "code",
   "execution_count": 147,
   "id": "16777782-a2e8-4289-97e6-c20ab9342e69",
   "metadata": {},
   "outputs": [
    {
     "data": {
      "text/plain": [
       "<enumerate at 0x275b5b411c0>"
      ]
     },
     "execution_count": 147,
     "metadata": {},
     "output_type": "execute_result"
    }
   ],
   "source": [
    "enumerate(a)"
   ]
  },
  {
   "cell_type": "code",
   "execution_count": 149,
   "id": "70686236-b2ad-4a5f-9d0e-08ba4816b598",
   "metadata": {
    "scrolled": true
   },
   "outputs": [
    {
     "data": {
      "text/plain": [
       "[(0, 1), (1, 2), (2, 3), (3, 4)]"
      ]
     },
     "execution_count": 149,
     "metadata": {},
     "output_type": "execute_result"
    }
   ],
   "source": [
    "list(enumerate(a))"
   ]
  },
  {
   "cell_type": "code",
   "execution_count": 155,
   "id": "11e9a907-e3d0-4076-a732-7be93b06de55",
   "metadata": {},
   "outputs": [
    {
     "name": "stdout",
     "output_type": "stream",
     "text": [
      "total present value with constant rate is 30137.941101745077\n"
     ]
    }
   ],
   "source": [
    "def pv_constant(cash_f, interest_r):\n",
    "    total_pv = 0\n",
    "    for t,cash_f in enumerate(cash_f):\n",
    "        total_pv += cash_f / ((1 + interest_r) ** (t + 1))\n",
    "    return total_pv\n",
    "        \n",
    "        \n",
    "cash_fl = [5000, 10000, 15000, 20000]\n",
    "interest_rate2 = 0.19\n",
    "total_pv = pv_constant(cash_fl, interest_rate2)\n",
    "print(f\"total present value with constant rate is {total_pv}\")"
   ]
  },
  {
   "cell_type": "code",
   "execution_count": 153,
   "id": "3900a38b-08c9-4f54-afc4-c0e656857ea5",
   "metadata": {},
   "outputs": [
    {
     "name": "stdout",
     "output_type": "stream",
     "text": [
      "0 5000\n",
      "1 10000\n",
      "2 15000\n",
      "3 20000\n"
     ]
    }
   ],
   "source": [
    "cash_fl = [5000, 10000, 15000, 20000]\n",
    "for t, u in enumerate(cash_fl):\n",
    "    print(t, u)"
   ]
  },
  {
   "cell_type": "code",
   "execution_count": 167,
   "id": "829d1557-c01d-47cc-b63b-496e253d9eeb",
   "metadata": {},
   "outputs": [
    {
     "data": {
      "text/plain": [
       "1"
      ]
     },
     "execution_count": 167,
     "metadata": {},
     "output_type": "execute_result"
    }
   ],
   "source": [
    "cash_fl.count(10000)"
   ]
  },
  {
   "cell_type": "markdown",
   "id": "263939cb-3a60-4747-a337-d45539f8fc92",
   "metadata": {},
   "source": [
    "### Present Value with Varying Interest Rates"
   ]
  },
  {
   "cell_type": "code",
   "execution_count": 169,
   "id": "d103af58-a077-45da-9dfc-4ca0384e6d51",
   "metadata": {},
   "outputs": [
    {
     "name": "stdout",
     "output_type": "stream",
     "text": [
      "Help on built-in function print in module builtins:\n",
      "\n",
      "print(*args, sep=' ', end='\\n', file=None, flush=False)\n",
      "    Prints the values to a stream, or to sys.stdout by default.\n",
      "\n",
      "    sep\n",
      "      string inserted between values, default a space.\n",
      "    end\n",
      "      string appended after the last value, default a newline.\n",
      "    file\n",
      "      a file-like object (stream); defaults to the current sys.stdout.\n",
      "    flush\n",
      "      whether to forcibly flush the stream.\n",
      "\n"
     ]
    }
   ],
   "source": [
    "help(print)"
   ]
  },
  {
   "cell_type": "code",
   "execution_count": 189,
   "id": "e30ce1eb-d041-4dc1-97a7-ae9ee2a38bd0",
   "metadata": {},
   "outputs": [
    {
     "name": "stdout",
     "output_type": "stream",
     "text": [
      "the present value is 354.0828598402187\n"
     ]
    }
   ],
   "source": [
    "def PV(cash_flo, interest_rates):\n",
    "    \"\"\"\n",
    "    This Function calculates the present value of cash flows with varying interesent rates\n",
    "\n",
    "    من یک تابع هستم\n",
    "\n",
    "    parameters: cash_flo (sequential data type), interest_rates (sequential data type)\n",
    "    \"\"\"\n",
    "    summ_pv = 0\n",
    "    for i in range(len(cash_flo)):\n",
    "        summ_pv += cash_flo[i] / (1 + interest_rates[i]) ** (i + 1 )\n",
    "    return summ_pv\n",
    "\n",
    "cash_flows2 = [100, 200, 300]\n",
    "interest_rates2 = [0.19, 0.21, 0.31]\n",
    "\n",
    "pres_value = PV(cash_flows2, interest_rates2)\n",
    "print(f\"the present value is {pres_value}\")"
   ]
  },
  {
   "cell_type": "code",
   "execution_count": 191,
   "id": "19996c20-d85e-4839-baa6-784cbe01f852",
   "metadata": {},
   "outputs": [
    {
     "data": {
      "text/plain": [
       "[0, 1, 2]"
      ]
     },
     "execution_count": 191,
     "metadata": {},
     "output_type": "execute_result"
    }
   ],
   "source": [
    "list(range(3))"
   ]
  },
  {
   "cell_type": "code",
   "execution_count": 193,
   "id": "7f921da3-253f-4a8a-ad61-ad814ca60149",
   "metadata": {},
   "outputs": [
    {
     "name": "stdout",
     "output_type": "stream",
     "text": [
      "Help on function PV in module __main__:\n",
      "\n",
      "PV(cash_flo, interest_rates)\n",
      "    This Function calculates the present value of cash flows with varying interesent rates\n",
      "\n",
      "    من یک تابع هستم\n",
      "\n",
      "    parameters: cash_flo (sequential data type), interest_rates (sequential data type)\n",
      "\n"
     ]
    }
   ],
   "source": [
    "help(PV)"
   ]
  },
  {
   "cell_type": "markdown",
   "id": "01393d3c-c795-4ade-8dfa-d135be7318af",
   "metadata": {},
   "source": [
    "## 2.2 The Behavior of Households and Firms\n"
   ]
  },
  {
   "cell_type": "markdown",
   "id": "778c0fe8-6540-4848-b44f-656e8ee79642",
   "metadata": {},
   "source": [
    "## Firms\n",
    "\n",
    "- Firms employ stocks of labor and capital, pay them their marginal products, and sell the resulting output.\n",
    "\n",
    "- firms earn zero profits (production function has constant returns and the economy is competitive)\n",
    "\n",
    "- because there is no depreciation, the real rate of return on capital equals its earnings\n",
    "per unit time. Thus the real interest rate at time t is $r(t) = f'(k(t))$."
   ]
  },
  {
   "cell_type": "markdown",
   "id": "b6543dbd-1f70-450b-8d81-b410dccdf014",
   "metadata": {},
   "source": [
    "probelm 1.9. Factor payments in the Solow model. Assume that both labor and capital\n",
    "are paid their marginal products. Let $w$ denote $∂F (K,AL)/∂L$ and $r$ denote\n",
    "$[∂F (K,AL)/∂K ] − δ.$\n",
    "\n",
    "- (a) Show that the marginal product of labor, w, is $A[ f (k) − kf'(k)]$\n",
    "\n",
    "**answer**:\n",
    "- $F(K, AL) = ALf(k), \\text{ where } k = \\frac{K}{AL}$\n",
    "  \n",
    "- $w = \\frac{∂F(K,AL)}{∂L}$\n",
    "\n",
    "- $w = \\frac{∂(ALf(k))}{∂L}$\n",
    "\n",
    "- $w = A \\cdot \\frac{∂(Lf(k))}{∂L}$\n",
    "\n",
    "- $\\frac{∂(ALf(k))}{∂L} = A \\cdot \\frac{∂(Lf(k))}{∂L} + Lf(k) \\cdot \\frac{∂A}{∂L}$\n",
    "\n",
    "- $\\frac{∂(Lf(k))}{∂L} = f(k) + L \\cdot \\frac{∂(f(k))}{∂L}$\n",
    "\n",
    "- $\\frac{∂(f(k))}{∂L} = \\frac{∂f}{∂k} \\frac{∂k}{∂L}, \\text{ where } \\frac{∂f}{∂k}=f'(k) \\text{ and }\\frac{∂k}{∂L} = \\frac{0 (AL) - k (A)}{(AL)^{2}} = -\\frac{k}{L}$\n",
    "\n",
    "- $\\frac{∂(Lf(k))}{∂L} = f(k) + L(f'(k)(-\\frac{k}{L}))$\n",
    "\n",
    "- $\\frac{∂(Lf(k))}{∂L} = f(k) + (f'(k)(-{k}))$\n",
    "\n",
    "- $w = A  f(k) - k(f'(k))$\n",
    "\n"
   ]
  },
  {
   "cell_type": "markdown",
   "id": "6706d91e-7d50-4f1e-a752-e6f3d2b7816d",
   "metadata": {},
   "source": [
    "**wage per unit of effective labor** $w(t) = f (k(t)) − k(t)f (k(t)).$"
   ]
  },
  {
   "cell_type": "markdown",
   "id": "2757c5e2-b446-4c2c-9b16-57751f1a61c0",
   "metadata": {},
   "source": [
    "## Households’ Budget Constraint\n",
    "\n",
    "The representative household takes the paths of $r$ and $w$ as given. Its budget constraint is that the present value of its lifetime consumption **cannot** exceed its initial wealth plus the present value of its lifetime labor income"
   ]
  },
  {
   "cell_type": "markdown",
   "id": "bf9ebc63-8e43-4ca7-bf42-2e6008ff8313",
   "metadata": {},
   "source": [
    "## Varying Interest Rate\n",
    "$$ R(t) = \\int_{τ=0}^{t} r(τ ) dτ $$\n",
    "\n",
    "Future Value of Investments =  $e^{R(t)}$\n",
    "\n",
    "Present Value of wealth =  $e^{-R(t)}$\n"
   ]
  },
  {
   "cell_type": "markdown",
   "id": "326d4cbc-a44d-4786-ba2c-72acae9b1402",
   "metadata": {},
   "source": [
    "##### Using the local variable"
   ]
  },
  {
   "cell_type": "code",
   "execution_count": 197,
   "id": "41c3be22-1ddf-454b-9b52-5dbd43fca8f3",
   "metadata": {
    "scrolled": true
   },
   "outputs": [
    {
     "name": "stdout",
     "output_type": "stream",
     "text": [
      "0\n",
      "10\n",
      "20\n",
      "30\n",
      "40\n"
     ]
    }
   ],
   "source": [
    "for i in range(5):\n",
    "    print(i * 10)"
   ]
  },
  {
   "cell_type": "markdown",
   "id": "c17f01a0-8f67-48b8-b506-ed1ec68872cd",
   "metadata": {},
   "source": [
    "##### Obsolete local variable"
   ]
  },
  {
   "cell_type": "code",
   "execution_count": 195,
   "id": "7fb43e89-134d-4125-85bc-f3aa301a8ae8",
   "metadata": {
    "scrolled": true
   },
   "outputs": [
    {
     "name": "stdout",
     "output_type": "stream",
     "text": [
      "sth\n",
      "sth\n",
      "sth\n"
     ]
    }
   ],
   "source": [
    "for _ in range(3):\n",
    "    print(\"sth\")"
   ]
  },
  {
   "cell_type": "markdown",
   "id": "677697e2-a825-44de-a917-323986310975",
   "metadata": {},
   "source": [
    "### Defining the integral"
   ]
  },
  {
   "cell_type": "code",
   "execution_count": 3,
   "id": "e5641d6e-5d5a-498b-bbc8-ec32197cfef1",
   "metadata": {},
   "outputs": [],
   "source": [
    "import numpy as np\n",
    "import matplotlib.pyplot as plt\n",
    "from scipy.integrate import quad\n",
    "\n",
    "def varying_rate(t):\n",
    "    return 0.3 + 0.02 * np.sin(t)\n",
    "\n",
    "def R(t):\n",
    "    integral, o = quad(varying_rate, 0, t)\n",
    "    return integral"
   ]
  },
  {
   "cell_type": "code",
   "execution_count": 211,
   "id": "aff06be7-1105-41bc-900e-4b302f2b9b1c",
   "metadata": {},
   "outputs": [
    {
     "data": {
      "text/plain": [
       "3.036781430581529"
      ]
     },
     "execution_count": 211,
     "metadata": {},
     "output_type": "execute_result"
    }
   ],
   "source": [
    "R(10)"
   ]
  },
  {
   "cell_type": "code",
   "execution_count": 223,
   "id": "fe6121a6-e014-4318-b478-711dbf925cba",
   "metadata": {},
   "outputs": [
    {
     "name": "stdout",
     "output_type": "stream",
     "text": [
      "[36701.91933118562, 26674.287027041264, 19535.30136855673, 14569.788923079748, 10997.810957572286, 8258.36322535987, 6092.759204820285, 4433.161581313211, 3234.2607971560014, 2399.4548719011977]\n"
     ]
    }
   ],
   "source": [
    "def pv_labor_income(years, initial_wealth):\n",
    "    pv_list = []\n",
    "    for t in range(1, years + 1):\n",
    "        R_t = R(t)\n",
    "        pv_t = initial_wealth * np.exp(-R_t)\n",
    "        pv_list.append(pv_t)\n",
    "    return pv_list\n",
    "\n",
    "years = 10\n",
    "initial_wealth1 = 50000\n",
    "\n",
    "pv_labor_continuous = pv_labor_income(years, initial_wealth1)\n",
    "print(pv_labor_continuous)"
   ]
  },
  {
   "cell_type": "code",
   "execution_count": 247,
   "id": "61ef4511-3a55-4690-9ecf-c65059c8ec17",
   "metadata": {},
   "outputs": [
    {
     "data": {
      "image/png": "[encoded data removed]",
      "text/plain": [
       "<Figure size 1000x500 with 1 Axes>"
      ]
     },
     "metadata": {},
     "output_type": "display_data"
    }
   ],
   "source": [
    "plt.figure(figsize = (10, 5))\n",
    "plt.plot(range(1, years + 1), pv_labor_continuous, color = \"purple\", linestyle = \"--\",marker = 'o',\n",
    "         markerfacecolor='red', markeredgecolor='yellow',label = \"present value of initial wealth\")\n",
    "plt.title(\"Present value during 10 years\")\n",
    "plt.xlabel(\"Years\")\n",
    "plt.ylabel(\"wealth values\")\n",
    "plt.legend()\n",
    "plt.show()"
   ]
  },
  {
   "cell_type": "code",
   "execution_count": 215,
   "id": "495cb2ee-1523-412e-82de-adf922c24af3",
   "metadata": {},
   "outputs": [
    {
     "data": {
      "text/plain": [
       "[0, 1, 2, 3, 4, 5, 6, 7, 8, 9]"
      ]
     },
     "execution_count": 215,
     "metadata": {},
     "output_type": "execute_result"
    }
   ],
   "source": [
    "list(range(10))"
   ]
  },
  {
   "cell_type": "markdown",
   "id": "3c4f790b-9731-4f13-b176-3907afba16a8",
   "metadata": {},
   "source": [
    "### Example: Household Budget Constraint\n",
    "\n",
    "#### Given Values\n",
    "- **Initial Wealth**: $100,000\n",
    "\n",
    "- **Lifetime Labor Income**: $50,000 per year for 5 years\n",
    "  \n",
    "- **Consumption**: $30,000 per year for 5 years\n",
    "  \n",
    "- **Interest Rates**:\n",
    "  \n",
    "  - **Constant Rate**: $\\bar{r} = 5\\% (0.05)$\n",
    "  - \n",
    "  - **Varying Rate**: $r(t) = 0.03 + 0.02 \\cdot \\sin(t)$"
   ]
  },
  {
   "cell_type": "code",
   "execution_count": 271,
   "id": "19d31acc-bd10-4c07-a161-5cbeb6bb9c86",
   "metadata": {},
   "outputs": [],
   "source": [
    "#parameters\n",
    "initial_wealth = 100000\n",
    "annual_income = 50000\n",
    "annual_consumption = 30000\n",
    "years = 5\n",
    "constant_rate = 0.05"
   ]
  },
  {
   "cell_type": "markdown",
   "id": "30c56fa7-4410-4fb2-9af2-296e34bd0132",
   "metadata": {},
   "source": [
    "### Step 1: Budget Constraint with Constant Interest Rate\n",
    "\n",
    "#### Present Value of Wealth and Labor Income\n",
    "\n",
    "1. **Present Value of Initial Wealth**:\n",
    "   \n",
    "   $$PV_{\\text{wealth}} = 100,000$$\n",
    "   \n",
    "\n",
    "2. **Present Value of Labor Income**:\n",
    "   Using the formula:\n",
    "\n",
    "   $$PV_{\\text{labor}} = \\sum_{t=1}^{5} \\frac{50,000}{(1 + 0.05)^t}$$\n",
    "\n",
    "   - Calculation:\n",
    "     \n",
    "   $$PV_{\\text{labor}} \\approx 47,619 + 45,351 + 43,195 + 41,142 + 39,199 \\approx 216,506$$\n",
    "\n",
    "4. **Total Present Value**:\n",
    "\n",
    "    $$PV_{\\text{total}} = 100,000 + 216,506 = 316,506$$\n",
    "\n",
    "\n",
    "#### Present Value of Consumption\n",
    "\n",
    "1. **Present Value of Consumption**:\n",
    "   Using the formula:\n",
    "   \n",
    "   $$PV_{\\text{consumption}} = \\sum_{t=1}^{5} \\frac{30,000}{(1 + 0.05)^t}$$\n",
    "   \n",
    "   - Calculation:\n",
    "     \n",
    "     $$PV_{\\text{consumption}} \\approx 28,571 + 27,210 + 25,915 + 24,670 + 23,465 \\approx 129,831$$"
   ]
  },
  {
   "cell_type": "code",
   "execution_count": 269,
   "id": "821140bf-aeed-47fd-bc95-a93b49ecd0a0",
   "metadata": {},
   "outputs": [
    {
     "name": "stdout",
     "output_type": "stream",
     "text": [
      "Constant Interest Rate Results:\n",
      "PV of Initial Wealth: $100000\n",
      "PV of Labor Income: $216473.83353154093\n",
      "Total PV: $316473.83353154093\n",
      "PV of Consumption: $129884.30011892456\n"
     ]
    }
   ],
   "source": [
    "#present value with constant interest rate\n",
    "def present_value_constant(rate, cash_flow, years):\n",
    "    pv = sum(cash_flow / (1 + rate)**t for t in range(1, years + 1))\n",
    "    return pv\n",
    "\n",
    "#PV of initial wealth\n",
    "pv_wealth = initial_wealth\n",
    "\n",
    "#PV of labor income\n",
    "pv_labor_constant = present_value_constant(constant_rate, annual_income, years)\n",
    "\n",
    "#total present value\n",
    "pv_total_constant = pv_wealth + pv_labor_constant\n",
    "\n",
    "#PV of consumption\n",
    "pv_consumption_constant = present_value_constant(constant_rate, annual_consumption, years)\n",
    "\n",
    "print(\"Constant Interest Rate Results:\")\n",
    "print(f\"PV of Initial Wealth: ${pv_wealth}\")\n",
    "print(f\"PV of Labor Income: ${pv_labor_constant}\")\n",
    "print(f\"Total PV: ${pv_total_constant}\")\n",
    "print(f\"PV of Consumption: ${pv_consumption_constant}\")"
   ]
  },
  {
   "cell_type": "markdown",
   "id": "f404625e-da44-48fc-9aab-b4d2cc91f914",
   "metadata": {},
   "source": [
    "### Step 2: Budget Constraint with Varying Interest Rate\n",
    "\n",
    "#### Present Value of Labor Income with Varying \\( r(t) \\)\n",
    "\n",
    "1. **Calculating $R(t)$**:\n",
    "   We can calculate $R(t)$ at specific points $t = 1, 2, \\ldots, 5$:\n",
    "\n",
    "   \n",
    "   $$R(t) = 0.03t - 0.02 \\cos(t)$$\n",
    "\n",
    "3. **Present Value of Labor Income**:\n",
    "   For each year, calculate:\n",
    "   \n",
    "   $$PV_{\\text{labor}} = \\sum_{t=1}^{5} \\frac{50,000}{e^{-R(t)}}$$"
   ]
  },
  {
   "cell_type": "code",
   "execution_count": 265,
   "id": "6f6e54c9-cb26-424c-a996-63873dfe672c",
   "metadata": {},
   "outputs": [
    {
     "name": "stdout",
     "output_type": "stream",
     "text": [
      "\n",
      "Varying Interest Rate Results:\n",
      "PV of Initial Wealth: $100000\n",
      "PV of Labor Income: $275186.9905998779\n",
      "Total PV: $375186.9905998779\n"
     ]
    }
   ],
   "source": [
    "#present value with varying interest rate\n",
    "def varying_rate(t):\n",
    "    return 0.03 + 0.02 * np.sin(t)\n",
    "\n",
    "def present_value_varying(cash_flow, years):\n",
    "    pv = 0\n",
    "    for t in range(1, years + 1):\n",
    "        r_t = varying_rate(t)\n",
    "        R_t = 0.03 * t - 0.02 * np.cos(t)\n",
    "        pv += cash_flow / np.exp(-R_t)\n",
    "    return pv\n",
    "\n",
    "#PV labor income with varying rate\n",
    "pv_labor_varying = present_value_varying(annual_income, years)\n",
    "\n",
    "#total present value with varying rate\n",
    "pv_total_varying = pv_wealth + pv_labor_varying\n",
    "\n",
    "print(\"\\nVarying Interest Rate Results:\")\n",
    "print(f\"PV of Initial Wealth: ${pv_wealth}\")\n",
    "print(f\"PV of Labor Income: ${pv_labor_varying}\")\n",
    "print(f\"Total PV: ${pv_total_varying}\")"
   ]
  },
  {
   "cell_type": "markdown",
   "id": "ff49156c-5d79-45fb-a203-fc2d0ece18db",
   "metadata": {},
   "source": [
    "$$ U = \\int_0^{\\infty} e^{-\\rho t} u(C(t)) \\frac{L(t)}{H} \\, dt $$\n",
    "\n",
    "**Instantaneous Utility Function:**\n",
    "\n",
    "$$ u(C(t)) = \\frac{C(t)^{1-\\theta}}{{1-\\theta}},$$ $$\\text{ where } \\theta > 0 \\text{ and } \\rho - n - (1-\\theta)g > 0.$$"
   ]
  },
  {
   "cell_type": "code",
   "execution_count": 11,
   "id": "5ca02744-995f-4153-9f67-214f7b4a67f2",
   "metadata": {
    "scrolled": true
   },
   "outputs": [
    {
     "name": "stdout",
     "output_type": "stream",
     "text": [
      "Current consumption (c_t): 99\n",
      "Future consumption (c_t + delta(t)): 100.05127109637603\n",
      "Utility of current consumption: 19.8997487421324\n",
      "Utility of future consumption: 20.00512645262469\n"
     ]
    }
   ],
   "source": [
    "#Parameters\n",
    "theta = 0.5 # Risk aversion parameter\n",
    "r = 0.05   # Return on investment\n",
    "c = 100    # Consumption\n",
    "delta_c = 1  # Change in consumption\n",
    "delta_t = 1  # Time period (1 year)\n",
    "\n",
    "def crra_utility(c, theta):\n",
    "    if theta == 1:\n",
    "        return np.log(c)  # Log utility for theta = 1\n",
    "    else:\n",
    "        return (c ** (1 - theta)) / (1 - theta)\n",
    "\n",
    "#current consumption\n",
    "c_t = c - delta_c\n",
    "\n",
    "#future consumption\n",
    "future_investment = delta_c * np.exp(r * delta_t)\n",
    "c_t_plus_dt = c_t + future_investment\n",
    "\n",
    "utility_current = crra_utility(c_t, theta)\n",
    "utility_future = crra_utility(c_t_plus_dt, theta)\n",
    "\n",
    "print(f\"Current consumption (c_t): {c_t}\")\n",
    "print(f\"Future consumption (c_t + delta(t)): {c_t_plus_dt}\")\n",
    "print(f\"Utility of current consumption: {utility_current}\")\n",
    "print(f\"Utility of future consumption: {utility_future}\")"
   ]
  },
  {
   "cell_type": "markdown",
   "id": "652208ae-c992-40f7-ad59-93ce77aae81f",
   "metadata": {},
   "source": [
    "### PV of consumption should not exceed PV of wealth and income"
   ]
  },
  {
   "cell_type": "code",
   "execution_count": 289,
   "id": "5846b98c-d50a-41e9-a9e2-ca6374a859a4",
   "metadata": {},
   "outputs": [
    {
     "name": "stdout",
     "output_type": "stream",
     "text": [
      "Period 1: Condition satisfied. PV of Consumption: 28571.42857142857, Initial Wealth + PV of Income: 147619.04761904763\n",
      "Period 2: Condition satisfied. PV of Consumption: 55782.31292517006, Initial Wealth + PV of Income: 192970.52154195012\n",
      "Period 3: Condition satisfied. PV of Consumption: 81697.44088111434, Initial Wealth + PV of Income: 236162.40146852392\n",
      "Period 4: Condition satisfied. PV of Consumption: 106378.51512487078, Initial Wealth + PV of Income: 277297.525208118\n",
      "Period 5: Condition satisfied. PV of Consumption: 129884.30011892456, Initial Wealth + PV of Income: 316473.83353154093\n",
      "\n",
      "final condition achieved: total PV of consumption is less than or equal to initial wealth + total PV of income.\n"
     ]
    },
    {
     "data": {
      "image/png": "[encoded data removed]",
      "text/plain": [
       "<Figure size 1000x600 with 1 Axes>"
      ]
     },
     "metadata": {},
     "output_type": "display_data"
    }
   ],
   "source": [
    "#parameters\n",
    "initial_wealth = 100000  \n",
    "annual_income = 50000     \n",
    "annual_consumption = 30000 \n",
    "years = 5                  \n",
    "interest_rate = 0.05     \n",
    "\n",
    "#function to calculate pv\n",
    "def present_value(cash_flow, rate, time):\n",
    "    return cash_flow / ((1 + rate) ** time)\n",
    "\n",
    "#calculate present values for each year\n",
    "pv_income = []\n",
    "pv_consumption = []\n",
    "total_pv_income = 0\n",
    "total_pv_consumption = 0\n",
    "\n",
    "for t in range(1, years + 1):\n",
    "    pv_income_t = present_value(annual_income, interest_rate, t)\n",
    "    pv_consumption_t = present_value(annual_consumption, interest_rate, t)\n",
    "    \n",
    "    total_pv_income += pv_income_t\n",
    "    total_pv_consumption += pv_consumption_t\n",
    "    \n",
    "    pv_income.append(total_pv_income)\n",
    "    pv_consumption.append(total_pv_consumption)\n",
    "    \n",
    "    if total_pv_consumption > (initial_wealth + total_pv_income):\n",
    "        print(f\"Period {t}: Condition not satisfied. PV of Consumption: {total_pv_consumption}, \"\n",
    "              f\"Initial Wealth + PV of Income: {initial_wealth + total_pv_income}\")\n",
    "    else:\n",
    "        print(f\"Period {t}: Condition satisfied. PV of Consumption: {total_pv_consumption}, \"\n",
    "              f\"Initial Wealth + PV of Income: {initial_wealth + total_pv_income}\")\n",
    "\n",
    "#final check\n",
    "if total_pv_consumption <= (initial_wealth + total_pv_income):\n",
    "    print(\"\\nfinal condition achieved: total PV of consumption is less than or equal to initial wealth + total PV of income.\")\n",
    "else:\n",
    "    print(\"\\nfinal condition not achieved: total PV of consumption exceeds initial wealth + total PV of income.\")\n",
    "\n",
    "plt.figure(figsize=(10, 6))\n",
    "years_range = np.arange(1, years + 1)\n",
    "\n",
    "plt.plot(years_range, pv_income, marker='o', label='Total PV of Income', color='blue')\n",
    "plt.plot(years_range, pv_consumption, marker='o', label='Total PV of Consumption', color='orange')\n",
    "\n",
    "plt.axhline(y=initial_wealth, color='green', linestyle='--', label='Initial Wealth')\n",
    "\n",
    "plt.title('Present Value of Income and Consumption Over Time')\n",
    "plt.xlabel('Years')\n",
    "plt.ylabel('Present Value ($)')\n",
    "plt.xticks(years_range)\n",
    "plt.grid()\n",
    "plt.legend()\n",
    "plt.tight_layout()\n",
    "plt.show()"
   ]
  },
  {
   "cell_type": "markdown",
   "id": "b624e42b-628e-4dd9-9d25-d4063c6e86c6",
   "metadata": {},
   "source": [
    "## Exercise"
   ]
  },
  {
   "cell_type": "markdown",
   "id": "4f10694a-34f6-420f-9888-db868cb94b6a",
   "metadata": {},
   "source": [
    "### below are the consumptions at each time period\n",
    "\n",
    "Period 1: 10\n",
    "\n",
    "Period 2: 12\n",
    "\n",
    "Period 3: 14\n",
    "\n",
    "Period 4: 16\n",
    "\n",
    "Period 5: 18\n",
    "\n",
    "Parameters:\n",
    "\n",
    "Coefficient of relative risk aversion ($\\theta: 0.5$)\n",
    "\n",
    "Discount factor $β: 0.95$\n",
    "\n",
    "Questions:\n",
    "\n",
    "Discrete Utility Calculation:\n",
    "\n",
    "Calculate the total utility for the agent using the discrete CRRA utility function."
   ]
  },
  {
   "cell_type": "code",
   "execution_count": null,
   "id": "181f5414-46d5-4ae0-9091-bca663c2edde",
   "metadata": {},
   "outputs": [],
   "source": []
  }
 ],
 "metadata": {
  "kernelspec": {
   "display_name": "Python 3 (ipykernel)",
   "language": "python",
   "name": "python3"
  },
  "language_info": {
   "codemirror_mode": {
    "name": "ipython",
    "version": 3
   },
   "file_extension": ".py",
   "mimetype": "text/x-python",
   "name": "python",
   "nbconvert_exporter": "python",
   "pygments_lexer": "ipython3",
   "version": "3.12.7"
  }
 },
 "nbformat": 4,
 "nbformat_minor": 5
}
