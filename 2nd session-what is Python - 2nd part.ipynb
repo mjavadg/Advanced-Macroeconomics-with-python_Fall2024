{
 "cells": [
  {
   "cell_type": "markdown",
   "id": "2289b13e",
   "metadata": {},
   "source": [
    "# Second Session"
   ]
  },
  {
   "cell_type": "markdown",
   "id": "d7c75733",
   "metadata": {},
   "source": [
    "## What is python? part 2"
   ]
  },
  {
   "cell_type": "markdown",
   "id": "aa8db9b1",
   "metadata": {},
   "source": [
    "## 2. Sequential data type"
   ]
  },
  {
   "cell_type": "markdown",
   "id": "c725e241",
   "metadata": {},
   "source": [
    "### 1. Strings \n",
    "#### continuation\n",
    "\n",
    "- As we said we can use quotations to define them, but there is another way as well:"
   ]
  },
  {
   "cell_type": "code",
   "execution_count": 3,
   "id": "773aec9f",
   "metadata": {},
   "outputs": [],
   "source": [
    "string1 = \"2nd session\""
   ]
  },
  {
   "cell_type": "code",
   "execution_count": 4,
   "id": "41835493",
   "metadata": {},
   "outputs": [
    {
     "data": {
      "text/plain": [
       "str"
      ]
     },
     "execution_count": 4,
     "metadata": {},
     "output_type": "execute_result"
    }
   ],
   "source": [
    "type(string1)"
   ]
  },
  {
   "cell_type": "code",
   "execution_count": 5,
   "id": "e04e2ff9",
   "metadata": {},
   "outputs": [
    {
     "data": {
      "text/plain": [
       "'n'"
      ]
     },
     "execution_count": 5,
     "metadata": {},
     "output_type": "execute_result"
    }
   ],
   "source": [
    "string1[1]"
   ]
  },
  {
   "cell_type": "code",
   "execution_count": 6,
   "id": "f07ec764",
   "metadata": {},
   "outputs": [
    {
     "data": {
      "text/plain": [
       "'2'"
      ]
     },
     "execution_count": 6,
     "metadata": {},
     "output_type": "execute_result"
    }
   ],
   "source": [
    "string1[0] #the first item is 1"
   ]
  },
  {
   "cell_type": "code",
   "execution_count": 9,
   "id": "3e906aa5",
   "metadata": {},
   "outputs": [
    {
     "name": "stdout",
     "output_type": "stream",
     "text": [
      "d\n"
     ]
    }
   ],
   "source": [
    "print(string1[2])"
   ]
  },
  {
   "cell_type": "code",
   "execution_count": 8,
   "id": "28310a33",
   "metadata": {},
   "outputs": [
    {
     "data": {
      "text/plain": [
       "' '"
      ]
     },
     "execution_count": 8,
     "metadata": {},
     "output_type": "execute_result"
    }
   ],
   "source": [
    "string1[3]"
   ]
  },
  {
   "cell_type": "markdown",
   "id": "8db19468",
   "metadata": {},
   "source": [
    "# built-in functions\n",
    "- like print() or type()"
   ]
  },
  {
   "cell_type": "markdown",
   "id": "9764b260",
   "metadata": {},
   "source": [
    "## len()"
   ]
  },
  {
   "cell_type": "code",
   "execution_count": 10,
   "id": "b1ecf223",
   "metadata": {},
   "outputs": [
    {
     "data": {
      "text/plain": [
       "11"
      ]
     },
     "execution_count": 10,
     "metadata": {},
     "output_type": "execute_result"
    }
   ],
   "source": [
    "len(string1)"
   ]
  },
  {
   "cell_type": "code",
   "execution_count": 13,
   "id": "b6d88c0d",
   "metadata": {},
   "outputs": [
    {
     "data": {
      "text/plain": [
       "'n'"
      ]
     },
     "execution_count": 13,
     "metadata": {},
     "output_type": "execute_result"
    }
   ],
   "source": [
    "string1[10]"
   ]
  },
  {
   "cell_type": "code",
   "execution_count": 15,
   "id": "35faab31",
   "metadata": {},
   "outputs": [
    {
     "ename": "TypeError",
     "evalue": "'str' object does not support item assignment",
     "output_type": "error",
     "traceback": [
      "\u001b[1;31m---------------------------------------------------------------------------\u001b[0m",
      "\u001b[1;31mTypeError\u001b[0m                                 Traceback (most recent call last)",
      "\u001b[1;32m~\\AppData\\Local\\Temp\\ipykernel_17008\\2720335921.py\u001b[0m in \u001b[0;36m<module>\u001b[1;34m\u001b[0m\n\u001b[1;32m----> 1\u001b[1;33m \u001b[0mstring1\u001b[0m\u001b[1;33m[\u001b[0m\u001b[1;36m10\u001b[0m\u001b[1;33m]\u001b[0m \u001b[1;33m=\u001b[0m \u001b[1;34m\"m\"\u001b[0m\u001b[1;33m\u001b[0m\u001b[1;33m\u001b[0m\u001b[0m\n\u001b[0m",
      "\u001b[1;31mTypeError\u001b[0m: 'str' object does not support item assignment"
     ]
    }
   ],
   "source": [
    "string1[10] = \"m\""
   ]
  },
  {
   "cell_type": "markdown",
   "id": "dd142aa8",
   "metadata": {},
   "source": [
    "## We should use string methods then\n",
    "- dir() for displaying the methods and magic methods\n",
    "\n",
    "- replace(), upper(), startswith(), lower()"
   ]
  },
  {
   "cell_type": "code",
   "execution_count": 21,
   "id": "cd8d957a",
   "metadata": {},
   "outputs": [],
   "source": [
    "#dir(str)"
   ]
  },
  {
   "cell_type": "markdown",
   "id": "69950514",
   "metadata": {},
   "source": [
    "# Functions vs methods\n",
    "\n",
    "- methods are data type dependent"
   ]
  },
  {
   "cell_type": "code",
   "execution_count": 18,
   "id": "840e1918",
   "metadata": {},
   "outputs": [
    {
     "data": {
      "text/plain": [
       "'2ND SESSION'"
      ]
     },
     "execution_count": 18,
     "metadata": {},
     "output_type": "execute_result"
    }
   ],
   "source": [
    "string1.upper()"
   ]
  },
  {
   "cell_type": "code",
   "execution_count": 19,
   "id": "e34287f2",
   "metadata": {},
   "outputs": [
    {
     "ename": "AttributeError",
     "evalue": "'str' object has no attribute 'remove'",
     "output_type": "error",
     "traceback": [
      "\u001b[1;31m---------------------------------------------------------------------------\u001b[0m",
      "\u001b[1;31mAttributeError\u001b[0m                            Traceback (most recent call last)",
      "\u001b[1;32m~\\AppData\\Local\\Temp\\ipykernel_17008\\1513241067.py\u001b[0m in \u001b[0;36m<module>\u001b[1;34m\u001b[0m\n\u001b[1;32m----> 1\u001b[1;33m \u001b[0mstring1\u001b[0m\u001b[1;33m.\u001b[0m\u001b[0mremove\u001b[0m\u001b[1;33m(\u001b[0m\u001b[1;34m\"2\"\u001b[0m\u001b[1;33m)\u001b[0m\u001b[1;33m\u001b[0m\u001b[1;33m\u001b[0m\u001b[0m\n\u001b[0m",
      "\u001b[1;31mAttributeError\u001b[0m: 'str' object has no attribute 'remove'"
     ]
    }
   ],
   "source": [
    "string1.remove(\"2\")"
   ]
  },
  {
   "cell_type": "code",
   "execution_count": 23,
   "id": "1b6b9fa1",
   "metadata": {},
   "outputs": [
    {
     "data": {
      "text/plain": [
       "False"
      ]
     },
     "execution_count": 23,
     "metadata": {},
     "output_type": "execute_result"
    }
   ],
   "source": [
    " string1.startswith(\"L\")"
   ]
  },
  {
   "cell_type": "code",
   "execution_count": 26,
   "id": "30b76dd9",
   "metadata": {},
   "outputs": [
    {
     "data": {
      "text/plain": [
       "True"
      ]
     },
     "execution_count": 26,
     "metadata": {},
     "output_type": "execute_result"
    }
   ],
   "source": [
    " string1.endswith(\"n\")"
   ]
  },
  {
   "cell_type": "code",
   "execution_count": 27,
   "id": "4b5feb49",
   "metadata": {},
   "outputs": [
    {
     "data": {
      "text/plain": [
       "'2md sessiom'"
      ]
     },
     "execution_count": 27,
     "metadata": {},
     "output_type": "execute_result"
    }
   ],
   "source": [
    "string1.replace(\"n\", \"m\") #shift + tap to see the guide"
   ]
  },
  {
   "cell_type": "code",
   "execution_count": 28,
   "id": "ca4473d1",
   "metadata": {},
   "outputs": [
    {
     "data": {
      "text/plain": [
       "'2nd session'"
      ]
     },
     "execution_count": 28,
     "metadata": {},
     "output_type": "execute_result"
    }
   ],
   "source": [
    "string1.replace(\"m\", \"n\", 10)"
   ]
  },
  {
   "cell_type": "code",
   "execution_count": 30,
   "id": "4036702d",
   "metadata": {},
   "outputs": [],
   "source": [
    "number1 = 12"
   ]
  },
  {
   "cell_type": "code",
   "execution_count": 31,
   "id": "238adac9",
   "metadata": {},
   "outputs": [
    {
     "data": {
      "text/plain": [
       "'12'"
      ]
     },
     "execution_count": 31,
     "metadata": {},
     "output_type": "execute_result"
    }
   ],
   "source": [
    "str(number1)"
   ]
  },
  {
   "cell_type": "code",
   "execution_count": 32,
   "id": "2a17f3da",
   "metadata": {},
   "outputs": [
    {
     "data": {
      "text/plain": [
       "int"
      ]
     },
     "execution_count": 32,
     "metadata": {},
     "output_type": "execute_result"
    }
   ],
   "source": [
    "type(number1)"
   ]
  },
  {
   "cell_type": "code",
   "execution_count": 56,
   "id": "c9358451",
   "metadata": {},
   "outputs": [
    {
     "name": "stdout",
     "output_type": "stream",
     "text": [
      "<class 'str'>\n",
      "12\n"
     ]
    }
   ],
   "source": [
    "number1 = str(number1)\n",
    "print(type(number1))\n",
    "print(number1)"
   ]
  },
  {
   "cell_type": "markdown",
   "id": "b805e1fe",
   "metadata": {},
   "source": [
    "## 2. Lists\n",
    "\n",
    "- Defined by [] or list() function"
   ]
  },
  {
   "cell_type": "code",
   "execution_count": 53,
   "id": "af3a428f",
   "metadata": {},
   "outputs": [
    {
     "data": {
      "text/plain": [
       "[1, 2, 3, 4, 5]"
      ]
     },
     "execution_count": 53,
     "metadata": {},
     "output_type": "execute_result"
    }
   ],
   "source": [
    "[1, 2, 3, 4, 5] #homogenuous"
   ]
  },
  {
   "cell_type": "markdown",
   "id": "c49174b2",
   "metadata": {},
   "source": [
    "### Two types of data structures\n",
    "- homogenuous\n",
    "- non-homogenuous"
   ]
  },
  {
   "cell_type": "code",
   "execution_count": 54,
   "id": "f4c1586c",
   "metadata": {},
   "outputs": [
    {
     "data": {
      "text/plain": [
       "[1, 2, 3, 4, 5, 'a', 'b', 'c']"
      ]
     },
     "execution_count": 54,
     "metadata": {},
     "output_type": "execute_result"
    }
   ],
   "source": [
    "[1, 2, 3, 4, 5, \"a\", \"b\", \"c\"] #non-homogenuous"
   ]
  },
  {
   "cell_type": "code",
   "execution_count": 86,
   "id": "0d36b3a9",
   "metadata": {},
   "outputs": [
    {
     "data": {
      "text/plain": [
       "list"
      ]
     },
     "execution_count": 86,
     "metadata": {},
     "output_type": "execute_result"
    }
   ],
   "source": [
    "type([1, 2, 3, 4, 5])"
   ]
  },
  {
   "cell_type": "code",
   "execution_count": 87,
   "id": "91f743bf",
   "metadata": {},
   "outputs": [
    {
     "data": {
      "text/plain": [
       "['2', 'n', 'd', ' ', 's', 'e', 's', 's', 'i', 'o', 'n']"
      ]
     },
     "execution_count": 87,
     "metadata": {},
     "output_type": "execute_result"
    }
   ],
   "source": [
    "list(string1)"
   ]
  },
  {
   "cell_type": "code",
   "execution_count": 88,
   "id": "d818181f",
   "metadata": {},
   "outputs": [],
   "source": [
    "list1 = list(string1)"
   ]
  },
  {
   "cell_type": "code",
   "execution_count": 89,
   "id": "0a1ec146",
   "metadata": {},
   "outputs": [
    {
     "name": "stdout",
     "output_type": "stream",
     "text": [
      "['2', 'n', 'd', ' ', 's', 'e', 's', 's', 'i', 'o', 'n']\n"
     ]
    }
   ],
   "source": [
    "print(list1)"
   ]
  },
  {
   "cell_type": "code",
   "execution_count": 90,
   "id": "88ab03a1",
   "metadata": {},
   "outputs": [
    {
     "data": {
      "text/plain": [
       "'2'"
      ]
     },
     "execution_count": 90,
     "metadata": {},
     "output_type": "execute_result"
    }
   ],
   "source": [
    "list1[0]"
   ]
  },
  {
   "cell_type": "code",
   "execution_count": 91,
   "id": "02020aa6",
   "metadata": {},
   "outputs": [
    {
     "data": {
      "text/plain": [
       "'n'"
      ]
     },
     "execution_count": 91,
     "metadata": {},
     "output_type": "execute_result"
    }
   ],
   "source": [
    "list1[1]"
   ]
  },
  {
   "cell_type": "code",
   "execution_count": 92,
   "id": "286e97c1",
   "metadata": {},
   "outputs": [
    {
     "data": {
      "text/plain": [
       "3"
      ]
     },
     "execution_count": 92,
     "metadata": {},
     "output_type": "execute_result"
    }
   ],
   "source": [
    "[1, 2, 3, 4, 5, \"a\", \"b\", \"c\"][2]"
   ]
  },
  {
   "cell_type": "code",
   "execution_count": 93,
   "id": "229ca79e",
   "metadata": {},
   "outputs": [
    {
     "data": {
      "text/plain": [
       "str"
      ]
     },
     "execution_count": 93,
     "metadata": {},
     "output_type": "execute_result"
    }
   ],
   "source": [
    "type(list1[5])"
   ]
  },
  {
   "cell_type": "code",
   "execution_count": 94,
   "id": "f1ab8435",
   "metadata": {},
   "outputs": [],
   "source": [
    "list2 = [1, 2, 3, 4, 5, \"a\", \"b\", \"c\"]"
   ]
  },
  {
   "cell_type": "code",
   "execution_count": 95,
   "id": "c7a8a8d1",
   "metadata": {},
   "outputs": [
    {
     "data": {
      "text/plain": [
       "int"
      ]
     },
     "execution_count": 95,
     "metadata": {},
     "output_type": "execute_result"
    }
   ],
   "source": [
    "type(list2[0])"
   ]
  },
  {
   "cell_type": "code",
   "execution_count": 96,
   "id": "5aced3a2",
   "metadata": {},
   "outputs": [
    {
     "data": {
      "text/plain": [
       "str"
      ]
     },
     "execution_count": 96,
     "metadata": {},
     "output_type": "execute_result"
    }
   ],
   "source": [
    "type(list2[5])"
   ]
  },
  {
   "cell_type": "code",
   "execution_count": 97,
   "id": "c4951748",
   "metadata": {},
   "outputs": [
    {
     "data": {
      "text/plain": [
       "'a'"
      ]
     },
     "execution_count": 97,
     "metadata": {},
     "output_type": "execute_result"
    }
   ],
   "source": [
    "list2[5]"
   ]
  },
  {
   "cell_type": "code",
   "execution_count": 98,
   "id": "160e3e75",
   "metadata": {},
   "outputs": [],
   "source": [
    "list2[5] = 7 #more flexible than strings"
   ]
  },
  {
   "cell_type": "code",
   "execution_count": 99,
   "id": "6d42939b",
   "metadata": {},
   "outputs": [
    {
     "data": {
      "text/plain": [
       "[1, 2, 3, 4, 5, 7, 'b', 'c']"
      ]
     },
     "execution_count": 99,
     "metadata": {},
     "output_type": "execute_result"
    }
   ],
   "source": [
    "list2"
   ]
  },
  {
   "cell_type": "code",
   "execution_count": 100,
   "id": "26d0af91",
   "metadata": {},
   "outputs": [],
   "source": [
    "#dir(list)"
   ]
  },
  {
   "cell_type": "markdown",
   "id": "0b084324",
   "metadata": {},
   "source": [
    " 'append',\n",
    " 'clear',\n",
    " 'copy',\n",
    " 'count',\n",
    " 'extend',\n",
    " 'index',\n",
    " 'insert',\n",
    " 'pop',\n",
    " 'remove',\n",
    " 'reverse',\n",
    " 'sort'"
   ]
  },
  {
   "cell_type": "code",
   "execution_count": 101,
   "id": "ebc81f7f",
   "metadata": {},
   "outputs": [],
   "source": [
    "list1.append(\"students participate in the class\")"
   ]
  },
  {
   "cell_type": "code",
   "execution_count": 102,
   "id": "a9c5f18b",
   "metadata": {
    "scrolled": true
   },
   "outputs": [
    {
     "data": {
      "text/plain": [
       "['2',\n",
       " 'n',\n",
       " 'd',\n",
       " ' ',\n",
       " 's',\n",
       " 'e',\n",
       " 's',\n",
       " 's',\n",
       " 'i',\n",
       " 'o',\n",
       " 'n',\n",
       " 'students participate in the class']"
      ]
     },
     "execution_count": 102,
     "metadata": {},
     "output_type": "execute_result"
    }
   ],
   "source": [
    "list1"
   ]
  },
  {
   "cell_type": "code",
   "execution_count": 103,
   "id": "0c955676",
   "metadata": {},
   "outputs": [
    {
     "data": {
      "text/plain": [
       "12"
      ]
     },
     "execution_count": 103,
     "metadata": {},
     "output_type": "execute_result"
    }
   ],
   "source": [
    "len(list1)"
   ]
  },
  {
   "cell_type": "code",
   "execution_count": 104,
   "id": "7120a4bd",
   "metadata": {},
   "outputs": [
    {
     "ename": "ValueError",
     "evalue": "list.remove(x): x not in list",
     "output_type": "error",
     "traceback": [
      "\u001b[1;31m---------------------------------------------------------------------------\u001b[0m",
      "\u001b[1;31mValueError\u001b[0m                                Traceback (most recent call last)",
      "\u001b[1;32m~\\AppData\\Local\\Temp\\ipykernel_17008\\2506180474.py\u001b[0m in \u001b[0;36m<module>\u001b[1;34m\u001b[0m\n\u001b[1;32m----> 1\u001b[1;33m \u001b[0mlist1\u001b[0m\u001b[1;33m.\u001b[0m\u001b[0mremove\u001b[0m\u001b[1;33m(\u001b[0m\u001b[1;34m\"students don't participate in the class\"\u001b[0m\u001b[1;33m)\u001b[0m\u001b[1;33m\u001b[0m\u001b[1;33m\u001b[0m\u001b[0m\n\u001b[0m",
      "\u001b[1;31mValueError\u001b[0m: list.remove(x): x not in list"
     ]
    }
   ],
   "source": [
    "list1.remove(\"students don't participate in the class\")"
   ]
  },
  {
   "cell_type": "code",
   "execution_count": 105,
   "id": "ef39574d",
   "metadata": {},
   "outputs": [
    {
     "data": {
      "text/plain": [
       "['2',\n",
       " 'n',\n",
       " 'd',\n",
       " ' ',\n",
       " 's',\n",
       " 'e',\n",
       " 's',\n",
       " 's',\n",
       " 'i',\n",
       " 'o',\n",
       " 'n',\n",
       " 'students participate in the class']"
      ]
     },
     "execution_count": 105,
     "metadata": {},
     "output_type": "execute_result"
    }
   ],
   "source": [
    "list1"
   ]
  },
  {
   "cell_type": "code",
   "execution_count": 106,
   "id": "149dadbb",
   "metadata": {},
   "outputs": [
    {
     "data": {
      "text/plain": [
       "'students participate in the class'"
      ]
     },
     "execution_count": 106,
     "metadata": {},
     "output_type": "execute_result"
    }
   ],
   "source": [
    "list1.pop()"
   ]
  },
  {
   "cell_type": "code",
   "execution_count": 107,
   "id": "35c2a9b9",
   "metadata": {
    "scrolled": true
   },
   "outputs": [
    {
     "data": {
      "text/plain": [
       "['2', 'n', 'd', ' ', 's', 'e', 's', 's', 'i', 'o', 'n']"
      ]
     },
     "execution_count": 107,
     "metadata": {},
     "output_type": "execute_result"
    }
   ],
   "source": [
    "list1"
   ]
  },
  {
   "cell_type": "code",
   "execution_count": 108,
   "id": "1950d767",
   "metadata": {},
   "outputs": [],
   "source": [
    "popped_item = list1.pop()"
   ]
  },
  {
   "cell_type": "code",
   "execution_count": 109,
   "id": "ef5d16ef",
   "metadata": {},
   "outputs": [
    {
     "name": "stdout",
     "output_type": "stream",
     "text": [
      "the last item was n\n"
     ]
    }
   ],
   "source": [
    "print(\"the last item was\", popped_item)"
   ]
  },
  {
   "cell_type": "code",
   "execution_count": 125,
   "id": "92b172ae",
   "metadata": {},
   "outputs": [
    {
     "data": {
      "text/plain": [
       "4"
      ]
     },
     "execution_count": 125,
     "metadata": {},
     "output_type": "execute_result"
    }
   ],
   "source": [
    "list1.index(\"s\")"
   ]
  },
  {
   "cell_type": "code",
   "execution_count": 126,
   "id": "eb535d94",
   "metadata": {},
   "outputs": [],
   "source": [
    "list3 = [1, 2, 3, \"a\"]"
   ]
  },
  {
   "cell_type": "code",
   "execution_count": 127,
   "id": "7d7dd0e4",
   "metadata": {},
   "outputs": [],
   "source": [
    "list3.append(\"Hello\")"
   ]
  },
  {
   "cell_type": "code",
   "execution_count": 128,
   "id": "f0285d52",
   "metadata": {},
   "outputs": [
    {
     "data": {
      "text/plain": [
       "[1, 2, 3, 'a', 'Hello']"
      ]
     },
     "execution_count": 128,
     "metadata": {},
     "output_type": "execute_result"
    }
   ],
   "source": [
    "list3"
   ]
  },
  {
   "cell_type": "code",
   "execution_count": 129,
   "id": "dcacc187",
   "metadata": {},
   "outputs": [
    {
     "data": {
      "text/plain": [
       "[1, 2, 3, 'a', 'Hello', 'E', 'N', 'G']"
      ]
     },
     "execution_count": 129,
     "metadata": {},
     "output_type": "execute_result"
    }
   ],
   "source": [
    "list3.extend(\"ENG\")\n",
    "list3"
   ]
  },
  {
   "cell_type": "code",
   "execution_count": 130,
   "id": "a5e65a4f",
   "metadata": {},
   "outputs": [
    {
     "data": {
      "text/plain": [
       "[1, 2, 3, 'b', 'a', 'Hello', 'E', 'N', 'G']"
      ]
     },
     "execution_count": 130,
     "metadata": {},
     "output_type": "execute_result"
    }
   ],
   "source": [
    "list3.insert(3, \"b\")\n",
    "list3"
   ]
  },
  {
   "cell_type": "code",
   "execution_count": 133,
   "id": "7f1a43b7",
   "metadata": {},
   "outputs": [
    {
     "data": {
      "text/plain": [
       "[' ',\n",
       " ' ',\n",
       " ' ',\n",
       " ' ',\n",
       " ' ',\n",
       " '1',\n",
       " '2',\n",
       " '2',\n",
       " '3',\n",
       " '4',\n",
       " '5',\n",
       " 'd',\n",
       " 'e',\n",
       " 'i',\n",
       " 'n',\n",
       " 'o',\n",
       " 's',\n",
       " 's',\n",
       " 's']"
      ]
     },
     "execution_count": 133,
     "metadata": {},
     "output_type": "execute_result"
    }
   ],
   "source": [
    "list1.sort()\n",
    "list1"
   ]
  },
  {
   "cell_type": "code",
   "execution_count": 134,
   "id": "8202a43e",
   "metadata": {},
   "outputs": [
    {
     "data": {
      "text/plain": [
       "[1, 2, 3, 'b', 'a', 'Hello', 'E', 'N', 'G']"
      ]
     },
     "execution_count": 134,
     "metadata": {},
     "output_type": "execute_result"
    }
   ],
   "source": [
    "list4 = list3.copy()\n",
    "list4"
   ]
  },
  {
   "cell_type": "markdown",
   "id": "9b61bade",
   "metadata": {},
   "source": [
    "## 3. Tuples\n",
    "\n",
    "- Defined by () or tuple() function"
   ]
  },
  {
   "cell_type": "code",
   "execution_count": 135,
   "id": "7a5e3ecf",
   "metadata": {},
   "outputs": [
    {
     "data": {
      "text/plain": [
       "(1, 2, 3, 4, 'a', 'b')"
      ]
     },
     "execution_count": 135,
     "metadata": {},
     "output_type": "execute_result"
    }
   ],
   "source": [
    "1, 2, 3, 4, \"a\", \"b\""
   ]
  },
  {
   "cell_type": "code",
   "execution_count": 136,
   "id": "8df97133",
   "metadata": {},
   "outputs": [
    {
     "data": {
      "text/plain": [
       "tuple"
      ]
     },
     "execution_count": 136,
     "metadata": {},
     "output_type": "execute_result"
    }
   ],
   "source": [
    "type((1, 2, 3, 4, 'a', 'b'))"
   ]
  },
  {
   "cell_type": "code",
   "execution_count": 137,
   "id": "fdc0fe38",
   "metadata": {},
   "outputs": [
    {
     "data": {
      "text/plain": [
       "(1, 2, 3, 'b', 'a', 'Hello', 'E', 'N', 'G')"
      ]
     },
     "execution_count": 137,
     "metadata": {},
     "output_type": "execute_result"
    }
   ],
   "source": [
    "tuplee = tuple(list4)\n",
    "tuplee"
   ]
  },
  {
   "cell_type": "code",
   "execution_count": 138,
   "id": "abf94bd2",
   "metadata": {},
   "outputs": [
    {
     "name": "stdout",
     "output_type": "stream",
     "text": [
      "('2', 'n', 'd', ' ', 's', 'e', 's', 's', 'i', 'o', 'n')\n"
     ]
    }
   ],
   "source": [
    "print(tuple(string1))"
   ]
  },
  {
   "cell_type": "code",
   "execution_count": 140,
   "id": "74205187",
   "metadata": {},
   "outputs": [],
   "source": [
    "#dir(tuple)"
   ]
  },
  {
   "cell_type": "markdown",
   "id": "6398f0c1",
   "metadata": {},
   "source": [
    "## tuple's methods\n",
    "- 'count',\n",
    " 'index'"
   ]
  },
  {
   "cell_type": "code",
   "execution_count": 141,
   "id": "683cf2cd",
   "metadata": {},
   "outputs": [
    {
     "data": {
      "text/plain": [
       "1"
      ]
     },
     "execution_count": 141,
     "metadata": {},
     "output_type": "execute_result"
    }
   ],
   "source": [
    "tuplee.count(1)"
   ]
  },
  {
   "cell_type": "code",
   "execution_count": 142,
   "id": "958ad324",
   "metadata": {},
   "outputs": [
    {
     "data": {
      "text/plain": [
       "1"
      ]
     },
     "execution_count": 142,
     "metadata": {},
     "output_type": "execute_result"
    }
   ],
   "source": [
    "tuplee.index(2)"
   ]
  },
  {
   "cell_type": "code",
   "execution_count": 151,
   "id": "005dcdfb",
   "metadata": {},
   "outputs": [
    {
     "data": {
      "text/plain": [
       "3"
      ]
     },
     "execution_count": 151,
     "metadata": {},
     "output_type": "execute_result"
    }
   ],
   "source": [
    "tuplee.index(\"b\", 3)"
   ]
  },
  {
   "cell_type": "markdown",
   "id": "d0082f1d",
   "metadata": {},
   "source": [
    "# Execises"
   ]
  },
  {
   "cell_type": "markdown",
   "id": "ba345d49",
   "metadata": {},
   "source": [
    "## 1. define two lists with and perform addition, subtraction, multiplication, and division between them.\n",
    "\n",
    "## 2. Do the same between tuples.\n",
    "\n",
    "## 3. with which one do you encounter errors? \n",
    "\n",
    "## 4. Are those results that are performed without error, mathematically meaningful?"
   ]
  },
  {
   "cell_type": "code",
   "execution_count": null,
   "id": "37a59659",
   "metadata": {},
   "outputs": [],
   "source": []
  }
 ],
 "metadata": {
  "kernelspec": {
   "display_name": "Python 3 (ipykernel)",
   "language": "python",
   "name": "python3"
  },
  "language_info": {
   "codemirror_mode": {
    "name": "ipython",
    "version": 3
   },
   "file_extension": ".py",
   "mimetype": "text/x-python",
   "name": "python",
   "nbconvert_exporter": "python",
   "pygments_lexer": "ipython3",
   "version": "3.9.13"
  }
 },
 "nbformat": 4,
 "nbformat_minor": 5
}
