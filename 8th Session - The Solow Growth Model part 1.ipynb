{
 "cells": [
  {
   "cell_type": "markdown",
   "metadata": {},
   "source": [
    "# 8th Session"
   ]
  },
  {
   "cell_type": "markdown",
   "metadata": {},
   "source": [
    "# The Solow Growth Model"
   ]
  },
  {
   "cell_type": "markdown",
   "metadata": {},
   "source": [
    "## Assumptions"
   ]
  },
  {
   "cell_type": "markdown",
   "metadata": {},
   "source": [
    "### Output"
   ]
  },
  {
   "cell_type": "markdown",
   "metadata": {},
   "source": [
    "$$ Y(t) = F(K(t), A(t)L(t))$$\n",
    "\n",
    "Y = Output\n",
    "\n",
    "K = Capital\n",
    "\n",
    "L = Labour\n",
    "\n",
    "A = Knowledge\n",
    "\n",
    "AL = effective labor \n",
    "\n"
   ]
  },
  {
   "cell_type": "markdown",
   "metadata": {},
   "source": [
    "### Note:\n",
    "\n",
    "Technological Process of AL $\\rightarrow$ labor-augmenting or Harrod-neutral\n",
    "\n",
    "Technological Process of AK $\\rightarrow$ capital-augmenting\n",
    "\n",
    "Technological Process of $Y = AF(Y, K)$ $\\rightarrow$  Hicks-neutral\n",
    "\n"
   ]
  },
  {
   "cell_type": "markdown",
   "metadata": {},
   "source": [
    "### Assumptions Concerning the Production Function"
   ]
  },
  {
   "cell_type": "markdown",
   "metadata": {},
   "source": [
    "- Constant returns to scale in Labour and Capital\n",
    "\n",
    "- Inputs other than capital, labor, and the effectiveness of labor are relatively unimportant"
   ]
  },
  {
   "cell_type": "markdown",
   "metadata": {},
   "source": [
    "$$ F(\\frac{K}{AL}, 1) = \\frac{1}{AL}F(K, AL)$$\n",
    "\n",
    "$$ k \\equiv \\frac{K}{AL}$$\n",
    "\n",
    "$$ y \\equiv \\frac{Y}{AL}$$\n",
    "\n",
    "$$ f(k) \\equiv F(k, 1)$$\n",
    "\n",
    "$$ y = f(k)$$"
   ]
  },
  {
   "cell_type": "markdown",
   "metadata": {},
   "source": [
    "## Cobb-Douglas Production Function"
   ]
  },
  {
   "cell_type": "markdown",
   "metadata": {},
   "source": [
    "$$ F(K, AL) = K^{\\alpha}(AL)^{1-\\alpha}$$"
   ]
  },
  {
   "cell_type": "markdown",
   "metadata": {},
   "source": [
    "### Intensive Form\n",
    "\n",
    "$f(k) = k^{\\alpha}$\n",
    "\n",
    "### First Derivative\n",
    "\n",
    "$f'(k) = \\alpha k^{\\alpha-1}$\n",
    "\n",
    "### Second Derivative\n",
    "\n",
    "$f''(k) = (\\alpha-1)\\alpha k^{\\alpha-2}$"
   ]
  },
  {
   "cell_type": "markdown",
   "metadata": {},
   "source": [
    "# Production Function and its derivatives Graph"
   ]
  },
  {
   "cell_type": "markdown",
   "metadata": {},
   "source": [
    "### 1st python lesson of this session : taking input from user"
   ]
  },
  {
   "cell_type": "code",
   "execution_count": 15,
   "metadata": {
    "scrolled": true
   },
   "outputs": [
    {
     "name": "stdout",
     "output_type": "stream",
     "text": [
      " hello\n"
     ]
    },
    {
     "data": {
      "text/plain": [
       "'hello'"
      ]
     },
     "execution_count": 15,
     "metadata": {},
     "output_type": "execute_result"
    }
   ],
   "source": [
    "input()"
   ]
  },
  {
   "cell_type": "code",
   "execution_count": 16,
   "metadata": {
    "scrolled": true
   },
   "outputs": [
    {
     "name": "stdout",
     "output_type": "stream",
     "text": [
      " 5\n"
     ]
    },
    {
     "data": {
      "text/plain": [
       "'5'"
      ]
     },
     "execution_count": 16,
     "metadata": {},
     "output_type": "execute_result"
    }
   ],
   "source": [
    "input()"
   ]
  },
  {
   "cell_type": "code",
   "execution_count": 17,
   "metadata": {},
   "outputs": [
    {
     "name": "stdout",
     "output_type": "stream",
     "text": [
      " Toyota\n"
     ]
    }
   ],
   "source": [
    "car_model = input()"
   ]
  },
  {
   "cell_type": "code",
   "execution_count": 18,
   "metadata": {},
   "outputs": [
    {
     "data": {
      "text/plain": [
       "'Toyota'"
      ]
     },
     "execution_count": 18,
     "metadata": {},
     "output_type": "execute_result"
    }
   ],
   "source": [
    "car_model"
   ]
  },
  {
   "cell_type": "code",
   "execution_count": 19,
   "metadata": {
    "scrolled": true
   },
   "outputs": [
    {
     "name": "stdout",
     "output_type": "stream",
     "text": [
      "What is your car's manufacturer?  BMW\n"
     ]
    }
   ],
   "source": [
    "car_model = input(\"What is your car's manufacturer? \")"
   ]
  },
  {
   "cell_type": "code",
   "execution_count": 20,
   "metadata": {},
   "outputs": [
    {
     "name": "stdout",
     "output_type": "stream",
     "text": [
      "How many kilometers has your car traveled?  80\n"
     ]
    }
   ],
   "source": [
    "Kilometers_traveled = input(\"How many kilometers has your car traveled? \")"
   ]
  },
  {
   "cell_type": "markdown",
   "metadata": {},
   "source": [
    "## Pricing: \n",
    "- $ \\frac{1}{2} \\times \\text{Kilometers traveled} \\times 10000$"
   ]
  },
  {
   "cell_type": "code",
   "execution_count": 22,
   "metadata": {
    "scrolled": true
   },
   "outputs": [
    {
     "ename": "TypeError",
     "evalue": "can't multiply sequence by non-int of type 'float'",
     "output_type": "error",
     "traceback": [
      "\u001b[1;31m---------------------------------------------------------------------------\u001b[0m",
      "\u001b[1;31mTypeError\u001b[0m                                 Traceback (most recent call last)",
      "Cell \u001b[1;32mIn[22], line 1\u001b[0m\n\u001b[1;32m----> 1\u001b[0m \u001b[38;5;241;43m0.5\u001b[39;49m\u001b[43m \u001b[49m\u001b[38;5;241;43m*\u001b[39;49m\u001b[43m \u001b[49m\u001b[43mKilometers_traveled\u001b[49m \u001b[38;5;241m*\u001b[39m \u001b[38;5;241m10000\u001b[39m\n",
      "\u001b[1;31mTypeError\u001b[0m: can't multiply sequence by non-int of type 'float'"
     ]
    }
   ],
   "source": [
    "0.5 * Kilometers_traveled * 10000"
   ]
  },
  {
   "cell_type": "code",
   "execution_count": null,
   "metadata": {},
   "outputs": [],
   "source": [
    "type(Kilometers_traveled)"
   ]
  },
  {
   "cell_type": "markdown",
   "metadata": {},
   "source": [
    "#### Thus, the data type that input() creates is always a string. How should we change it to an integer or a float?"
   ]
  },
  {
   "cell_type": "markdown",
   "metadata": {},
   "source": [
    "### 1st method"
   ]
  },
  {
   "cell_type": "code",
   "execution_count": 49,
   "metadata": {},
   "outputs": [
    {
     "name": "stdout",
     "output_type": "stream",
     "text": [
      "How many kilometers has your car traveled?  80\n"
     ]
    }
   ],
   "source": [
    "Kilometers_traveled = int(input(\"How many kilometers has your car traveled? \"))"
   ]
  },
  {
   "cell_type": "code",
   "execution_count": 51,
   "metadata": {},
   "outputs": [
    {
     "data": {
      "text/plain": [
       "400000.0"
      ]
     },
     "execution_count": 51,
     "metadata": {},
     "output_type": "execute_result"
    }
   ],
   "source": [
    "0.5 * Kilometers_traveled * 10000"
   ]
  },
  {
   "cell_type": "markdown",
   "metadata": {},
   "source": [
    "### 2nd method"
   ]
  },
  {
   "cell_type": "code",
   "execution_count": 56,
   "metadata": {},
   "outputs": [
    {
     "name": "stdout",
     "output_type": "stream",
     "text": [
      "How old are you? 50\n"
     ]
    }
   ],
   "source": [
    "age = input(\"How old are you?\" )"
   ]
  },
  {
   "cell_type": "code",
   "execution_count": 58,
   "metadata": {},
   "outputs": [
    {
     "data": {
      "text/plain": [
       "int"
      ]
     },
     "execution_count": 58,
     "metadata": {},
     "output_type": "execute_result"
    }
   ],
   "source": [
    "age1 = int(age)\n",
    "type(age1)"
   ]
  },
  {
   "cell_type": "markdown",
   "metadata": {},
   "source": [
    "## Using input() when defining our function"
   ]
  },
  {
   "cell_type": "code",
   "execution_count": 61,
   "metadata": {},
   "outputs": [
    {
     "name": "stdout",
     "output_type": "stream",
     "text": [
      "Enter a Number Between 0 and 1:  0.5\n"
     ]
    }
   ],
   "source": [
    "def f(k):\n",
    "    return k ** alpha\n",
    "\n",
    "alpha = float(input(\"Enter a Number Between 0 and 1: \"))"
   ]
  },
  {
   "cell_type": "code",
   "execution_count": 63,
   "metadata": {},
   "outputs": [],
   "source": [
    "def f_prime(k):\n",
    "    return alpha * k ** (alpha - 1)"
   ]
  },
  {
   "cell_type": "code",
   "execution_count": 65,
   "metadata": {},
   "outputs": [],
   "source": [
    "def f_prime_prime(k):\n",
    "    return (alpha - 1) * alpha * k ** (alpha - 2)"
   ]
  },
  {
   "cell_type": "code",
   "execution_count": 67,
   "metadata": {},
   "outputs": [],
   "source": [
    "capital = 100\n",
    "f_k = f(capital)\n",
    "f_prime_k = f_prime(capital)\n",
    "f_prime_prime_k = f_prime_prime(capital)"
   ]
  },
  {
   "cell_type": "code",
   "execution_count": 69,
   "metadata": {},
   "outputs": [
    {
     "name": "stdout",
     "output_type": "stream",
     "text": [
      "total output 10.0\n",
      "slope: 0.05\n",
      "Rate of change of the function -0.00025\n"
     ]
    }
   ],
   "source": [
    "print(f\"total output {f_k}\")\n",
    "print(f\"slope: {f_prime_k}\")\n",
    "print(\"Rate of change of the function\", f_prime_prime_k) #type casting"
   ]
  },
  {
   "cell_type": "code",
   "execution_count": 71,
   "metadata": {},
   "outputs": [],
   "source": [
    "#pip install colored"
   ]
  },
  {
   "cell_type": "markdown",
   "metadata": {},
   "source": [
    "### 2nd python lesson of this session : How to force the user to enter the right value?"
   ]
  },
  {
   "cell_type": "markdown",
   "metadata": {},
   "source": [
    "### Break Statement in loops\n",
    "\n",
    "- When the break statement is executed inside a loop, the loop stops running, and the program continues with the next statement after the loop."
   ]
  },
  {
   "cell_type": "code",
   "execution_count": 75,
   "metadata": {},
   "outputs": [
    {
     "name": "stdout",
     "output_type": "stream",
     "text": [
      "0\n",
      "1\n",
      "2\n",
      "3\n",
      "4\n",
      "5\n",
      "6\n",
      "7\n",
      "8\n",
      "9\n"
     ]
    }
   ],
   "source": [
    "for i in range(0, 10):\n",
    "    print(i)"
   ]
  },
  {
   "cell_type": "code",
   "execution_count": 77,
   "metadata": {},
   "outputs": [
    {
     "name": "stdout",
     "output_type": "stream",
     "text": [
      "0\n",
      "1\n",
      "2\n",
      "3\n",
      "4\n"
     ]
    }
   ],
   "source": [
    "for i in range(0, 10):\n",
    "    if i == 5:\n",
    "        break\n",
    "    print(i)"
   ]
  },
  {
   "cell_type": "code",
   "execution_count": 79,
   "metadata": {},
   "outputs": [],
   "source": [
    "from colored import Fore, Back, Style"
   ]
  },
  {
   "cell_type": "code",
   "execution_count": 81,
   "metadata": {},
   "outputs": [
    {
     "name": "stdout",
     "output_type": "stream",
     "text": [
      "Enter a Number Between 0 and 1:  8\n"
     ]
    },
    {
     "name": "stdout",
     "output_type": "stream",
     "text": [
      "Invalid input. Please Enter a number beween 0 and 1.\n"
     ]
    },
    {
     "name": "stdout",
     "output_type": "stream",
     "text": [
      "Enter a Number Between 0 and 1:  0.4\n"
     ]
    }
   ],
   "source": [
    "while True:\n",
    "    alpha = float(input(\"Enter a Number Between 0 and 1: \"))\n",
    "    if 0 < alpha < 1:\n",
    "        break\n",
    "    else:\n",
    "        print(\"Invalid input. Please Enter a number beween 0 and 1.\")"
   ]
  },
  {
   "cell_type": "code",
   "execution_count": 83,
   "metadata": {},
   "outputs": [
    {
     "name": "stdout",
     "output_type": "stream",
     "text": [
      "\u001b[4;58;5;1m\u001b[38;5;1m\u001b[48;5;5mtotal output 6.309573444801933\n",
      "slope: 0.025238293779207735\n",
      "Rate of change of the function -0.0001514297626752463\n"
     ]
    }
   ],
   "source": [
    "capital = 100\n",
    "f_k = f(capital)\n",
    "f_prime_k = f_prime(capital)\n",
    "f_prime_prime_k = f_prime_prime(capital)\n",
    "\n",
    "print(f\"{Style.underline_color(1)}{Fore.red}{Back.magenta}total output {f_k}\")\n",
    "print(f\"slope: {f_prime_k}\")\n",
    "print(\"Rate of change of the function\", f_prime_prime_k) #type casting"
   ]
  },
  {
   "cell_type": "code",
   "execution_count": 85,
   "metadata": {},
   "outputs": [
    {
     "data": {
      "image/png": "[encoded data removed]",
      "text/plain": [
       "<Figure size 1000x600 with 3 Axes>"
      ]
     },
     "metadata": {},
     "output_type": "display_data"
    }
   ],
   "source": [
    "import matplotlib.pyplot as plt\n",
    "import numpy as np\n",
    "\n",
    "fig = plt.figure(figsize = (10, 6))\n",
    "\n",
    "ax1 = fig.add_subplot(1, 3, 1)\n",
    "plt.plot(capital, f_k, marker = '^')\n",
    "\n",
    "ax2 = fig.add_subplot(1, 3, 2)\n",
    "plt.plot(capital, f_prime_k, marker = '^')\n",
    "\n",
    "ax3 = fig.add_subplot(1, 3, 3)\n",
    "plt.plot(capital, f_prime_prime_k, marker = '^')\n",
    "\n",
    "\n",
    "plt.show()"
   ]
  },
  {
   "cell_type": "code",
   "execution_count": 91,
   "metadata": {},
   "outputs": [],
   "source": [
    "#dir(fig)  'add_subplot',"
   ]
  },
  {
   "cell_type": "code",
   "execution_count": 93,
   "metadata": {},
   "outputs": [
    {
     "data": {
      "text/plain": [
       "100"
      ]
     },
     "execution_count": 93,
     "metadata": {},
     "output_type": "execute_result"
    }
   ],
   "source": [
    "capital"
   ]
  },
  {
   "cell_type": "code",
   "execution_count": 95,
   "metadata": {},
   "outputs": [
    {
     "data": {
      "text/plain": [
       "6.309573444801933"
      ]
     },
     "execution_count": 95,
     "metadata": {},
     "output_type": "execute_result"
    }
   ],
   "source": [
    "f_k"
   ]
  },
  {
   "cell_type": "code",
   "execution_count": 97,
   "metadata": {},
   "outputs": [
    {
     "data": {
      "image/png": "[encoded data removed]",
      "text/plain": [
       "<Figure size 1000x600 with 3 Axes>"
      ]
     },
     "metadata": {},
     "output_type": "display_data"
    }
   ],
   "source": [
    "import matplotlib.pyplot as plt\n",
    "import numpy as np\n",
    "\n",
    "range_of_capital = np.linspace(1, 1000, 1000)\n",
    "capital_f = f(range_of_capital)\n",
    "capital_f_prime = f_prime(range_of_capital)\n",
    "capital_f_prime_prime = f_prime_prime(range_of_capital)\n",
    "\n",
    "\n",
    "fig = plt.figure(figsize = (10, 6))\n",
    "\n",
    "ax1 = fig.add_subplot(1, 3, 1)\n",
    "plt.plot(range_of_capital, capital_f, color = \"red\", label = \"total output\")\n",
    "plt.legend()\n",
    "\n",
    "ax2 = fig.add_subplot(1, 3, 2)\n",
    "plt.plot(range_of_capital, capital_f_prime, color = \"magenta\", label = \"first derivative\")\n",
    "plt.legend()\n",
    "\n",
    "ax3 = fig.add_subplot(1, 3, 3)\n",
    "plt.plot(range_of_capital, capital_f_prime_prime, color = \"blue\", label = \"second derivative\")\n",
    "plt.legend()\n",
    "\n",
    "plt.show()"
   ]
  },
  {
   "cell_type": "markdown",
   "metadata": {},
   "source": [
    "# output per worker and capital per worker calculation"
   ]
  },
  {
   "cell_type": "markdown",
   "metadata": {},
   "source": [
    "$$ Y = A(K^{0.5}L^{0.5}) $$\n",
    "\n",
    "$$ A = 1$$\n",
    "\n",
    "$$ K = 64$$\n",
    "\n",
    "$$ L = 25$$"
   ]
  },
  {
   "cell_type": "code",
   "execution_count": 115,
   "metadata": {},
   "outputs": [
    {
     "name": "stdout",
     "output_type": "stream",
     "text": [
      "output is 40.0\n",
      "output per worker is 1.6\n",
      "capital per worker is 2.56\n"
     ]
    }
   ],
   "source": [
    "#potential output\n",
    "\n",
    "A = 1\n",
    "KK = 64\n",
    "LL = 25\n",
    "\n",
    "def Y(K, L):\n",
    "    return A * (K ** 0.5 * L ** 0.5)\n",
    "\n",
    "output = Y(KK, LL)\n",
    "output_per_worker = output / LL\n",
    "capital_per_worker = KK / LL\n",
    "\n",
    "print(f\"output is {output}\")\n",
    "print(f\"output per worker is {output_per_worker}\")\n",
    "print(f\"capital per worker is {capital_per_worker}\")"
   ]
  },
  {
   "cell_type": "markdown",
   "metadata": {},
   "source": [
    "## Percentage increase and decrease"
   ]
  },
  {
   "cell_type": "markdown",
   "metadata": {},
   "source": [
    "### 2nd python lesson of this session : How to make user input cleaner?"
   ]
  },
  {
   "cell_type": "code",
   "execution_count": 119,
   "metadata": {},
   "outputs": [
    {
     "name": "stdout",
     "output_type": "stream",
     "text": [
      "   -17  \n",
      "-17\n"
     ]
    }
   ],
   "source": [
    "user_input = \"   -17  \"\n",
    "print(user_input)\n",
    "cleaned_input = user_input.strip()\n",
    "print(cleaned_input)"
   ]
  },
  {
   "cell_type": "code",
   "execution_count": 121,
   "metadata": {},
   "outputs": [
    {
     "name": "stdout",
     "output_type": "stream",
     "text": [
      "\u001b[38;5;1mEnter percentage change for K (default is 64, enter nothing to keep default):  20\n",
      "\u001b[38;5;1mEnter percentage change for L (default is 25, enter nothing to keep default):  40\n"
     ]
    }
   ],
   "source": [
    "K_percentage_changes = input(f\"{Fore.red}Enter percentage change for K (default is {KK}, enter nothing to keep default): \")\n",
    "L_percentage_changes = input(f\"{Fore.red}Enter percentage change for L (default is {LL}, enter nothing to keep default): \")"
   ]
  },
  {
   "cell_type": "code",
   "execution_count": 123,
   "metadata": {
    "scrolled": true
   },
   "outputs": [
    {
     "name": "stdout",
     "output_type": "stream",
     "text": [
      "output is 51.845925587262876\n",
      "output per worker is 1.481312159636082\n",
      "capital per worker is 2.1942857142857144\n"
     ]
    }
   ],
   "source": [
    "if K_percentage_changes.strip():\n",
    "    KK = KK * (1 + float(K_percentage_changes) / 100) \n",
    "else:\n",
    "    KK = KK\n",
    "\n",
    "if L_percentage_changes.strip():\n",
    "    LL = LL * (1 + float(L_percentage_changes) / 100) \n",
    "else:\n",
    "    LL = LL\n",
    "\n",
    "output_new = Y(KK, LL)\n",
    "output_per_worker_new = output_new / LL\n",
    "capital_per_worker_new = KK / LL\n",
    "\n",
    "print(f\"output is {output_new}\")\n",
    "print(f\"output per worker is {output_per_worker_new}\")\n",
    "print(f\"capital per worker is {capital_per_worker_new}\")"
   ]
  },
  {
   "cell_type": "markdown",
   "metadata": {},
   "source": [
    "# Exercise"
   ]
  },
  {
   "cell_type": "markdown",
   "metadata": {},
   "source": [
    "use the following setup \n",
    "\n",
    "$$ Y = A(K^{0.5}L^{0.5}) $$\n",
    "\n",
    "$$ A = 1$$\n",
    "\n",
    "$$ K = 64$$\n",
    "\n",
    "$$ L = 25$$\n",
    "\n",
    "calculate output, output per worker, and capital per worker with \n",
    "\n",
    "- labor-augmenting tech process\n",
    "\n",
    "- capital-augmenting tech process"
   ]
  },
  {
   "cell_type": "markdown",
   "metadata": {},
   "source": []
  }
 ],
 "metadata": {
  "kernelspec": {
   "display_name": "Python 3",
   "language": "python",
   "name": "python3"
  },
  "language_info": {
   "codemirror_mode": {
    "name": "ipython",
    "version": 3
   },
   "file_extension": ".py",
   "mimetype": "text/x-python",
   "name": "python",
   "nbconvert_exporter": "python",
   "pygments_lexer": "ipython3",
   "version": "3.12.4"
  }
 },
 "nbformat": 4,
 "nbformat_minor": 4
}
